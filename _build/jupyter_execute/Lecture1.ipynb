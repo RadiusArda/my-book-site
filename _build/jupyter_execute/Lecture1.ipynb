{
 "cells": [
  {
   "cell_type": "markdown",
   "id": "e5f6e1f9",
   "metadata": {},
   "source": [
    "# Lecture 1: T-Test and ANOVA"
   ]
  },
  {
   "cell_type": "markdown",
   "id": "d27ec5ac",
   "metadata": {},
   "source": [
    "***"
   ]
  },
  {
   "cell_type": "markdown",
   "id": "c1567fe4",
   "metadata": {},
   "source": [
    "<br>\n",
    "<br>\n",
    "<font face=\"Helvetica\" size=\"3.5px\" color=\"#323752\">In this tutorial, we will focus on two different bivariate analysis: t-test and ANOVA."
   ]
  },
  {
   "cell_type": "markdown",
   "id": "3b81da78",
   "metadata": {},
   "source": [
    "## 1- Importing Dataset, Libraries and Data Organization "
   ]
  },
  {
   "cell_type": "markdown",
   "id": "80959363",
   "metadata": {},
   "source": [
    "<br>\n",
    "<br>\n",
    "<font face=\"Helvetica\" size=\"3.5px\" color=\"#323752\">As always we will import some functions that will be used throughout the tutorial. "
   ]
  },
  {
   "cell_type": "code",
   "execution_count": 1,
   "id": "313c1598",
   "metadata": {},
   "outputs": [
    {
     "ename": "ModuleNotFoundError",
     "evalue": "No module named 'numpy'",
     "output_type": "error",
     "traceback": [
      "\u001b[0;31m---------------------------------------------------------------------------\u001b[0m",
      "\u001b[0;31mModuleNotFoundError\u001b[0m                       Traceback (most recent call last)",
      "\u001b[0;32m/tmp/ipykernel_64596/2060528632.py\u001b[0m in \u001b[0;36m<module>\u001b[0;34m\u001b[0m\n\u001b[0;32m----> 1\u001b[0;31m \u001b[0;32mimport\u001b[0m \u001b[0mnumpy\u001b[0m \u001b[0;32mas\u001b[0m \u001b[0mnp\u001b[0m\u001b[0;34m\u001b[0m\u001b[0;34m\u001b[0m\u001b[0m\n\u001b[0m\u001b[1;32m      2\u001b[0m \u001b[0;32mimport\u001b[0m \u001b[0mpandas\u001b[0m \u001b[0;32mas\u001b[0m \u001b[0mpd\u001b[0m\u001b[0;34m\u001b[0m\u001b[0;34m\u001b[0m\u001b[0m\n\u001b[1;32m      3\u001b[0m \u001b[0;32mimport\u001b[0m \u001b[0mmatplotlib\u001b[0m\u001b[0;34m.\u001b[0m\u001b[0mpyplot\u001b[0m \u001b[0;32mas\u001b[0m \u001b[0mplt\u001b[0m\u001b[0;34m\u001b[0m\u001b[0;34m\u001b[0m\u001b[0m\n\u001b[1;32m      4\u001b[0m \u001b[0;32mimport\u001b[0m \u001b[0mseaborn\u001b[0m \u001b[0;32mas\u001b[0m \u001b[0msns\u001b[0m\u001b[0;34m\u001b[0m\u001b[0;34m\u001b[0m\u001b[0m\n\u001b[1;32m      5\u001b[0m \u001b[0;32mimport\u001b[0m \u001b[0mwarnings\u001b[0m\u001b[0;34m\u001b[0m\u001b[0;34m\u001b[0m\u001b[0m\n",
      "\u001b[0;31mModuleNotFoundError\u001b[0m: No module named 'numpy'"
     ]
    }
   ],
   "source": [
    "import numpy as np\n",
    "import pandas as pd\n",
    "import matplotlib.pyplot as plt\n",
    "import seaborn as sns\n",
    "import warnings\n",
    "import operator\n",
    "import csv\n",
    "from collections import Counter\n",
    "import scipy.stats as stats\n",
    "import ipywidgets as widgets\n",
    "from IPython.display import HTML\n",
    "import random"
   ]
  },
  {
   "cell_type": "markdown",
   "id": "bf2c1f05",
   "metadata": {},
   "source": [
    "<br>\n",
    "<br>\n",
    "<font face=\"Helvetica\" size=\"3px\" color=\"#323752\" >We do not want to see undesired warnings in our report.</font>\n",
    "<br>\n",
    "<br>"
   ]
  },
  {
   "cell_type": "code",
   "execution_count": 2,
   "id": "7088a072",
   "metadata": {},
   "outputs": [],
   "source": [
    "warnings.filterwarnings('ignore')"
   ]
  },
  {
   "cell_type": "markdown",
   "id": "d45e1180",
   "metadata": {},
   "source": [
    "<br>\n",
    "<br>\n",
    "<font face=\"Helvetica\" size=\"3px\" color=\"#323752\" >In the following code cell we will create a function to hide/show code cells. Since some of the code cells that we will create in this tutorial is quite long especially the ones for the widgets. We will call this function inside the cells.</font>\n",
    "<br>\n",
    "<br>"
   ]
  },
  {
   "cell_type": "markdown",
   "id": "361f93e2",
   "metadata": {},
   "source": [
    "<br>\n",
    "<br>\n",
    "<font face=\"Helvetica\" size=\"3px\" color=\"#323752\"> Next, we will read our dataset. In order to see the features in the data we will use info() function."
   ]
  },
  {
   "cell_type": "code",
   "execution_count": 3,
   "id": "6112a4f3",
   "metadata": {},
   "outputs": [
    {
     "name": "stdout",
     "output_type": "stream",
     "text": [
      "<class 'pandas.core.frame.DataFrame'>\n",
      "RangeIndex: 149 entries, 0 to 148\n",
      "Data columns (total 20 columns):\n",
      " #   Column                                      Non-Null Count  Dtype  \n",
      "---  ------                                      --------------  -----  \n",
      " 0   Country name                                149 non-null    object \n",
      " 1   Regional indicator                          149 non-null    object \n",
      " 2   Ladder score                                149 non-null    float64\n",
      " 3   Standard error of ladder score              149 non-null    float64\n",
      " 4   upperwhisker                                149 non-null    float64\n",
      " 5   lowerwhisker                                149 non-null    float64\n",
      " 6   Logged GDP per capita                       149 non-null    float64\n",
      " 7   Social support                              149 non-null    float64\n",
      " 8   Healthy life expectancy                     149 non-null    float64\n",
      " 9   Freedom to make life choices                149 non-null    float64\n",
      " 10  Generosity                                  149 non-null    float64\n",
      " 11  Perceptions of corruption                   149 non-null    float64\n",
      " 12  Ladder score in Dystopia                    149 non-null    float64\n",
      " 13  Explained by: Log GDP per capita            149 non-null    float64\n",
      " 14  Explained by: Social support                149 non-null    float64\n",
      " 15  Explained by: Healthy life expectancy       149 non-null    float64\n",
      " 16  Explained by: Freedom to make life choices  149 non-null    float64\n",
      " 17  Explained by: Generosity                    149 non-null    float64\n",
      " 18  Explained by: Perceptions of corruption     149 non-null    float64\n",
      " 19  Dystopia + residual                         149 non-null    float64\n",
      "dtypes: float64(18), object(2)\n",
      "memory usage: 23.4+ KB\n"
     ]
    }
   ],
   "source": [
    "data1 = pd.read_csv(r'democracy_gdp.csv')\n",
    "data1.info()"
   ]
  },
  {
   "cell_type": "markdown",
   "id": "a972c942",
   "metadata": {},
   "source": [
    "<br>\n",
    "<font face=\"Helvetica\" size=\"3px\" color=\"#323752\"> In the following code cell, we will remove the unnecessary columns and continue with the ones that we will use in the tests."
   ]
  },
  {
   "cell_type": "code",
   "execution_count": 4,
   "id": "a7030e0a",
   "metadata": {},
   "outputs": [],
   "source": [
    "data1 = data1[['Country name', 'Regional indicator', 'Logged GDP per capita', 'upperwhisker', 'Freedom to make life choices', 'Generosity', 'Explained by: Log GDP per capita']]"
   ]
  },
  {
   "cell_type": "markdown",
   "id": "c020bc94",
   "metadata": {},
   "source": [
    "<br>\n",
    "<font face=\"Helvetica\" size=\"3px\" color=\"#323752\"> Next step is changing some of the names of the columns for the sake of understanding."
   ]
  },
  {
   "cell_type": "code",
   "execution_count": 5,
   "id": "d6a88324",
   "metadata": {
    "scrolled": false
   },
   "outputs": [],
   "source": [
    "data1 = data1.rename(columns={'Country name': 'country_name'})\n",
    "data1 = data1.rename(columns={'Freedom to make life choices': 'democracy'})\n",
    "data1 = data1.rename(columns={'Generosity': 'freedom_house'})\n",
    "data1 = data1.rename(columns={'upperwhisker': 'freedom_house_ttest'})"
   ]
  },
  {
   "cell_type": "markdown",
   "id": "341738a1",
   "metadata": {},
   "source": [
    "<br>\n",
    "<font face=\"Helvetica\" size=\"3px\" color=\"#323752\"> In the following cell, we will create a dictionary that use country names as dictionary keys. The main idea is spliting the total data by using country names. Therefore, we can use a country name to call all the data about this country. "
   ]
  },
  {
   "cell_type": "code",
   "execution_count": 6,
   "id": "6d863432",
   "metadata": {},
   "outputs": [],
   "source": [
    "df_dict = {ct: data1[data1.country_name== ct].reset_index(drop=True) for ct in data1['country_name'].unique()}"
   ]
  },
  {
   "cell_type": "markdown",
   "id": "b93e9aef",
   "metadata": {},
   "source": [
    "<br>\n",
    "<font face=\"Helvetica\" size=\"3px\" color=\"#323752\"> In the next step, which is quite important for our tests, we will create freedom house parameters according to their categorization: free, partly free, and not free. Also we will create the number of occurances. "
   ]
  },
  {
   "cell_type": "code",
   "execution_count": 7,
   "id": "726ee201",
   "metadata": {},
   "outputs": [
    {
     "data": {
      "text/html": [
       "<div>\n",
       "<style scoped>\n",
       "    .dataframe tbody tr th:only-of-type {\n",
       "        vertical-align: middle;\n",
       "    }\n",
       "\n",
       "    .dataframe tbody tr th {\n",
       "        vertical-align: top;\n",
       "    }\n",
       "\n",
       "    .dataframe thead th {\n",
       "        text-align: right;\n",
       "    }\n",
       "</style>\n",
       "<table border=\"1\" class=\"dataframe\">\n",
       "  <thead>\n",
       "    <tr style=\"text-align: right;\">\n",
       "      <th></th>\n",
       "      <th>country_name</th>\n",
       "      <th>Regional indicator</th>\n",
       "      <th>Logged GDP per capita</th>\n",
       "      <th>freedom_house_ttest</th>\n",
       "      <th>democracy</th>\n",
       "      <th>freedom_house</th>\n",
       "      <th>Explained by: Log GDP per capita</th>\n",
       "    </tr>\n",
       "  </thead>\n",
       "  <tbody>\n",
       "    <tr>\n",
       "      <th>0</th>\n",
       "      <td>Finland</td>\n",
       "      <td>Western Europe</td>\n",
       "      <td>10.775</td>\n",
       "      <td>1.0</td>\n",
       "      <td>0.949</td>\n",
       "      <td>Free</td>\n",
       "      <td>1.446</td>\n",
       "    </tr>\n",
       "    <tr>\n",
       "      <th>1</th>\n",
       "      <td>Denmark</td>\n",
       "      <td>Western Europe</td>\n",
       "      <td>10.933</td>\n",
       "      <td>1.0</td>\n",
       "      <td>0.946</td>\n",
       "      <td>Free</td>\n",
       "      <td>1.502</td>\n",
       "    </tr>\n",
       "    <tr>\n",
       "      <th>2</th>\n",
       "      <td>Switzerland</td>\n",
       "      <td>Western Europe</td>\n",
       "      <td>11.117</td>\n",
       "      <td>1.0</td>\n",
       "      <td>0.919</td>\n",
       "      <td>Free</td>\n",
       "      <td>1.566</td>\n",
       "    </tr>\n",
       "    <tr>\n",
       "      <th>3</th>\n",
       "      <td>Iceland</td>\n",
       "      <td>Western Europe</td>\n",
       "      <td>10.878</td>\n",
       "      <td>1.0</td>\n",
       "      <td>0.955</td>\n",
       "      <td>Free</td>\n",
       "      <td>1.482</td>\n",
       "    </tr>\n",
       "    <tr>\n",
       "      <th>4</th>\n",
       "      <td>Netherlands</td>\n",
       "      <td>Western Europe</td>\n",
       "      <td>10.932</td>\n",
       "      <td>1.0</td>\n",
       "      <td>0.913</td>\n",
       "      <td>Free</td>\n",
       "      <td>1.501</td>\n",
       "    </tr>\n",
       "    <tr>\n",
       "      <th>...</th>\n",
       "      <td>...</td>\n",
       "      <td>...</td>\n",
       "      <td>...</td>\n",
       "      <td>...</td>\n",
       "      <td>...</td>\n",
       "      <td>...</td>\n",
       "      <td>...</td>\n",
       "    </tr>\n",
       "    <tr>\n",
       "      <th>144</th>\n",
       "      <td>Lesotho</td>\n",
       "      <td>Sub-Saharan Africa</td>\n",
       "      <td>7.926</td>\n",
       "      <td>0.0</td>\n",
       "      <td>0.715</td>\n",
       "      <td>Partly Free</td>\n",
       "      <td>0.451</td>\n",
       "    </tr>\n",
       "    <tr>\n",
       "      <th>145</th>\n",
       "      <td>Botswana</td>\n",
       "      <td>Sub-Saharan Africa</td>\n",
       "      <td>9.782</td>\n",
       "      <td>1.0</td>\n",
       "      <td>0.824</td>\n",
       "      <td>Free</td>\n",
       "      <td>1.099</td>\n",
       "    </tr>\n",
       "    <tr>\n",
       "      <th>146</th>\n",
       "      <td>Rwanda</td>\n",
       "      <td>Sub-Saharan Africa</td>\n",
       "      <td>7.676</td>\n",
       "      <td>1.0</td>\n",
       "      <td>0.897</td>\n",
       "      <td>Free</td>\n",
       "      <td>0.364</td>\n",
       "    </tr>\n",
       "    <tr>\n",
       "      <th>147</th>\n",
       "      <td>Zimbabwe</td>\n",
       "      <td>Sub-Saharan Africa</td>\n",
       "      <td>7.943</td>\n",
       "      <td>0.0</td>\n",
       "      <td>0.677</td>\n",
       "      <td>Partly Free</td>\n",
       "      <td>0.457</td>\n",
       "    </tr>\n",
       "    <tr>\n",
       "      <th>148</th>\n",
       "      <td>Afghanistan</td>\n",
       "      <td>South Asia</td>\n",
       "      <td>7.695</td>\n",
       "      <td>0.0</td>\n",
       "      <td>0.382</td>\n",
       "      <td>Not Free</td>\n",
       "      <td>0.370</td>\n",
       "    </tr>\n",
       "  </tbody>\n",
       "</table>\n",
       "<p>149 rows × 7 columns</p>\n",
       "</div>"
      ],
      "text/plain": [
       "    country_name  Regional indicator  Logged GDP per capita  \\\n",
       "0        Finland      Western Europe                 10.775   \n",
       "1        Denmark      Western Europe                 10.933   \n",
       "2    Switzerland      Western Europe                 11.117   \n",
       "3        Iceland      Western Europe                 10.878   \n",
       "4    Netherlands      Western Europe                 10.932   \n",
       "..           ...                 ...                    ...   \n",
       "144      Lesotho  Sub-Saharan Africa                  7.926   \n",
       "145     Botswana  Sub-Saharan Africa                  9.782   \n",
       "146       Rwanda  Sub-Saharan Africa                  7.676   \n",
       "147     Zimbabwe  Sub-Saharan Africa                  7.943   \n",
       "148  Afghanistan          South Asia                  7.695   \n",
       "\n",
       "     freedom_house_ttest  democracy freedom_house  \\\n",
       "0                    1.0      0.949          Free   \n",
       "1                    1.0      0.946          Free   \n",
       "2                    1.0      0.919          Free   \n",
       "3                    1.0      0.955          Free   \n",
       "4                    1.0      0.913          Free   \n",
       "..                   ...        ...           ...   \n",
       "144                  0.0      0.715   Partly Free   \n",
       "145                  1.0      0.824          Free   \n",
       "146                  1.0      0.897          Free   \n",
       "147                  0.0      0.677   Partly Free   \n",
       "148                  0.0      0.382      Not Free   \n",
       "\n",
       "     Explained by: Log GDP per capita  \n",
       "0                               1.446  \n",
       "1                               1.502  \n",
       "2                               1.566  \n",
       "3                               1.482  \n",
       "4                               1.501  \n",
       "..                                ...  \n",
       "144                             0.451  \n",
       "145                             1.099  \n",
       "146                             0.364  \n",
       "147                             0.457  \n",
       "148                             0.370  \n",
       "\n",
       "[149 rows x 7 columns]"
      ]
     },
     "execution_count": 7,
     "metadata": {},
     "output_type": "execute_result"
    }
   ],
   "source": [
    "free=0\n",
    "partly_free=0\n",
    "not_free=0\n",
    "\n",
    "for x in range(len(data1['democracy'])):\n",
    "    if data1['democracy'][x]> 0.8:\n",
    "        data1['freedom_house'][x] ='Free'\n",
    "        data1['freedom_house_ttest'][x]=1\n",
    "        free=free+1\n",
    "    elif data1['democracy'][x]<=0.8 and data1['democracy'][x]>= 0.6:\n",
    "        data1['freedom_house'][x] ='Partly Free'\n",
    "        data1['freedom_house_ttest'][x]=0\n",
    "        partly_free=partly_free+1\n",
    "    elif data1['democracy'][x]<0.6:\n",
    "        data1['freedom_house'][x] ='Not Free'\n",
    "        data1['freedom_house_ttest'][x]=0\n",
    "        not_free=not_free+1\n",
    "data1"
   ]
  },
  {
   "cell_type": "markdown",
   "id": "cbe27ef8",
   "metadata": {},
   "source": [
    "<br>\n",
    "<font face=\"Helvetica\" size=\"3px\" color=\"#323752\"> In order to see the statistical descriptions of the variables, we will use the describe() function."
   ]
  },
  {
   "cell_type": "code",
   "execution_count": 8,
   "id": "08c63c05",
   "metadata": {},
   "outputs": [
    {
     "data": {
      "text/html": [
       "<div>\n",
       "<style scoped>\n",
       "    .dataframe tbody tr th:only-of-type {\n",
       "        vertical-align: middle;\n",
       "    }\n",
       "\n",
       "    .dataframe tbody tr th {\n",
       "        vertical-align: top;\n",
       "    }\n",
       "\n",
       "    .dataframe thead th {\n",
       "        text-align: right;\n",
       "    }\n",
       "</style>\n",
       "<table border=\"1\" class=\"dataframe\">\n",
       "  <thead>\n",
       "    <tr style=\"text-align: right;\">\n",
       "      <th></th>\n",
       "      <th>Logged GDP per capita</th>\n",
       "      <th>freedom_house_ttest</th>\n",
       "      <th>democracy</th>\n",
       "      <th>Explained by: Log GDP per capita</th>\n",
       "    </tr>\n",
       "  </thead>\n",
       "  <tbody>\n",
       "    <tr>\n",
       "      <th>count</th>\n",
       "      <td>149.000000</td>\n",
       "      <td>149.000000</td>\n",
       "      <td>149.000000</td>\n",
       "      <td>149.000000</td>\n",
       "    </tr>\n",
       "    <tr>\n",
       "      <th>mean</th>\n",
       "      <td>9.432208</td>\n",
       "      <td>0.503356</td>\n",
       "      <td>0.791597</td>\n",
       "      <td>0.977161</td>\n",
       "    </tr>\n",
       "    <tr>\n",
       "      <th>std</th>\n",
       "      <td>1.158601</td>\n",
       "      <td>0.501675</td>\n",
       "      <td>0.113332</td>\n",
       "      <td>0.404740</td>\n",
       "    </tr>\n",
       "    <tr>\n",
       "      <th>min</th>\n",
       "      <td>6.635000</td>\n",
       "      <td>0.000000</td>\n",
       "      <td>0.382000</td>\n",
       "      <td>0.000000</td>\n",
       "    </tr>\n",
       "    <tr>\n",
       "      <th>25%</th>\n",
       "      <td>8.541000</td>\n",
       "      <td>0.000000</td>\n",
       "      <td>0.718000</td>\n",
       "      <td>0.666000</td>\n",
       "    </tr>\n",
       "    <tr>\n",
       "      <th>50%</th>\n",
       "      <td>9.569000</td>\n",
       "      <td>1.000000</td>\n",
       "      <td>0.804000</td>\n",
       "      <td>1.025000</td>\n",
       "    </tr>\n",
       "    <tr>\n",
       "      <th>75%</th>\n",
       "      <td>10.421000</td>\n",
       "      <td>1.000000</td>\n",
       "      <td>0.877000</td>\n",
       "      <td>1.323000</td>\n",
       "    </tr>\n",
       "    <tr>\n",
       "      <th>max</th>\n",
       "      <td>11.647000</td>\n",
       "      <td>1.000000</td>\n",
       "      <td>0.970000</td>\n",
       "      <td>1.751000</td>\n",
       "    </tr>\n",
       "  </tbody>\n",
       "</table>\n",
       "</div>"
      ],
      "text/plain": [
       "       Logged GDP per capita  freedom_house_ttest   democracy  \\\n",
       "count             149.000000           149.000000  149.000000   \n",
       "mean                9.432208             0.503356    0.791597   \n",
       "std                 1.158601             0.501675    0.113332   \n",
       "min                 6.635000             0.000000    0.382000   \n",
       "25%                 8.541000             0.000000    0.718000   \n",
       "50%                 9.569000             1.000000    0.804000   \n",
       "75%                10.421000             1.000000    0.877000   \n",
       "max                11.647000             1.000000    0.970000   \n",
       "\n",
       "       Explained by: Log GDP per capita  \n",
       "count                        149.000000  \n",
       "mean                           0.977161  \n",
       "std                            0.404740  \n",
       "min                            0.000000  \n",
       "25%                            0.666000  \n",
       "50%                            1.025000  \n",
       "75%                            1.323000  \n",
       "max                            1.751000  "
      ]
     },
     "execution_count": 8,
     "metadata": {},
     "output_type": "execute_result"
    }
   ],
   "source": [
    "data1.describe()"
   ]
  },
  {
   "cell_type": "markdown",
   "id": "5b95885f",
   "metadata": {},
   "source": [
    "## 2- Data Visualization "
   ]
  },
  {
   "cell_type": "markdown",
   "id": "a343100f",
   "metadata": {},
   "source": [
    "<br>\n",
    "<font face=\"Helvetica\" size=\"3px\" color=\"#323752\"> We will start with an observation about the distribution of freedom house classifications."
   ]
  },
  {
   "cell_type": "code",
   "execution_count": 9,
   "id": "89f137bd",
   "metadata": {},
   "outputs": [
    {
     "data": {
      "image/png": "[encoded data removed]",
      "text/plain": [
       "<Figure size 400x400 with 1 Axes>"
      ]
     },
     "metadata": {
      "filenames": {
       "image/png": "/home/arda/Desktop/my-book-files/my-book/_build/jupyter_execute/Lecture1_23_0.png"
      }
     },
     "output_type": "display_data"
    }
   ],
   "source": [
    "fig = plt.figure(figsize=(4, 4))\n",
    "ax = fig.add_axes([0,0,1,1])\n",
    "\n",
    "freedom = ['Free','Not Free','Partly Free']\n",
    "count = {free, not_free, partly_free}\n",
    "\n",
    "plt.title('Freedom Distribution According to Freedom House', fontsize=12, fontweight='bold', pad=20)\n",
    "ax.bar(freedom, count, color = 'orange', width = 0.4)\n",
    "plt.ylabel('Count')\n",
    "plt.show()"
   ]
  },
  {
   "cell_type": "markdown",
   "id": "40f18639",
   "metadata": {},
   "source": [
    "<br>\n",
    "<font face=\"Helvetica\" size=\"3px\" color=\"#323752\"> Next graph will show the GDP per capita distribution by defining the freedom house statuses. We will use the histplot function from seaborn library."
   ]
  },
  {
   "cell_type": "code",
   "execution_count": 10,
   "id": "83d10dbc",
   "metadata": {},
   "outputs": [
    {
     "data": {
      "image/png": "[encoded data removed]",
      "text/plain": [
       "<Figure size 1000x500 with 1 Axes>"
      ]
     },
     "metadata": {
      "filenames": {
       "image/png": "/home/arda/Desktop/my-book-files/my-book/_build/jupyter_execute/Lecture1_25_0.png"
      }
     },
     "output_type": "display_data"
    }
   ],
   "source": [
    "plt.figure(figsize=(10, 5))\n",
    "sns.histplot( x='Logged GDP per capita', data=data1,alpha = .7\n",
    "            ,hue = 'freedom_house',  stat=\"percent\", discrete=True, binwidth=1, multiple=\"stack\", label='freedom_house');\n",
    "sns.set_style(\"whitegrid\", {'axes.grid' : False})\n",
    "plt.title('Logged Gdp per Capita and Freedom House Classifications', fontsize=20, fontweight='bold', pad=20);\n",
    "plt.xlabel('Logged Gdp per Capita ')\n",
    "plt.show()"
   ]
  },
  {
   "cell_type": "markdown",
   "id": "5fec93f4",
   "metadata": {},
   "source": [
    "<br>\n",
    "<font face=\"Helvetica\" size=\"3px\" color=\"#323752\"> In the data organization part, another feature is created. This feature is a binary indicator that shows a country is whether a free country or not. Let's examine the GDP per capita distribution according to this classification. <b> '1'</b> for free countries and <b> '0'</b> for not free countries. "
   ]
  },
  {
   "cell_type": "code",
   "execution_count": 11,
   "id": "c114c660",
   "metadata": {},
   "outputs": [
    {
     "data": {
      "image/png": "[encoded data removed]",
      "text/plain": [
       "<Figure size 1000x500 with 1 Axes>"
      ]
     },
     "metadata": {
      "filenames": {
       "image/png": "/home/arda/Desktop/my-book-files/my-book/_build/jupyter_execute/Lecture1_27_0.png"
      }
     },
     "output_type": "display_data"
    }
   ],
   "source": [
    "#For the t-test we will create binary classification for freedom house\n",
    "plt.figure(figsize=(10, 5))\n",
    "sns.histplot( x='Logged GDP per capita', data=data1,alpha = .7\n",
    "            ,hue = 'freedom_house_ttest',  stat=\"percent\", discrete=True, binwidth=1, multiple=\"stack\", label='freedom_house_ttest');\n",
    "sns.set_style(\"whitegrid\", {'axes.grid' : False})\n",
    "plt.title('Logged Gdp per Capita and Freedom House Classifications', fontsize=20, fontweight='bold', pad=20);\n",
    "plt.xlabel('Logged Gdp per Capita ')\n",
    "plt.show()"
   ]
  },
  {
   "cell_type": "markdown",
   "id": "c3efb30c",
   "metadata": {},
   "source": [
    "## 3- T-test"
   ]
  },
  {
   "cell_type": "markdown",
   "id": "ef040a74",
   "metadata": {},
   "source": [
    "<br>\n",
    "<font face=\"Helvetica\" size=\"3px\" color=\"#323752\">The main focus of this section is to introduce hypothesis testing and illustrate with a few examples in Python. Whatever be the concept, its execution can be done easily with programming languages like Python. But, the most important part is drawing inference out of the output and it is highly recommended to know the math behind the executed code."
   ]
  },
  {
   "cell_type": "markdown",
   "id": "cd0ebae7",
   "metadata": {},
   "source": [
    "<br>\n",
    "<font face=\"Helvetica\" size=\"3px\" color=\"#323752\">Hypothesis testing is important in statistics because it gives statistical evidence to show the validity of the study. The null hypothesis states that there is no statistical significance exists between sets of data which implies that the population parameter will be equal to a hypothesized value. Usually, We state the alternative hypothesis which we want to prove. For a null hypothesis H0 and its complementary alternative hypothesis H1, there are 3 cases when the parametric value under H0 ≠ H1 or H0 < H1 or H0 > H1."
   ]
  },
  {
   "cell_type": "markdown",
   "id": "648e00e0",
   "metadata": {},
   "source": [
    "<br>\n",
    "<font face=\"Helvetica\" size=\"3px\" color=\"#323752\">In the first test we will apply an one sample t-test, whether the population mean, is less than 9. We will use the GDP per capita as our data now."
   ]
  },
  {
   "cell_type": "markdown",
   "id": "698a17e1",
   "metadata": {},
   "source": [
    "<br>\n",
    "<font face=\"Helvetica\" size=\"3px\" color=\"#323752\"> H0: There is no significant mean difference in Logged GDP per capita. i.e., μ = 9\n",
    "<br>\n",
    "H1: The population mean is less than 9. i.e., μ < 9"
   ]
  },
  {
   "cell_type": "code",
   "execution_count": 12,
   "id": "15f5918d",
   "metadata": {},
   "outputs": [
    {
     "name": "stdout",
     "output_type": "stream",
     "text": [
      "Test statistic is 4.553569\n",
      "p-value for one tailed test is 0.000011\n",
      "Conclusion, since p-value(0.000011) < alpha(0.05) We reject the null hypothesis H0. \n",
      "So we conclude that there is no significant mean difference in GDP per capita. i.e., μ = 9 at 0.05 level of significance.\n"
     ]
    }
   ],
   "source": [
    "gdp = data1['Logged GDP per capita']\n",
    "mu = 9\n",
    "\n",
    "from scipy import stats\n",
    "\n",
    "t_value,p_value=stats.ttest_1samp(gdp,mu)\n",
    "one_tailed_p_value=float(\"{:.6f}\".format(p_value/2)) # Since alternative hypothesis is one tailed, We need to divide the p value by 2.\n",
    "\n",
    "print('Test statistic is %f'%float(\"{:.6f}\".format(t_value)))\n",
    "print('p-value for one tailed test is %f'%float(\"{:.10f}\".format(p_value)))\n",
    "\n",
    "alpha = 0.05\n",
    "if one_tailed_p_value<=alpha:\n",
    "    print('Conclusion, since p-value(%f)'%p_value,'<','alpha(%.2f)'%alpha,'''We reject the null hypothesis H0. \n",
    "So we conclude that there is no significant mean difference in GDP per capita. i.e., μ = 9 at %.2f level of significance.'''%alpha)\n",
    "else:\n",
    "    print('Conclusion','n','Since p-value(=%f)'%one_tailed_p_value,'>','alpha(=%.2f)'%alpha,'''We do not reject the null hypothesis H0.''')"
   ]
  },
  {
   "cell_type": "markdown",
   "id": "222b7fb8",
   "metadata": {},
   "source": [
    "<br>\n",
    "<font face=\"Helvetica\" size=\"3px\" color=\"#323752\"> To understand the other case, I determined the hypothesis mean as the mean of the data. Lets's check the output below."
   ]
  },
  {
   "cell_type": "code",
   "execution_count": 13,
   "id": "d91a1ca7",
   "metadata": {},
   "outputs": [
    {
     "name": "stdout",
     "output_type": "stream",
     "text": [
      "Test statistic is :\n",
      "3.7429952460779064e-14\n",
      "p-value for one tailed test is 0.500000\n",
      "Conclusion n Since p-value(=0.500000) > alpha(=0.05). We do not reject the null hypothesis H0.\n"
     ]
    }
   ],
   "source": [
    "gdp = data1['Logged GDP per capita']\n",
    "mu = data1['Logged GDP per capita'].mean()\n",
    "\n",
    "from scipy import stats\n",
    "\n",
    "t_value,p_value=stats.ttest_1samp(gdp,mu)\n",
    "one_tailed_p_value=float(\"{:.6f}\".format(p_value/2)) # Since alternative hypothesis is one tailed, We need to divide the p value by 2.\n",
    "print('Test statistic is :')\n",
    "print(t_value)\n",
    "print('p-value for one tailed test is %f'%one_tailed_p_value)\n",
    "\n",
    "alpha = 0.05\n",
    "if one_tailed_p_value<=alpha:\n",
    "    print('Conclusion','n','Since p-value(=%f)'%p_value,'<','alpha(=%.2f)'%alpha,'''We reject the null hypothesis H0. \n",
    "        So we conclude that there is no significant mean difference in GDP per capita. i.e., μ = 9 at %.2f level of significance'''%alpha)\n",
    "else:\n",
    "\n",
    "    print('Conclusion','n','Since p-value(=%f)'%one_tailed_p_value,'>','alpha(=%.2f).'%alpha,'''We do not reject the null hypothesis H0.''')"
   ]
  },
  {
   "cell_type": "markdown",
   "id": "b2cbe77b",
   "metadata": {},
   "source": [
    "<br>\n",
    "<font face=\"Helvetica\" size=\"3px\" color=\"#323752\"> In the following test, we will use two sample, one is freedom house classifications the other one is GDP per capita. "
   ]
  },
  {
   "cell_type": "code",
   "execution_count": 14,
   "id": "22b5bb76",
   "metadata": {
    "scrolled": true
   },
   "outputs": [
    {
     "name": "stdout",
     "output_type": "stream",
     "text": [
      "Test statistic is 86.325644\n",
      "p-value for two tailed test is:\n",
      "6.675281120389064e-212\n",
      "\n",
      "Conclusion, since p-value(=0.000000) < alpha(=0.05). We reject the null hypothesis H0. So, we conclude that μ1 = μ2 at 0.05 level of significance.\n"
     ]
    }
   ],
   "source": [
    "gdp = data1['Logged GDP per capita']\n",
    "freedom = data1['freedom_house_ttest']\n",
    "\n",
    "t_value,p_value=stats.ttest_ind(gdp,freedom)\n",
    "\n",
    "print('Test statistic is %f'%float(\"{:.10f}\".format(t_value)))\n",
    "\n",
    "print('p-value for two tailed test is:' )\n",
    "print(p_value)\n",
    "      \n",
    "alpha = 0.05\n",
    "\n",
    "if p_value<=alpha:\n",
    "    print('')\n",
    "    print('Conclusion, since p-value(=%f)'%p_value,'<','alpha(=%.2f).'%alpha,'''We reject the null hypothesis H0. So, we conclude that μ1 = μ2 at %.2f level of significance.'''%alpha)\n",
    "else:\n",
    "    print('Conclusion, since p-value(=%f)'%p_value,'>','alpha(=%.2f).'%alpha,'''We do not reject the null hypothesis H0.''')"
   ]
  },
  {
   "cell_type": "markdown",
   "id": "deee6419",
   "metadata": {},
   "source": [
    "## 4- T-Test Interactive Widget"
   ]
  },
  {
   "cell_type": "markdown",
   "id": "c9380105",
   "metadata": {},
   "source": [
    "<br>\n",
    "<font face=\"Helvetica\"  size=\"3px\" color=\"#323752\"> In the following section, we will create an interactive widget. For the kernel density distribution, we will use Logged GDP per capital. User can change the test type (one-tail, two-tailed) and alpha level.    "
   ]
  },
  {
   "cell_type": "code",
   "execution_count": 15,
   "id": "57fbbc61",
   "metadata": {},
   "outputs": [
    {
     "data": {
      "application/vnd.jupyter.widget-view+json": {
       "model_id": "88a0fd239ba74691a052f7e45fd94a18",
       "version_major": 2,
       "version_minor": 0
      },
      "text/plain": [
       "interactive(children=(Dropdown(description='Test:', options=('one-tail', 'two-tail'), value='one-tail'), Dropd…"
      ]
     },
     "metadata": {},
     "output_type": "display_data"
    }
   ],
   "source": [
    "a = widgets.Dropdown(\n",
    "    options=['0.05', '0.01', '0.001'],\n",
    "    value='0.05',\n",
    "    description='α level:',\n",
    "    disabled=False,\n",
    "    continuous_update=False\n",
    ")\n",
    "\n",
    "\n",
    "c = widgets.Dropdown(\n",
    "    options=['one-tail', 'two-tail'],\n",
    "    value='one-tail',\n",
    "    description='Test:',\n",
    "    disabled=False,\n",
    "    continuous_update=False\n",
    ")\n",
    "\n",
    "def two_tail(tail,value):\n",
    "    \n",
    "    values_2 = np.array(data1['Logged GDP per capita'])\n",
    "    plt.figure()\n",
    "    \n",
    "    if tail == 'one-tail':\n",
    "        if value == '0.05':\n",
    "            mult = 1.645\n",
    "        elif value == '0.01':\n",
    "            mult = 2.33\n",
    "        elif value == '0.001':\n",
    "            mult = 3.1\n",
    "        two_std_from_mean = np.mean(values_2) + np.std(values_2)*mult\n",
    "        kde = stats.gaussian_kde(values_2)\n",
    "        pos = np.linspace(np.min(values_2)-10, np.max(values_2)+10, 10000)\n",
    "        plt.plot(pos, kde(pos), color='teal')\n",
    "\n",
    "        shade = np.linspace(two_std_from_mean, np.max(values_2)+10, 300)\n",
    "        plt.fill_between(shade, kde(shade), alpha=0.45, color='teal')\n",
    "\n",
    "        plt.axvline(two_std_from_mean, 0, 1, color ='gray',linestyle='--')\n",
    "\n",
    "        plt.title(\"Logged GDP per capita T-Test Widget\", y=1.015, fontsize=15)\n",
    "        plt.xlabel(\"Logged GDP per capita\", labelpad=14)\n",
    "        plt.ylabel(\"frequency of occurence\", labelpad=14)\n",
    "    \n",
    "    elif tail == 'two-tail':\n",
    "        if value == '0.05':\n",
    "            mult = 1.96\n",
    "        elif value == '0.01':\n",
    "            mult = 2.575\n",
    "        elif value == '0.001':\n",
    "            mult = 3.29\n",
    "        \n",
    "        alpha_05_positive = np.mean(values_2) + np.std(values_2)*mult\n",
    "        alpha_05_negative = np.mean(values_2) - np.std(values_2)*mult\n",
    "        kde = stats.gaussian_kde(values_2)\n",
    "        pos = np.linspace(np.min(values_2)-10, np.max(values_2)+10, 10000)\n",
    "        \n",
    "        plt.plot(pos, kde(pos), color='dodgerblue')\n",
    "\n",
    "        shade = np.linspace(alpha_05_positive, np.max(values_2)+10, 300)\n",
    "        plt.fill_between(shade, kde(shade), alpha=0.45, color='dodgerblue')\n",
    "\n",
    "        shade2 = np.linspace(alpha_05_negative, np.min(values_2)-10, 300)\n",
    "        plt.fill_between(shade2, kde(shade2), alpha=0.45, color='dodgerblue')\n",
    "\n",
    "        plt.axvline(alpha_05_positive, 0, 1, color ='gray',linestyle='--')\n",
    "        plt.axvline(alpha_05_negative, 0, 1, color ='gray',linestyle='--')\n",
    "\n",
    "        plt.title(\"Logged GDP per capita T-Test Widget\", y=1.015, fontsize=15)\n",
    "        plt.xlabel(\"Logged GDP per capita\", labelpad=14)\n",
    "        plt.ylabel(\"frequency of occurence\", labelpad=14)\n",
    "\n",
    "widgets.interact(two_tail, value=a, tail=c);"
   ]
  },
  {
   "cell_type": "markdown",
   "id": "4d8a10ce",
   "metadata": {},
   "source": [
    "## 5- ANOVA"
   ]
  },
  {
   "cell_type": "markdown",
   "id": "e317be39",
   "metadata": {},
   "source": [
    "<br>\n",
    "<font face=\"Helvetica\"  size=\"3px\" color=\"#323752\"><b>ANOVA</b> test is a way to find out if survey or experiment results are significant. In other words, they help you to figure out if you need to reject the null hypothesis or accept the alternate hypothesis."
   ]
  },
  {
   "cell_type": "markdown",
   "id": "faa5063d",
   "metadata": {},
   "source": [
    "<br>\n",
    "<font face=\"Helvetica\"  size=\"3px\" color=\"#323752\"> In the first part, we will rely on <b>Pingouin</b> library. "
   ]
  },
  {
   "cell_type": "code",
   "execution_count": 16,
   "id": "9d5d251b",
   "metadata": {},
   "outputs": [
    {
     "data": {
      "text/html": [
       "<div>\n",
       "<style scoped>\n",
       "    .dataframe tbody tr th:only-of-type {\n",
       "        vertical-align: middle;\n",
       "    }\n",
       "\n",
       "    .dataframe tbody tr th {\n",
       "        vertical-align: top;\n",
       "    }\n",
       "\n",
       "    .dataframe thead th {\n",
       "        text-align: right;\n",
       "    }\n",
       "</style>\n",
       "<table border=\"1\" class=\"dataframe\">\n",
       "  <thead>\n",
       "    <tr style=\"text-align: right;\">\n",
       "      <th></th>\n",
       "      <th>Source</th>\n",
       "      <th>SS</th>\n",
       "      <th>DF</th>\n",
       "      <th>MS</th>\n",
       "      <th>F</th>\n",
       "      <th>p-unc</th>\n",
       "      <th>np2</th>\n",
       "    </tr>\n",
       "  </thead>\n",
       "  <tbody>\n",
       "    <tr>\n",
       "      <th>0</th>\n",
       "      <td>freedom_house</td>\n",
       "      <td>23.714478</td>\n",
       "      <td>2</td>\n",
       "      <td>11.857239</td>\n",
       "      <td>9.894903</td>\n",
       "      <td>0.000093</td>\n",
       "      <td>0.119367</td>\n",
       "    </tr>\n",
       "    <tr>\n",
       "      <th>1</th>\n",
       "      <td>Within</td>\n",
       "      <td>174.954405</td>\n",
       "      <td>146</td>\n",
       "      <td>1.198318</td>\n",
       "      <td>NaN</td>\n",
       "      <td>NaN</td>\n",
       "      <td>NaN</td>\n",
       "    </tr>\n",
       "  </tbody>\n",
       "</table>\n",
       "</div>"
      ],
      "text/plain": [
       "          Source          SS   DF         MS         F     p-unc       np2\n",
       "0  freedom_house   23.714478    2  11.857239  9.894903  0.000093  0.119367\n",
       "1         Within  174.954405  146   1.198318       NaN       NaN       NaN"
      ]
     },
     "execution_count": 16,
     "metadata": {},
     "output_type": "execute_result"
    }
   ],
   "source": [
    "import pingouin as pg\n",
    "\n",
    "aov = pg.anova(data=data1, dv='Logged GDP per capita', between='freedom_house', detailed=True)\n",
    "aov"
   ]
  },
  {
   "cell_type": "markdown",
   "id": "7b0df6ac",
   "metadata": {},
   "source": [
    "<br>\n",
    "<font face=\"Helvetica\"  size=\"3px\" color=\"#323752\"> As we can see, we have a <b>p-value</b> below the threshold, so there is a significant difference between the various groups."
   ]
  },
  {
   "cell_type": "markdown",
   "id": "2d614a71",
   "metadata": {},
   "source": [
    "<br>\n",
    "<font face=\"Helvetica\"  size=\"3px\" color=\"#323752\"> We can also use <b>scipy</b> tools to implement ANOVA. Let's get started by importing <b>f</b> function."
   ]
  },
  {
   "cell_type": "code",
   "execution_count": 17,
   "id": "2d0c658c",
   "metadata": {},
   "outputs": [],
   "source": [
    "from scipy.stats import f"
   ]
  },
  {
   "cell_type": "markdown",
   "id": "1624daa2",
   "metadata": {},
   "source": [
    "<br>\n",
    "<font face=\"Helvetica\"  size=\"3px\" color=\"#323752\"> Next, we will choose data columns that we will use."
   ]
  },
  {
   "cell_type": "code",
   "execution_count": 18,
   "id": "99e2fc4c",
   "metadata": {},
   "outputs": [
    {
     "data": {
      "text/html": [
       "<div>\n",
       "<style scoped>\n",
       "    .dataframe tbody tr th:only-of-type {\n",
       "        vertical-align: middle;\n",
       "    }\n",
       "\n",
       "    .dataframe tbody tr th {\n",
       "        vertical-align: top;\n",
       "    }\n",
       "\n",
       "    .dataframe thead th {\n",
       "        text-align: right;\n",
       "    }\n",
       "</style>\n",
       "<table border=\"1\" class=\"dataframe\">\n",
       "  <thead>\n",
       "    <tr style=\"text-align: right;\">\n",
       "      <th></th>\n",
       "      <th>Logged GDP per capita</th>\n",
       "      <th>freedom_house_ttest</th>\n",
       "    </tr>\n",
       "  </thead>\n",
       "  <tbody>\n",
       "    <tr>\n",
       "      <th>0</th>\n",
       "      <td>10.775</td>\n",
       "      <td>1.0</td>\n",
       "    </tr>\n",
       "    <tr>\n",
       "      <th>1</th>\n",
       "      <td>10.933</td>\n",
       "      <td>1.0</td>\n",
       "    </tr>\n",
       "    <tr>\n",
       "      <th>2</th>\n",
       "      <td>11.117</td>\n",
       "      <td>1.0</td>\n",
       "    </tr>\n",
       "    <tr>\n",
       "      <th>3</th>\n",
       "      <td>10.878</td>\n",
       "      <td>1.0</td>\n",
       "    </tr>\n",
       "    <tr>\n",
       "      <th>4</th>\n",
       "      <td>10.932</td>\n",
       "      <td>1.0</td>\n",
       "    </tr>\n",
       "    <tr>\n",
       "      <th>...</th>\n",
       "      <td>...</td>\n",
       "      <td>...</td>\n",
       "    </tr>\n",
       "    <tr>\n",
       "      <th>144</th>\n",
       "      <td>7.926</td>\n",
       "      <td>0.0</td>\n",
       "    </tr>\n",
       "    <tr>\n",
       "      <th>145</th>\n",
       "      <td>9.782</td>\n",
       "      <td>1.0</td>\n",
       "    </tr>\n",
       "    <tr>\n",
       "      <th>146</th>\n",
       "      <td>7.676</td>\n",
       "      <td>1.0</td>\n",
       "    </tr>\n",
       "    <tr>\n",
       "      <th>147</th>\n",
       "      <td>7.943</td>\n",
       "      <td>0.0</td>\n",
       "    </tr>\n",
       "    <tr>\n",
       "      <th>148</th>\n",
       "      <td>7.695</td>\n",
       "      <td>0.0</td>\n",
       "    </tr>\n",
       "  </tbody>\n",
       "</table>\n",
       "<p>149 rows × 2 columns</p>\n",
       "</div>"
      ],
      "text/plain": [
       "     Logged GDP per capita  freedom_house_ttest\n",
       "0                   10.775                  1.0\n",
       "1                   10.933                  1.0\n",
       "2                   11.117                  1.0\n",
       "3                   10.878                  1.0\n",
       "4                   10.932                  1.0\n",
       "..                     ...                  ...\n",
       "144                  7.926                  0.0\n",
       "145                  9.782                  1.0\n",
       "146                  7.676                  1.0\n",
       "147                  7.943                  0.0\n",
       "148                  7.695                  0.0\n",
       "\n",
       "[149 rows x 2 columns]"
      ]
     },
     "execution_count": 18,
     "metadata": {},
     "output_type": "execute_result"
    }
   ],
   "source": [
    "data2 = data1[['Logged GDP per capita','freedom_house_ttest']]\n",
    "data2"
   ]
  },
  {
   "cell_type": "markdown",
   "id": "a77eb994",
   "metadata": {},
   "source": [
    "<br>\n",
    "<font face=\"Helvetica\"  size=\"3px\" color=\"#323752\"> The first step to perform an ANOVA test is to calculate the <b>SST (total sum of squares)</b>, the <b>SSW (total sum of squares within)</b>, and the <b>SSB (total sum of squares between)</b>, and the corresponding degrees of freedom. They calculated as following:"
   ]
  },
  {
   "cell_type": "markdown",
   "id": "70f8ac2f",
   "metadata": {},
   "source": [
    "<br>\n",
    "<font face=\"Helvetica\"  size=\"3px\" color=\"#323752\"><b>SST</b> is the sum of the squared distance between each data point and the mean of the dataset. The degrees of freedom, in this case, is the number of groups m times the number of data points n in each group, and then we subtract 1, i.e., m•n -1."
   ]
  },
  {
   "cell_type": "markdown",
   "id": "622b2992",
   "metadata": {},
   "source": [
    "<br>\n",
    "<font face=\"Helvetica\"  size=\"3px\" color=\"#323752\"><b>SSW</b> is the sum of the squared distance between each data point and the respective group mean. The degrees of freedom is the number of groups times the number of data points minus 1, i.e., m•(n -1)."
   ]
  },
  {
   "cell_type": "markdown",
   "id": "522d24af",
   "metadata": {},
   "source": [
    "<br>\n",
    "<font face=\"Helvetica\"  size=\"3px\" color=\"#323752\"><b>SSB</b> is the sum of the squared distance between each group mean and the mean of the dataset for each data point. The degrees of freedom is the number of groups minus 1, i.e., m -1. "
   ]
  },
  {
   "cell_type": "code",
   "execution_count": 19,
   "id": "b24dee72",
   "metadata": {},
   "outputs": [],
   "source": [
    "m = data2.shape[1]\n",
    "n = data2.shape[0]"
   ]
  },
  {
   "cell_type": "code",
   "execution_count": 20,
   "id": "00c74f6d",
   "metadata": {},
   "outputs": [
    {
     "data": {
      "text/plain": [
       "6175.385322822148"
      ]
     },
     "execution_count": 20,
     "metadata": {},
     "output_type": "execute_result"
    }
   ],
   "source": [
    "SST = np.sum(np.sum((data2 - np.mean(np.mean(data2)))**2))\n",
    "SST"
   ]
  },
  {
   "cell_type": "code",
   "execution_count": 21,
   "id": "caf8841a",
   "metadata": {},
   "outputs": [
    {
     "data": {
      "text/plain": [
       "297"
      ]
     },
     "execution_count": 21,
     "metadata": {},
     "output_type": "execute_result"
    }
   ],
   "source": [
    "data2_sst = m*n-1\n",
    "data2_sst"
   ]
  },
  {
   "cell_type": "code",
   "execution_count": 22,
   "id": "6463b701",
   "metadata": {},
   "outputs": [
    {
     "data": {
      "text/plain": [
       "235.9172046979866"
      ]
     },
     "execution_count": 22,
     "metadata": {},
     "output_type": "execute_result"
    }
   ],
   "source": [
    "SSW = np.sum(np.sum((data2 - np.mean(data2))**2))\n",
    "SSW"
   ]
  },
  {
   "cell_type": "code",
   "execution_count": 23,
   "id": "408d4b09",
   "metadata": {},
   "outputs": [
    {
     "data": {
      "text/plain": [
       "296"
      ]
     },
     "execution_count": 23,
     "metadata": {},
     "output_type": "execute_result"
    }
   ],
   "source": [
    "data2_ssw = m*(n-1)\n",
    "data2_ssw"
   ]
  },
  {
   "cell_type": "code",
   "execution_count": 24,
   "id": "17c249a0",
   "metadata": {},
   "outputs": [
    {
     "data": {
      "text/plain": [
       "119.58660640518437"
      ]
     },
     "execution_count": 24,
     "metadata": {},
     "output_type": "execute_result"
    }
   ],
   "source": [
    "SSB = np.sum(np.sum((np.tile(np.mean(data2), (3,1)) - np.mean(np.mean(data2)))**2))\n",
    "SSB"
   ]
  },
  {
   "cell_type": "code",
   "execution_count": 25,
   "id": "f4e30c1e",
   "metadata": {},
   "outputs": [
    {
     "data": {
      "text/plain": [
       "1"
      ]
     },
     "execution_count": 25,
     "metadata": {},
     "output_type": "execute_result"
    }
   ],
   "source": [
    "data2_ssb = m-1\n",
    "data2_ssb"
   ]
  },
  {
   "cell_type": "markdown",
   "id": "a675c2fd",
   "metadata": {},
   "source": [
    "<br>\n",
    "<font face=\"Helvetica\"  size=\"3px\" color=\"#323752\"> Let’s define our hypothesis test."
   ]
  },
  {
   "cell_type": "markdown",
   "id": "70d22d40",
   "metadata": {},
   "source": [
    "<br>\n",
    "<font face=\"Helvetica\"  size=\"3px\" color=\"#323752\"> As usual, we will assume that our null hypothesis is true and figure out the probability of getting a statistic as extreme or more extreme than the one we get from the data observed. For that, we will use an <b>F-statistic</b>, which is basically a ratio of two <b>chi-square statistics</b>. It is actually the ratio of two of the metrics calculated above divided by their respective degrees of freedom:"
   ]
  },
  {
   "cell_type": "markdown",
   "id": "d286e5ee",
   "metadata": {},
   "source": [
    "<br>\n",
    "<font face=\"Helvetica\"  size=\"3px\" color=\"#323752\"> The idea is that if the numerator is significantly larger than the denominator, this should make us believe that there is a difference between the true populations' means. Conversely, if the denominator is significantly larger, it means that the variation within each sample is a bigger percentage of the total variation when compared with the variation between the samples. Thus, any difference we could observe in the means is probably just a result of random chance."
   ]
  },
  {
   "cell_type": "code",
   "execution_count": 26,
   "id": "b92f7438",
   "metadata": {},
   "outputs": [
    {
     "data": {
      "text/plain": [
       "150.04261999988282"
      ]
     },
     "execution_count": 26,
     "metadata": {},
     "output_type": "execute_result"
    }
   ],
   "source": [
    "F = (SSB/data2_ssb)/(SSW/data2_ssw)\n",
    "F"
   ]
  },
  {
   "cell_type": "code",
   "execution_count": 27,
   "id": "4978693d",
   "metadata": {},
   "outputs": [
    {
     "data": {
      "text/plain": [
       "3.8730662237529048"
      ]
     },
     "execution_count": 27,
     "metadata": {},
     "output_type": "execute_result"
    }
   ],
   "source": [
    "f.ppf(0.95, dfn=data2_ssb, dfd=data2_ssw)"
   ]
  },
  {
   "cell_type": "markdown",
   "id": "c9df515e",
   "metadata": {},
   "source": [
    "<br>\n",
    "<font face=\"Helvetica\"  size=\"3px\" color=\"#323752\"> Now, we can calculate our p-value. Let’s use a significance level of 0.1."
   ]
  },
  {
   "cell_type": "code",
   "execution_count": 28,
   "id": "ec63d118",
   "metadata": {},
   "outputs": [
    {
     "data": {
      "text/plain": [
       "2.220446049250313e-16"
      ]
     },
     "execution_count": 28,
     "metadata": {},
     "output_type": "execute_result"
    }
   ],
   "source": [
    "p_value = (1 - f.cdf(F, dfn=data2_ssb, dfd=data2_ssw))*2\n",
    "p_value"
   ]
  },
  {
   "cell_type": "code",
   "execution_count": 29,
   "id": "a52316db",
   "metadata": {},
   "outputs": [
    {
     "name": "stdout",
     "output_type": "stream",
     "text": [
      "Reject H_0\n"
     ]
    }
   ],
   "source": [
    "if p_value<0.1:\n",
    "    print('Reject H_0')\n",
    "else:\n",
    "    print('Accept H_0')"
   ]
  },
  {
   "cell_type": "markdown",
   "id": "5add3498",
   "metadata": {},
   "source": [
    "<br>\n",
    "<font face=\"Helvetica\"  size=\"3px\" color=\"#323752\"> We see that the p-value is smaller than the significance level, which makes us reject the null hypothesis. There is enough evidence to accept a difference between the populations’ means that does not come from chance alone or from the variance within each group."
   ]
  }
 ],
 "metadata": {
  "kernelspec": {
   "display_name": "Python 3",
   "language": "python",
   "name": "python3"
  },
  "language_info": {
   "codemirror_mode": {
    "name": "ipython",
    "version": 3
   },
   "file_extension": ".py",
   "mimetype": "text/x-python",
   "name": "python",
   "nbconvert_exporter": "python",
   "pygments_lexer": "ipython3",
   "version": "3.8.10"
  }
 },
 "nbformat": 4,
 "nbformat_minor": 5
}