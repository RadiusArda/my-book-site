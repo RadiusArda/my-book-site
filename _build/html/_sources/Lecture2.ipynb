{
 "cells": [
  {
   "cell_type": "markdown",
   "id": "019a6c1b",
   "metadata": {
    "extensions": {
     "jupyter_dashboards": {
      "version": 1,
      "views": {
       "default_view": {
        "col": 0,
        "height": 3,
        "row": 0,
        "width": 12
       },
       "grid_default": {
        "col": null,
        "height": 2,
        "hidden": true,
        "row": null,
        "width": 2
       }
      }
     }
    }
   },
   "source": [
    "# Lecture 2: Measures for Association in Categorical Data"
   ]
  },
  {
   "cell_type": "markdown",
   "id": "4247c457",
   "metadata": {
    "extensions": {
     "jupyter_dashboards": {
      "version": 1,
      "views": {
       "default_view": {
        "col": 0,
        "height": 2,
        "row": 3,
        "width": 12
       },
       "grid_default": {
        "col": null,
        "height": 2,
        "hidden": true,
        "row": null,
        "width": 2
       }
      }
     }
    }
   },
   "source": [
    "***"
   ]
  },
  {
   "cell_type": "markdown",
   "id": "5df591bc",
   "metadata": {
    "extensions": {
     "jupyter_dashboards": {
      "version": 1,
      "views": {
       "default_view": {
        "col": 0,
        "height": 2,
        "row": 5,
        "width": 12
       },
       "grid_default": {
        "col": null,
        "height": 2,
        "hidden": true,
        "row": null,
        "width": 2
       }
      }
     }
    }
   },
   "source": [
    "<br>\n",
    "<br>\n",
    "<font face=\"Helvetica\" size=\"3.5px\" color=\"#323752\" >In this lecture we will learn <font face=\"Helvetica\" size=\"3.5px\" color=\"#63b6c7\" ><b>Contingency tables </b></font> and <font face=\"Helvetica\" size=\"3.5px\" color=\"#63b6c7\" ><b> Chi-square.</b></font> Also some coding basics will be mentioned. In the last part we will focus on data visualization and plot libraries. "
   ]
  },
  {
   "cell_type": "markdown",
   "id": "b73ddf1c",
   "metadata": {
    "extensions": {
     "jupyter_dashboards": {
      "activeView": "grid_default",
      "views": {
       "grid_default": {
        "col": null,
        "height": 2,
        "hidden": true,
        "row": null,
        "width": 2
       }
      }
     }
    }
   },
   "source": [
    "<font face=\"Helvetica\" size=\"3.5px\" color=\"#323752\" >First we will import the neccesarry libraries.</font>\n",
    "<br>\n",
    "<br>"
   ]
  },
  {
   "cell_type": "code",
   "execution_count": 1,
   "id": "b0c5ecff",
   "metadata": {
    "hide_input": true,
    "tags": []
   },
   "outputs": [],
   "source": [
    "import numpy as np\n",
    "import pandas as pd\n",
    "import matplotlib.pyplot as plt\n",
    "import seaborn as sns\n",
    "import warnings\n",
    "import operator\n",
    "import csv\n",
    "from collections import Counter\n",
    "import scipy.stats as stats\n",
    "from scipy.stats import chi2_contingency\n",
    "from scipy.stats import chi2\n",
    "import ipywidgets as widgets"
   ]
  },
  {
   "cell_type": "markdown",
   "id": "dfcf2c4b",
   "metadata": {
    "extensions": {
     "jupyter_dashboards": {
      "version": 1,
      "views": {
       "default_view": {
        "col": 0,
        "height": 2,
        "row": 10,
        "width": 12
       },
       "grid_default": {
        "col": null,
        "height": 2,
        "hidden": true,
        "row": null,
        "width": 2
       }
      }
     }
    },
    "slideshow": {
     "slide_type": "notes"
    },
    "tags": []
   },
   "source": [
    "<br>\n",
    "<br>\n",
    "<font face=\"Helvetica\" size=\"3px\" color=\"#323752\" >We do not want to see undesired warnings in our report.</font>\n",
    "<br>\n",
    "<br>"
   ]
  },
  {
   "cell_type": "code",
   "execution_count": 2,
   "id": "709f2b44",
   "metadata": {
    "extensions": {
     "jupyter_dashboards": {
      "version": 1,
      "views": {
       "default_view": {
        "hidden": true
       },
       "grid_default": {
        "col": null,
        "height": 2,
        "hidden": true,
        "row": null,
        "width": 2
       }
      }
     }
    },
    "tags": []
   },
   "outputs": [],
   "source": [
    "warnings.filterwarnings('ignore')"
   ]
  },
  {
   "cell_type": "markdown",
   "id": "0edfed26",
   "metadata": {
    "extensions": {
     "jupyter_dashboards": {
      "activeView": "grid_default",
      "views": {
       "grid_default": {
        "col": null,
        "height": 2,
        "hidden": true,
        "row": null,
        "width": 2
       }
      }
     }
    },
    "tags": [
     "hide-input"
    ]
   },
   "source": [
    "<br>\n",
    "<br>\n",
    "<font face=\"Helvetica\" size=\"3px\" color=\"#323752\" >In the following code cell we will create a function to hide/show code cells. Since some of the code cells that we will create in this tutorial is quite long especially the ones for the widgets. We will call this function inside the cells.</font>\n",
    "<br>\n",
    "<br>"
   ]
  },
  {
   "cell_type": "markdown",
   "id": "7d3ecea4",
   "metadata": {
    "extensions": {
     "jupyter_dashboards": {
      "version": 1,
      "views": {
       "default_view": {
        "col": 0,
        "height": 2,
        "row": 16,
        "width": 12
       },
       "grid_default": {
        "col": null,
        "height": 2,
        "hidden": true,
        "row": null,
        "width": 2
       }
      }
     }
    }
   },
   "source": [
    "<br>\n",
    "<br>\n",
    "<font face=\"Helvetica\" size=\"3px\" color=\"#323752\" >It's time to read the dataset. The dataset is taken from <a href=\"url\" target=\"_blank\"> https://cses.org/data-download/cses-module-5-2016-2021/</a>  . All the necessary information about the dataset is given in the booklets at the website. Especially, reading the booklet about the variable names is recommended. Our dataset is in cvs format. \n",
    "</font>\n",
    "<br>\n",
    "<br>\n"
   ]
  },
  {
   "cell_type": "code",
   "execution_count": 3,
   "id": "5ad394b6",
   "metadata": {
    "extensions": {
     "jupyter_dashboards": {
      "version": 1,
      "views": {
       "default_view": {
        "col": 0,
        "height": 2,
        "row": 18,
        "width": 12
       },
       "grid_default": {
        "col": null,
        "height": 2,
        "hidden": true,
        "row": null,
        "width": 2
       }
      }
     }
    },
    "tags": []
   },
   "outputs": [],
   "source": [
    "#data = pd.read_csv(r'cses5.csv')\n",
    "#data.info()"
   ]
  },
  {
   "cell_type": "markdown",
   "id": "b4745345",
   "metadata": {
    "extensions": {
     "jupyter_dashboards": {
      "version": 1,
      "views": {
       "default_view": {
        "col": 0,
        "height": 2,
        "row": 20,
        "width": 12
       },
       "grid_default": {
        "col": null,
        "height": 2,
        "hidden": true,
        "row": null,
        "width": 2
       }
      }
     }
    }
   },
   "source": [
    "<br>\n",
    "<br>\n",
    "<font face=\"Helvetica\" size=\"3px\" color=\"#323752\" >Our dataset columns has code names for variables. We will change the names in oder to simplify the understanding.</font>\n",
    "<br>\n",
    "<br>"
   ]
  },
  {
   "cell_type": "code",
   "execution_count": 4,
   "id": "9b43a7c7",
   "metadata": {
    "extensions": {
     "jupyter_dashboards": {
      "version": 1,
      "views": {
       "default_view": {
        "hidden": true
       },
       "grid_default": {
        "col": null,
        "height": 2,
        "hidden": true,
        "row": null,
        "width": 2
       }
      }
     }
    },
    "tags": []
   },
   "outputs": [],
   "source": [
    "#data = data.rename(columns={'E1006_NAM': 'country_name'})\n",
    "#data = data.rename(columns={'E2002': 'gender'})\n",
    "#data = data.rename(columns={'E2003': 'education'})\n",
    "#data = data.rename(columns={'E2006': 'employement'})\n",
    "#data = data.rename(columns={'E3024_4': 'closeness_party'})\n",
    "#data = data.rename(columns={'E4006': 'turnout'})\n",
    "#data = data.rename(columns={'E5075': 'women_in_parliament'})"
   ]
  },
  {
   "cell_type": "markdown",
   "id": "f8e215f8",
   "metadata": {
    "extensions": {
     "jupyter_dashboards": {
      "version": 1,
      "views": {
       "default_view": {
        "col": 0,
        "height": 2,
        "row": 24,
        "width": 12
       },
       "grid_default": {
        "col": null,
        "height": 2,
        "hidden": true,
        "row": null,
        "width": 2
       }
      }
     }
    }
   },
   "source": [
    "<br>\n",
    "<br>\n",
    "<font face=\"Helvetica\" size=\"3px\" color=\"#323752\" >Also, we get rid of the unnecessary variables to shrink the data, as shown in the previous info() command, it has 554 different variables (column entries).</font>\n",
    "<br>\n",
    "<br>"
   ]
  },
  {
   "cell_type": "code",
   "execution_count": 5,
   "id": "8cc01104",
   "metadata": {
    "extensions": {
     "jupyter_dashboards": {
      "version": 1,
      "views": {
       "default_view": {
        "col": 0,
        "height": 2,
        "row": 26,
        "width": 12
       },
       "grid_default": {
        "col": null,
        "height": 2,
        "hidden": true,
        "row": null,
        "width": 2
       }
      }
     }
    },
    "tags": []
   },
   "outputs": [],
   "source": [
    "#data1 = data[['country_name', 'gender','education',\n",
    "#        'employement', 'closeness_party','turnout','women_in_parliament']]\n",
    "\n",
    "#data1.info()"
   ]
  },
  {
   "cell_type": "code",
   "execution_count": 6,
   "id": "9db0fa1f",
   "metadata": {
    "extensions": {
     "jupyter_dashboards": {
      "activeView": "grid_default",
      "views": {
       "grid_default": {
        "col": null,
        "height": 2,
        "hidden": true,
        "row": null,
        "width": 2
       }
      }
     }
    },
    "tags": []
   },
   "outputs": [
    {
     "name": "stdout",
     "output_type": "stream",
     "text": [
      "<class 'pandas.core.frame.DataFrame'>\n",
      "RangeIndex: 55515 entries, 0 to 55514\n",
      "Data columns (total 8 columns):\n",
      " #   Column               Non-Null Count  Dtype  \n",
      "---  ------               --------------  -----  \n",
      " 0   Unnamed: 0           55515 non-null  int64  \n",
      " 1   country_name         55515 non-null  object \n",
      " 2   gender               55515 non-null  int64  \n",
      " 3   education            55515 non-null  int64  \n",
      " 4   employement          55515 non-null  int64  \n",
      " 5   closeness_party      55515 non-null  int64  \n",
      " 6   turnout              55515 non-null  float64\n",
      " 7   women_in_parliament  55515 non-null  float64\n",
      "dtypes: float64(2), int64(5), object(1)\n",
      "memory usage: 3.4+ MB\n"
     ]
    }
   ],
   "source": [
    "data1 = pd.read_csv(r'data1.csv') \n",
    "data1.info()"
   ]
  },
  {
   "cell_type": "markdown",
   "id": "757a3d1c",
   "metadata": {
    "extensions": {
     "jupyter_dashboards": {
      "version": 1,
      "views": {
       "default_view": {
        "col": 0,
        "height": 2,
        "row": 28,
        "width": 12
       },
       "grid_default": {
        "col": null,
        "height": 2,
        "hidden": true,
        "row": null,
        "width": 2
       }
      }
     }
    }
   },
   "source": [
    "<br>\n",
    "<br>\n",
    "<font face=\"Helvetica\" size=\"3px\" color=\"#323752\" > In the following cell, we will create a dictionary that use country names as dictionary keys. We will use this dictionary a lot in the remaining of the project. The main logic is spliting the total data by using country names. Therefore, we can use a country name to call all the data about this country.</font>\n",
    "<br>\n",
    "<br>"
   ]
  },
  {
   "cell_type": "code",
   "execution_count": 7,
   "id": "6b899d8f",
   "metadata": {
    "extensions": {
     "jupyter_dashboards": {
      "version": 1,
      "views": {
       "default_view": {
        "hidden": true
       },
       "grid_default": {
        "col": null,
        "height": 2,
        "hidden": true,
        "row": null,
        "width": 2
       }
      }
     }
    },
    "tags": []
   },
   "outputs": [],
   "source": [
    "df_dict = {ct: data1[data1.country_name== ct].reset_index(drop=True) for ct in data1['country_name'].unique()}"
   ]
  },
  {
   "cell_type": "markdown",
   "id": "c88ca044",
   "metadata": {
    "extensions": {
     "jupyter_dashboards": {
      "version": 1,
      "views": {
       "default_view": {
        "col": 0,
        "height": 2,
        "row": 32,
        "width": 12
       },
       "grid_default": {
        "col": null,
        "height": 2,
        "hidden": true,
        "row": null,
        "width": 2
       }
      }
     }
    }
   },
   "source": [
    "<br>\n",
    "<br>\n",
    "<font face=\"Helvetica\" size=\"3px\" color=\"#323752\" > Before starting the calculations, we need to cleanse the data set. Since missing informations are determined, we need to get rid of them. For instance, a missing information in turnout data is given with <font face=\"Helvetica\" size=\"3.5px\" color=\"#63b6c7\" ><b>'997'</b></font> and <font face=\"Helvetica\" size=\"3.5px\" color=\"#63b6c7\" ><b>'999'</b></font>. So we need to make them <b>0 </b>before calculating the avarage turnout of the countries. While making the missing turnouts 0, we need to change respondent count so that avarage is not affected.\n",
    "<br>\n",
    "<br>"
   ]
  },
  {
   "cell_type": "code",
   "execution_count": 8,
   "id": "67e3f6f0",
   "metadata": {
    "extensions": {
     "jupyter_dashboards": {
      "version": 1,
      "views": {
       "default_view": {
        "hidden": true
       },
       "grid_default": {
        "col": null,
        "height": 2,
        "hidden": true,
        "row": null,
        "width": 2
       }
      }
     }
    },
    "tags": []
   },
   "outputs": [],
   "source": [
    "turnout_list = {}\n",
    "count = {}\n",
    "b = 0\n",
    "for country in df_dict.keys():\n",
    "    count[country]=0\n",
    "    for i in range(len(df_dict[country]['turnout'])):\n",
    "        if df_dict[country]['turnout'][i] == 997 or df_dict[country]['turnout'][i] == 999:\n",
    "            df_dict[country]['turnout'][i] = 0\n",
    "            count[country] = count[country] + 1\n",
    "            \n",
    "    b = sum(df_dict[country]['turnout'])\n",
    "    if b == 0.0:\n",
    "        b = 0.000001\n",
    "        count[country] = len(df_dict[country])-1\n",
    "    turnout_list[country] =  b/(len(df_dict[country])- count[country])"
   ]
  },
  {
   "cell_type": "markdown",
   "id": "daa74776",
   "metadata": {
    "extensions": {
     "jupyter_dashboards": {
      "version": 1,
      "views": {
       "default_view": {
        "col": 0,
        "height": 2,
        "row": 36,
        "width": 12
       },
       "grid_default": {
        "col": null,
        "height": 2,
        "hidden": true,
        "row": null,
        "width": 2
       }
      }
     }
    }
   },
   "source": [
    "<br>\n",
    "<br>\n",
    "<font face=\"Helvetica\" size=\"3px\" color=\"#323752\" > Now, we have average turnouts of countries in the turnout_list and we can access them by using country names. \n",
    "<br>\n",
    "Next step, we will sort them to find the most and the least. Some of the countries does not sustain neccessary data, those are at the end of the list.</font>\n",
    "<br>\n",
    "<br>"
   ]
  },
  {
   "cell_type": "code",
   "execution_count": 9,
   "id": "3d159a0f",
   "metadata": {
    "extensions": {
     "jupyter_dashboards": {
      "version": 1,
      "views": {
       "default_view": {
        "col": 0,
        "height": 2,
        "row": 38,
        "width": 12
       },
       "grid_default": {
        "col": null,
        "height": 2,
        "hidden": true,
        "row": null,
        "width": 2
       }
      }
     }
    },
    "tags": []
   },
   "outputs": [
    {
     "name": "stdout",
     "output_type": "stream",
     "text": [
      "{'Australia': 92.12787860931059, 'Belgium': 88.7206829823555, 'Turkey': 88.02779232928033, 'Sweden': 87.25671511627937, 'Brazil': 83.9430167597752, 'Iceland': 80.48768499256693, 'Austria': 79.9780833333332, 'Norway': 78.4532366071428, 'Germany': 75.68032480314962, 'Italy': 73.12688877755477, 'Finland': 72.18648310388005, 'Taiwan': 70.81278338278948, 'Great Britain': 69.74130081300834, 'Canada': 68.02560581583201, 'Costa Rica': 65.9588688410825, 'Ireland': 65.01590233545657, 'New Zealand': 63.40353982300916, 'Hong Kong': 58.414290657439494, 'Republic of Korea': 57.80560467055897, 'Greece': 56.39044573643435, 'Portugal': 55.61186000000017, 'United States of America': 55.171381578947646, 'Lithuania': 50.3169533333337, 'Chile': 46.8356587926498, 'Switzerland': 46.17013993541263, 'France': 1e-06, 'Hungary': 1e-06, 'Montenegro': 1e-06}\n"
     ]
    }
   ],
   "source": [
    "sorted_turnout = dict(sorted(turnout_list.items(), key=operator.itemgetter(1),reverse=True))\n",
    "print(sorted_turnout)"
   ]
  },
  {
   "cell_type": "markdown",
   "id": "9f431401",
   "metadata": {
    "extensions": {
     "jupyter_dashboards": {
      "version": 1,
      "views": {
       "default_view": {
        "col": 0,
        "height": 2,
        "row": 40,
        "width": 12
       },
       "grid_default": {
        "col": null,
        "height": 2,
        "hidden": true,
        "row": null,
        "width": 2
       }
      }
     }
    }
   },
   "source": [
    "<br>\n",
    "<br>\n",
    "<font face=\"Helvetica\" size=\"3px\" color=\"#323752\" > Let's see the top five in a clear format.</font>\n",
    "<br>\n",
    "<br>"
   ]
  },
  {
   "cell_type": "code",
   "execution_count": 10,
   "id": "a519f175",
   "metadata": {
    "extensions": {
     "jupyter_dashboards": {
      "version": 1,
      "views": {
       "default_view": {
        "col": 0,
        "height": 2,
        "row": 42,
        "width": 12
       },
       "grid_default": {
        "col": null,
        "height": 2,
        "hidden": true,
        "row": null,
        "width": 2
       }
      }
     }
    },
    "tags": []
   },
   "outputs": [
    {
     "name": "stdout",
     "output_type": "stream",
     "text": [
      "{'Australia': 92.12787860931059, 'Belgium': 88.7206829823555, 'Turkey': 88.02779232928033, 'Sweden': 87.25671511627937, 'Brazil': 83.9430167597752}\n"
     ]
    }
   ],
   "source": [
    "top_five_list = [*sorted_turnout.keys()][0:5]\n",
    "\n",
    "turnouts = {}\n",
    "for country in top_five_list:\n",
    "    turnouts[country] = turnout_list[country]\n",
    "    \n",
    "print(turnouts)"
   ]
  },
  {
   "cell_type": "markdown",
   "id": "34cd3ca5",
   "metadata": {
    "extensions": {
     "jupyter_dashboards": {
      "version": 1,
      "views": {
       "default_view": {
        "col": 0,
        "height": 2,
        "row": 44,
        "width": 12
       },
       "grid_default": {
        "col": null,
        "height": 2,
        "hidden": true,
        "row": null,
        "width": 2
       }
      }
     }
    }
   },
   "source": [
    "<br>\n",
    "<br>\n",
    "<font face=\"Helvetica\" size=\"3px\" color=\"#323752\" >Until now, we can determine our suspects. We will choose two countries for statistical analysis; one with high turnout value, the other one with low turnout value.\n",
    "<br>\n",
    "Our selected countries are :\n",
    "\n",
    "    1) Turkey (high turnout value: 88.027)\n",
    "    2) Switzerland (low turnout value: 46.170)\n",
    "<br>\n",
    "<br>"
   ]
  },
  {
   "cell_type": "markdown",
   "id": "156b8116",
   "metadata": {
    "extensions": {
     "jupyter_dashboards": {
      "version": 1,
      "views": {
       "default_view": {
        "col": 0,
        "height": 2,
        "row": 46,
        "width": 12
       },
       "grid_default": {
        "col": null,
        "height": 2,
        "hidden": true,
        "row": null,
        "width": 2
       }
      }
     }
    }
   },
   "source": [
    "## Turkey - High Turnout"
   ]
  },
  {
   "cell_type": "markdown",
   "id": "31df858c",
   "metadata": {
    "extensions": {
     "jupyter_dashboards": {
      "version": 1,
      "views": {
       "default_view": {
        "col": 0,
        "height": 2,
        "row": 48,
        "width": 12
       },
       "grid_default": {
        "col": null,
        "height": 2,
        "hidden": true,
        "row": null,
        "width": 2
       }
      }
     }
    }
   },
   "source": [
    "***"
   ]
  },
  {
   "cell_type": "markdown",
   "id": "aa464320",
   "metadata": {
    "extensions": {
     "jupyter_dashboards": {
      "version": 1,
      "views": {
       "default_view": {
        "col": 0,
        "height": 2,
        "row": 50,
        "width": 12
       },
       "grid_default": {
        "col": null,
        "height": 2,
        "hidden": true,
        "row": null,
        "width": 2
       }
      }
     }
    }
   },
   "source": [
    "<br>\n",
    "<font face=\"Helvetica\" size=\"3px\" color=\"#323752\" > We will start with clearing missing informations to get much more clean and logical graphs and tables.</font>\n",
    "<br>\n",
    "<br>"
   ]
  },
  {
   "cell_type": "code",
   "execution_count": 11,
   "id": "765d6802",
   "metadata": {
    "extensions": {
     "jupyter_dashboards": {
      "version": 1,
      "views": {
       "default_view": {
        "hidden": true
       },
       "grid_default": {
        "col": null,
        "height": 2,
        "hidden": true,
        "row": null,
        "width": 2
       }
      }
     }
    },
    "tags": []
   },
   "outputs": [],
   "source": [
    "for i in range(len(df_dict['Turkey']['education'])):\n",
    "    if df_dict['Turkey']['education'][i] == 97 or df_dict['Turkey']['education'][i] == 98 or df_dict['Turkey']['education'][i] == 99:\n",
    "        df_dict['Turkey']['education'][i] = -1\n",
    "    elif df_dict['Turkey']['education'][i] == 96:\n",
    "        df_dict['Turkey']['education'][i] = 0\n",
    "\n",
    "for i in range(len(df_dict['Turkey']['closeness_party'])):\n",
    "    if df_dict['Turkey']['closeness_party'][i] == 7 or df_dict['Turkey']['closeness_party'][i] == 8 or df_dict['Turkey']['closeness_party'][i] == 9:\n",
    "        df_dict['Turkey']['closeness_party'][i] = -1\n",
    "\n",
    "for i in range(len(df_dict['Turkey']['employement'])):\n",
    "    if df_dict['Turkey']['employement'][i] == 13 or df_dict['Turkey']['employement'][i] == 14 or df_dict['Turkey']['employement'][i] == 97  or df_dict['Turkey']['employement'][i] == 98  or df_dict['Turkey']['employement'][i] == 99:\n",
    "        df_dict['Turkey']['employement'][i] = -1"
   ]
  },
  {
   "cell_type": "markdown",
   "id": "12680f3d",
   "metadata": {
    "extensions": {
     "jupyter_dashboards": {
      "version": 1,
      "views": {
       "default_view": {
        "col": 0,
        "height": 2,
        "row": 54,
        "width": 12
       },
       "grid_default": {
        "col": null,
        "height": 2,
        "hidden": true,
        "row": null,
        "width": 2
       }
      }
     }
    }
   },
   "source": [
    "<br>\n",
    "<br>\n",
    "<font face=\"Helvetica\" size=\"3px\" color=\"#323752\" > Now, we can start to learn what is Contingency tables and Chi-square. We will create a table in the following cells with gender and degree of closeness to a party in Turkey. This table is used to learn the concepts but different social statuses that are listed above might be selected. </font>\n",
    "<br>\n",
    "<br>\n"
   ]
  },
  {
   "cell_type": "code",
   "execution_count": 12,
   "id": "f11fc956",
   "metadata": {
    "extensions": {
     "jupyter_dashboards": {
      "version": 1,
      "views": {
       "default_view": {
        "hidden": true
       },
       "grid_default": {
        "col": null,
        "height": 2,
        "hidden": true,
        "row": null,
        "width": 2
       }
      }
     }
    },
    "tags": []
   },
   "outputs": [],
   "source": [
    "count_female_t = 0\n",
    "count_male_t = 0\n",
    "\n",
    "male = [0]*4\n",
    "female = [0]*4\n",
    "for i in range(len(df_dict['Turkey']['gender'])):\n",
    "    if df_dict['Turkey']['closeness_party'][i] == 1:\n",
    "        if df_dict['Turkey']['gender'][i] == 1:\n",
    "            count_male_t = count_male_t + 1;\n",
    "            male[0] = male[0] + 1\n",
    "        elif df_dict['Turkey']['gender'][i] == 2:\n",
    "            count_female_t = count_female_t + 1\n",
    "            female[0] = female[0] + 1\n",
    "    if df_dict['Turkey']['closeness_party'][i] == 2:\n",
    "        if df_dict['Turkey']['gender'][i] == 1:\n",
    "            count_male_t = count_male_t + 1;\n",
    "            male[1] = male[1] + 1\n",
    "        elif df_dict['Turkey']['gender'][i] == 2:\n",
    "            count_female_t = count_female_t + 1\n",
    "            female[1] = female[1] + 1\n",
    "    if df_dict['Turkey']['closeness_party'][i] == 3:\n",
    "        if df_dict['Turkey']['gender'][i] == 1:\n",
    "            count_male_t = count_male_t + 1;\n",
    "            male[2] = male[2] + 1\n",
    "        elif df_dict['Turkey']['gender'][i] == 2:\n",
    "            count_female_t = count_female_t + 1\n",
    "            female[2] = female[2] + 1\n",
    "    if df_dict['Turkey']['closeness_party'][i] == -1:\n",
    "        if df_dict['Turkey']['gender'][i] == 1:\n",
    "            count_male_t = count_male_t + 1;\n",
    "            male[3] = male[3] + 1\n",
    "        elif df_dict['Turkey']['gender'][i] == 2:\n",
    "            count_female_t = count_female_t + 1\n",
    "            female[3] = female[3] + 1"
   ]
  },
  {
   "cell_type": "markdown",
   "id": "aaa3379c",
   "metadata": {
    "extensions": {
     "jupyter_dashboards": {
      "version": 1,
      "views": {
       "default_view": {
        "col": 0,
        "height": 2,
        "row": 58,
        "width": 12
       },
       "grid_default": {
        "col": null,
        "height": 2,
        "hidden": true,
        "row": null,
        "width": 2
       }
      }
     }
    }
   },
   "source": [
    "<br>\n",
    "<br>\n",
    "<font face=\"Helvetica\" size=\"3px\" color=\"#323752\" > We are going to create sample data which is about gender and degree of closeness to a party in Turkey. <font face=\"Helvetica\" size=\"3.5px\" color=\"#63b6c7\" ><b>Pandas </b></font>index and columns are used to name rows and columns. \n",
    "<br>\n",
    "<br>"
   ]
  },
  {
   "cell_type": "code",
   "execution_count": 13,
   "id": "85f801c4",
   "metadata": {
    "extensions": {
     "jupyter_dashboards": {
      "version": 1,
      "views": {
       "default_view": {
        "col": 0,
        "height": 2,
        "row": 60,
        "width": 12
       },
       "grid_default": {
        "col": null,
        "height": 2,
        "hidden": true,
        "row": null,
        "width": 2
       }
      }
     }
    },
    "tags": []
   },
   "outputs": [
    {
     "data": {
      "text/html": [
       "<div>\n",
       "<style scoped>\n",
       "    .dataframe tbody tr th:only-of-type {\n",
       "        vertical-align: middle;\n",
       "    }\n",
       "\n",
       "    .dataframe tbody tr th {\n",
       "        vertical-align: top;\n",
       "    }\n",
       "\n",
       "    .dataframe thead th {\n",
       "        text-align: right;\n",
       "    }\n",
       "</style>\n",
       "<table border=\"1\" class=\"dataframe\">\n",
       "  <thead>\n",
       "    <tr style=\"text-align: right;\">\n",
       "      <th></th>\n",
       "      <th>Very Close</th>\n",
       "      <th>Somewhat Close</th>\n",
       "      <th>Not very Close</th>\n",
       "      <th>Missing/No Info</th>\n",
       "    </tr>\n",
       "  </thead>\n",
       "  <tbody>\n",
       "    <tr>\n",
       "      <th>Male</th>\n",
       "      <td>125</td>\n",
       "      <td>170</td>\n",
       "      <td>17</td>\n",
       "      <td>160</td>\n",
       "    </tr>\n",
       "    <tr>\n",
       "      <th>Female</th>\n",
       "      <td>138</td>\n",
       "      <td>258</td>\n",
       "      <td>16</td>\n",
       "      <td>185</td>\n",
       "    </tr>\n",
       "  </tbody>\n",
       "</table>\n",
       "</div>"
      ],
      "text/plain": [
       "        Very Close  Somewhat Close  Not very Close  Missing/No Info\n",
       "Male           125             170              17              160\n",
       "Female         138             258              16              185"
      ]
     },
     "execution_count": 13,
     "metadata": {},
     "output_type": "execute_result"
    }
   ],
   "source": [
    "closeness_party = pd.DataFrame(\n",
    "    [\n",
    "        male,\n",
    "        female\n",
    "    ],\n",
    "    index=[\"Male\",\"Female\"],\n",
    "    columns=[\"Very Close\",\"Somewhat Close\",\"Not very Close\",\"Missing/No Info\"])\n",
    "\n",
    "\n",
    "closeness_party"
   ]
  },
  {
   "cell_type": "markdown",
   "id": "6d4153bb",
   "metadata": {
    "extensions": {
     "jupyter_dashboards": {
      "version": 1,
      "views": {
       "default_view": {
        "col": 0,
        "height": 2,
        "row": 62,
        "width": 12
       },
       "grid_default": {
        "col": null,
        "height": 2,
        "hidden": true,
        "row": null,
        "width": 2
       }
      }
     }
    }
   },
   "source": [
    "<br>\n",
    "<br>\n",
    "<font face=\"Helvetica\" size=\"3px\" color=\"#323752\" > Python uses zero-based indexing. That means, the first element has an index 0, the second has index 1, and so on. If you want to access the fourth value in the <b>chi2_contingency(closeness_party)</b> you need to use <b>[3]</b>.</font>\n",
    "<br>\n",
    "<br>"
   ]
  },
  {
   "cell_type": "markdown",
   "id": "64a87848",
   "metadata": {
    "extensions": {
     "jupyter_dashboards": {
      "version": 1,
      "views": {
       "default_view": {
        "col": 0,
        "height": 2,
        "row": 64,
        "width": 12
       },
       "grid_default": {
        "col": null,
        "height": 2,
        "hidden": true,
        "row": null,
        "width": 2
       }
      }
     }
    }
   },
   "source": [
    "### chi2_contingency"
   ]
  },
  {
   "cell_type": "markdown",
   "id": "771e68d2",
   "metadata": {
    "extensions": {
     "jupyter_dashboards": {
      "version": 1,
      "views": {
       "default_view": {
        "col": 0,
        "height": 2,
        "row": 66,
        "width": 12
       },
       "grid_default": {
        "col": null,
        "height": 2,
        "hidden": true,
        "row": null,
        "width": 2
       }
      }
     }
    }
   },
   "source": [
    "<font face=\"Helvetica\" size=\"3px\" color=\"#323752\" > <font face=\"Helvetica\" size=\"3.5px\" color=\"#63b6c7\" ><b>SciPy’s chi2_contingency() </b></font>returns four values, <b> 𝜒2 value, p-value, degree of freedom and expected values.</b>\n",
    "<br>\n",
    "<br>"
   ]
  },
  {
   "cell_type": "code",
   "execution_count": 14,
   "id": "5fdc7c50",
   "metadata": {
    "extensions": {
     "jupyter_dashboards": {
      "version": 1,
      "views": {
       "default_view": {
        "col": 0,
        "height": 2,
        "row": 68,
        "width": 12
       },
       "grid_default": {
        "col": null,
        "height": 2,
        "hidden": true,
        "row": null,
        "width": 2
       }
      }
     }
    },
    "tags": []
   },
   "outputs": [
    {
     "data": {
      "text/plain": [
       "(6.044118123095128,\n",
       " 0.10948340023844266,\n",
       " 3,\n",
       " array([[116.12347989, 188.97661366,  14.57062675, 152.3292797 ],\n",
       "        [146.87652011, 239.02338634,  18.42937325, 192.6707203 ]]))"
      ]
     },
     "execution_count": 14,
     "metadata": {},
     "output_type": "execute_result"
    }
   ],
   "source": [
    "chi2_contingency(closeness_party)"
   ]
  },
  {
   "cell_type": "markdown",
   "id": "6d3eb8e2",
   "metadata": {
    "extensions": {
     "jupyter_dashboards": {
      "version": 1,
      "views": {
       "default_view": {
        "col": 0,
        "height": 2,
        "row": 70,
        "width": 12
       },
       "grid_default": {
        "col": null,
        "height": 2,
        "hidden": true,
        "row": null,
        "width": 2
       }
      }
     }
    }
   },
   "source": [
    "### Expected values "
   ]
  },
  {
   "cell_type": "markdown",
   "id": "ccdbd03d",
   "metadata": {
    "extensions": {
     "jupyter_dashboards": {
      "version": 1,
      "views": {
       "default_view": {
        "col": 0,
        "height": 2,
        "row": 72,
        "width": 12
       },
       "grid_default": {
        "col": null,
        "height": 2,
        "hidden": true,
        "row": null,
        "width": 2
       }
      }
     }
    }
   },
   "source": [
    "<font face=\"Helvetica\" size=\"3px\" color=\"#323752\" > You can find the expected values at the forth in the returned value. It is in an array form. Let’s print the expected values. We again use the Pandas dataframe. We are going to add index and column values and round the values to the two decimal places <b>round(2)</b>. </font>\n",
    "<br>\n",
    "<br>"
   ]
  },
  {
   "cell_type": "code",
   "execution_count": 15,
   "id": "07dfac8e",
   "metadata": {
    "extensions": {
     "jupyter_dashboards": {
      "version": 1,
      "views": {
       "default_view": {
        "col": 0,
        "height": 2,
        "row": 74,
        "width": 12
       },
       "grid_default": {
        "col": null,
        "height": 2,
        "hidden": true,
        "row": null,
        "width": 2
       }
      }
     }
    },
    "tags": []
   },
   "outputs": [
    {
     "data": {
      "text/html": [
       "<div>\n",
       "<style scoped>\n",
       "    .dataframe tbody tr th:only-of-type {\n",
       "        vertical-align: middle;\n",
       "    }\n",
       "\n",
       "    .dataframe tbody tr th {\n",
       "        vertical-align: top;\n",
       "    }\n",
       "\n",
       "    .dataframe thead th {\n",
       "        text-align: right;\n",
       "    }\n",
       "</style>\n",
       "<table border=\"1\" class=\"dataframe\">\n",
       "  <thead>\n",
       "    <tr style=\"text-align: right;\">\n",
       "      <th></th>\n",
       "      <th>Very Close</th>\n",
       "      <th>Somewhat Close</th>\n",
       "      <th>Not very Close</th>\n",
       "      <th>Missing/No Info</th>\n",
       "    </tr>\n",
       "  </thead>\n",
       "  <tbody>\n",
       "    <tr>\n",
       "      <th>Male</th>\n",
       "      <td>116.12</td>\n",
       "      <td>188.98</td>\n",
       "      <td>14.57</td>\n",
       "      <td>152.33</td>\n",
       "    </tr>\n",
       "    <tr>\n",
       "      <th>Female</th>\n",
       "      <td>146.88</td>\n",
       "      <td>239.02</td>\n",
       "      <td>18.43</td>\n",
       "      <td>192.67</td>\n",
       "    </tr>\n",
       "  </tbody>\n",
       "</table>\n",
       "</div>"
      ],
      "text/plain": [
       "        Very Close  Somewhat Close  Not very Close  Missing/No Info\n",
       "Male        116.12          188.98           14.57           152.33\n",
       "Female      146.88          239.02           18.43           192.67"
      ]
     },
     "execution_count": 15,
     "metadata": {},
     "output_type": "execute_result"
    }
   ],
   "source": [
    "df=chi2_contingency(closeness_party)[3]\n",
    "pd.DataFrame(\n",
    "    data=df[:,:], \n",
    "    index=[\"Male\",\"Female\"],\n",
    "    columns=[\"Very Close\",\"Somewhat Close\",\"Not very Close\",\"Missing/No Info\"]).round(2)\n"
   ]
  },
  {
   "cell_type": "markdown",
   "id": "5d875949",
   "metadata": {
    "extensions": {
     "jupyter_dashboards": {
      "version": 1,
      "views": {
       "default_view": {
        "col": 0,
        "height": 2,
        "row": 76,
        "width": 12
       },
       "grid_default": {
        "col": null,
        "height": 2,
        "hidden": true,
        "row": null,
        "width": 2
       }
      }
     }
    }
   },
   "source": [
    "<br>\n",
    "<br>\n",
    "<font face=\"Helvetica\" size=\"3px\" color=\"#323752\" > The table above is called <font face=\"Helvetica\" size=\"3.5px\" color=\"#63b6c7\" ><b> a contingency table.</b>\n",
    "<br>\n",
    "<br>"
   ]
  },
  {
   "cell_type": "markdown",
   "id": "ac98b811",
   "metadata": {
    "extensions": {
     "jupyter_dashboards": {
      "version": 1,
      "views": {
       "default_view": {
        "col": 0,
        "height": 2,
        "row": 78,
        "width": 12
       },
       "grid_default": {
        "col": null,
        "height": 2,
        "hidden": true,
        "row": null,
        "width": 2
       }
      }
     }
    }
   },
   "source": [
    "### 𝜒2 value "
   ]
  },
  {
   "cell_type": "markdown",
   "id": "35458b72",
   "metadata": {
    "extensions": {
     "jupyter_dashboards": {
      "version": 1,
      "views": {
       "default_view": {
        "col": 0,
        "height": 2,
        "row": 80,
        "width": 12
       },
       "grid_default": {
        "col": null,
        "height": 2,
        "hidden": true,
        "row": null,
        "width": 2
       }
      }
     }
    }
   },
   "source": [
    "<font face=\"Helvetica\" size=\"3px\" color=\"#323752\" > The 𝜒2 equation tells us to find the square of the difference between the actual value and expected value and divide it by the expected value. This is what chi2_contingency is doing behind the scene. Since Python is 0 based index, in order to print the 𝜒2 we need to use <b>[0]</b>, which is the first value.</font>\n",
    "<br>\n",
    "<br>"
   ]
  },
  {
   "cell_type": "code",
   "execution_count": 16,
   "id": "3d6de8ce",
   "metadata": {
    "extensions": {
     "jupyter_dashboards": {
      "version": 1,
      "views": {
       "default_view": {
        "col": 0,
        "height": 2,
        "row": 82,
        "width": 12
       },
       "grid_default": {
        "col": null,
        "height": 2,
        "hidden": true,
        "row": null,
        "width": 2
       }
      }
     }
    },
    "tags": []
   },
   "outputs": [
    {
     "name": "stdout",
     "output_type": "stream",
     "text": [
      "6.044118123095128\n"
     ]
    }
   ],
   "source": [
    "chisquare=chi2_contingency(closeness_party)[0]\n",
    "print(chisquare)"
   ]
  },
  {
   "cell_type": "markdown",
   "id": "beb92fed",
   "metadata": {
    "extensions": {
     "jupyter_dashboards": {
      "version": 1,
      "views": {
       "default_view": {
        "col": 0,
        "height": 2,
        "row": 84,
        "width": 12
       },
       "grid_default": {
        "col": null,
        "height": 2,
        "hidden": true,
        "row": null,
        "width": 2
       }
      }
     }
    }
   },
   "source": [
    "### p-Value "
   ]
  },
  {
   "cell_type": "markdown",
   "id": "fe5cb4e1",
   "metadata": {
    "extensions": {
     "jupyter_dashboards": {
      "version": 1,
      "views": {
       "default_view": {
        "col": 0,
        "height": 2,
        "row": 86,
        "width": 12
       },
       "grid_default": {
        "col": null,
        "height": 2,
        "hidden": true,
        "row": null,
        "width": 2
       }
      }
     }
    }
   },
   "source": [
    "<font face=\"Helvetica\" size=\"3px\" color=\"#323752\" > You can find the p-value at the second in the returned value. p-value measures the probability of seeing the effect when the null hypothesis is true. So, when the p-value is low enough, we reject the null hypothesis and conclude the observed effect holds.</font>\n",
    "<br>\n",
    "<br>"
   ]
  },
  {
   "cell_type": "code",
   "execution_count": 17,
   "id": "eea45a09",
   "metadata": {
    "extensions": {
     "jupyter_dashboards": {
      "version": 1,
      "views": {
       "default_view": {
        "col": 0,
        "height": 2,
        "row": 88,
        "width": 12
       },
       "grid_default": {
        "col": null,
        "height": 2,
        "hidden": true,
        "row": null,
        "width": 2
       }
      }
     }
    },
    "tags": []
   },
   "outputs": [
    {
     "name": "stdout",
     "output_type": "stream",
     "text": [
      "0.10948340023844266\n"
     ]
    }
   ],
   "source": [
    "pvalue=chi2_contingency(closeness_party)[1]\n",
    "print(pvalue)"
   ]
  },
  {
   "cell_type": "markdown",
   "id": "b4f22071",
   "metadata": {
    "extensions": {
     "jupyter_dashboards": {
      "version": 1,
      "views": {
       "default_view": {
        "col": 0,
        "height": 2,
        "row": 90,
        "width": 12
       },
       "grid_default": {
        "col": null,
        "height": 2,
        "hidden": true,
        "row": null,
        "width": 2
       }
      }
     }
    }
   },
   "source": [
    "### Degree of freedom "
   ]
  },
  {
   "cell_type": "markdown",
   "id": "20520a9c",
   "metadata": {
    "extensions": {
     "jupyter_dashboards": {
      "version": 1,
      "views": {
       "default_view": {
        "col": 0,
        "height": 2,
        "row": 92,
        "width": 12
       },
       "grid_default": {
        "col": null,
        "height": 2,
        "hidden": true,
        "row": null,
        "width": 2
       }
      }
     }
    }
   },
   "source": [
    "<font face=\"Helvetica\" size=\"3px\" color=\"#323752\" >In the returned value from the chi2_contingency, the third one is the degree of freedom. We use <b>[2]</b> which is the third one. The following will output 3.</font>\n",
    "<br>\n",
    "<br>"
   ]
  },
  {
   "cell_type": "code",
   "execution_count": 18,
   "id": "00236f52",
   "metadata": {
    "extensions": {
     "jupyter_dashboards": {
      "version": 1,
      "views": {
       "default_view": {
        "col": 0,
        "height": 2,
        "row": 94,
        "width": 12
       },
       "grid_default": {
        "col": null,
        "height": 2,
        "hidden": true,
        "row": null,
        "width": 2
       }
      }
     }
    },
    "tags": []
   },
   "outputs": [
    {
     "name": "stdout",
     "output_type": "stream",
     "text": [
      "3\n"
     ]
    }
   ],
   "source": [
    "dof=chi2_contingency(closeness_party)[2]\n",
    "print(dof)"
   ]
  },
  {
   "cell_type": "markdown",
   "id": "7f4ef3e5",
   "metadata": {
    "extensions": {
     "jupyter_dashboards": {
      "version": 1,
      "views": {
       "default_view": {
        "col": 0,
        "height": 2,
        "row": 96,
        "width": 12
       },
       "grid_default": {
        "col": null,
        "height": 2,
        "hidden": true,
        "row": null,
        "width": 2
       }
      }
     }
    }
   },
   "source": [
    "### Critical values "
   ]
  },
  {
   "cell_type": "markdown",
   "id": "281375bc",
   "metadata": {
    "extensions": {
     "jupyter_dashboards": {
      "version": 1,
      "views": {
       "default_view": {
        "col": 0,
        "height": 2,
        "row": 98,
        "width": 12
       },
       "grid_default": {
        "col": null,
        "height": 2,
        "hidden": true,
        "row": null,
        "width": 2
       }
      }
     }
    }
   },
   "source": [
    "<font face=\"Helvetica\" size=\"3px\" color=\"#323752\" > The level of significance and degree of freedom can be used to find the critical value. As I mentioned, you can find the degree of freedom from the array. State and define probability from the level of significance, 1%, 5% 10%, etc.</font>\n",
    "<br>\n",
    "<br>"
   ]
  },
  {
   "cell_type": "code",
   "execution_count": 19,
   "id": "cd8b611d",
   "metadata": {
    "extensions": {
     "jupyter_dashboards": {
      "version": 1,
      "views": {
       "default_view": {
        "col": 0,
        "height": 2,
        "row": 100,
        "width": 12
       },
       "grid_default": {
        "col": null,
        "height": 2,
        "hidden": true,
        "row": null,
        "width": 2
       }
      }
     }
    },
    "tags": []
   },
   "outputs": [
    {
     "name": "stdout",
     "output_type": "stream",
     "text": [
      "11.344866730144373\n"
     ]
    }
   ],
   "source": [
    "significance = 0.01\n",
    "p = 1 - significance\n",
    "dof = chi2_contingency(closeness_party)[2]\n",
    "critical_value = chi2.ppf(p, dof)\n",
    "print(critical_value)"
   ]
  },
  {
   "cell_type": "markdown",
   "id": "4802ff6e",
   "metadata": {
    "extensions": {
     "jupyter_dashboards": {
      "version": 1,
      "views": {
       "default_view": {
        "col": 0,
        "height": 2,
        "row": 102,
        "width": 12
       },
       "grid_default": {
        "col": null,
        "height": 2,
        "hidden": true,
        "row": null,
        "width": 2
       }
      }
     }
    }
   },
   "source": [
    "<br>\n",
    "<br>\n",
    "<font face=\"Helvetica\" size=\"3px\" color=\"#323752\" > Let's check the p-value by using the critical value that we calculated </font>\n",
    "<br>\n",
    "<br>"
   ]
  },
  {
   "cell_type": "code",
   "execution_count": 20,
   "id": "fef81c07",
   "metadata": {
    "extensions": {
     "jupyter_dashboards": {
      "version": 1,
      "views": {
       "default_view": {
        "col": 0,
        "height": 2,
        "row": 104,
        "width": 12
       },
       "grid_default": {
        "col": null,
        "height": 2,
        "hidden": true,
        "row": null,
        "width": 2
       }
      }
     }
    },
    "tags": []
   },
   "outputs": [
    {
     "name": "stdout",
     "output_type": "stream",
     "text": [
      "0.99\n"
     ]
    }
   ],
   "source": [
    "p = chi2.cdf(critical_value, dof)\n",
    "print(p)"
   ]
  },
  {
   "cell_type": "markdown",
   "id": "36792d42",
   "metadata": {
    "extensions": {
     "jupyter_dashboards": {
      "version": 1,
      "views": {
       "default_view": {
        "col": 0,
        "height": 2,
        "row": 106,
        "width": 12
       },
       "grid_default": {
        "col": null,
        "height": 2,
        "hidden": true,
        "row": null,
        "width": 2
       }
      }
     }
    }
   },
   "source": [
    "<br>\n",
    "<font face=\"Helvetica\" size=\"3px\" color=\"#323752\" > Which confirms the critical value.</font>\n",
    "<br>\n",
    "<br>"
   ]
  },
  {
   "cell_type": "markdown",
   "id": "310ff2aa",
   "metadata": {
    "extensions": {
     "jupyter_dashboards": {
      "version": 1,
      "views": {
       "default_view": {
        "col": 0,
        "height": 2,
        "row": 108,
        "width": 12
       },
       "grid_default": {
        "col": null,
        "height": 2,
        "hidden": true,
        "row": null,
        "width": 2
       }
      }
     }
    }
   },
   "source": [
    "### The Null and Alternative Hypotheses "
   ]
  },
  {
   "cell_type": "markdown",
   "id": "d8881b41",
   "metadata": {
    "extensions": {
     "jupyter_dashboards": {
      "version": 1,
      "views": {
       "default_view": {
        "col": 0,
        "height": 2,
        "row": 110,
        "width": 12
       },
       "grid_default": {
        "col": null,
        "height": 2,
        "hidden": true,
        "row": null,
        "width": 2
       }
      }
     }
    }
   },
   "source": [
    "<font face=\"Helvetica\" size=\"3px\" color=\"#323752\" >Chi-square test requires to state the null hypothesis, H0, and the alternative hypothesis, H1. The null hypothesis is the statement that our two variables are independent. The alternative hypothesis is the statement that they are not independent.</font>\n",
    "<br>"
   ]
  },
  {
   "cell_type": "markdown",
   "id": "bc933c5f",
   "metadata": {
    "extensions": {
     "jupyter_dashboards": {
      "version": 1,
      "views": {
       "default_view": {
        "col": 0,
        "height": 2,
        "row": 112,
        "width": 12
       },
       "grid_default": {
        "col": null,
        "height": 2,
        "hidden": true,
        "row": null,
        "width": 2
       }
      }
     }
    }
   },
   "source": [
    "<font face=\"Helvetica\" size=\"3px\" color=\"#323752\" > If the calculated Chi-square is greater than the critical value we <b>reject the null hypothesis.</b></font>\n",
    "<br>\n",
    "<br>\n"
   ]
  },
  {
   "cell_type": "code",
   "execution_count": 21,
   "id": "e49e82a9",
   "metadata": {
    "extensions": {
     "jupyter_dashboards": {
      "version": 1,
      "views": {
       "default_view": {
        "col": 0,
        "height": 2,
        "row": 114,
        "width": 12
       },
       "grid_default": {
        "col": null,
        "height": 2,
        "hidden": true,
        "row": null,
        "width": 2
       }
      }
     }
    },
    "tags": []
   },
   "outputs": [
    {
     "name": "stdout",
     "output_type": "stream",
     "text": [
      "p-value is:  0.10948340023844266\n",
      "chi=6.044118, critical value=7.814728\n",
      "\n",
      "At 0.05 level of significance, we accept the null hypotheses. \n",
      "They are independent.\n"
     ]
    }
   ],
   "source": [
    "chi, pval, dof, exp = chi2_contingency(closeness_party)\n",
    "print('p-value is: ', pval)\n",
    "\n",
    "significance = 0.05\n",
    "p = 1 - significance\n",
    "\n",
    "critical_value = chi2.ppf(p, dof)\n",
    "print('chi=%.6f, critical value=%.6f\\n' % (chi, critical_value))\n",
    "\n",
    "if chi > critical_value:\n",
    "    print(\"\"\"At %.2f level of significance, we reject the null hypotheses and accept H1. \n",
    "They are not independent.\"\"\" % (significance))\n",
    "else:\n",
    "    print(\"\"\"At %.2f level of significance, we accept the null hypotheses. \n",
    "They are independent.\"\"\" % (significance))"
   ]
  },
  {
   "cell_type": "markdown",
   "id": "74e43905",
   "metadata": {
    "extensions": {
     "jupyter_dashboards": {
      "version": 1,
      "views": {
       "default_view": {
        "col": 0,
        "height": 2,
        "row": 116,
        "width": 12
       },
       "grid_default": {
        "col": null,
        "height": 2,
        "hidden": true,
        "row": null,
        "width": 2
       }
      }
     }
    }
   },
   "source": [
    "<br>\n",
    "<br>\n",
    "<font face=\"Helvetica\" size=\"3px\" color=\"#323752\" > Alternatively, we can compare the p-value and the level of significance. If p-value < the level of significance, <b> we reject the null hypothesis.</b></font>\n",
    "<br>\n",
    "<br>"
   ]
  },
  {
   "cell_type": "code",
   "execution_count": 22,
   "id": "6f098dca",
   "metadata": {
    "extensions": {
     "jupyter_dashboards": {
      "version": 1,
      "views": {
       "default_view": {
        "col": 0,
        "height": 2,
        "row": 118,
        "width": 12
       },
       "grid_default": {
        "col": null,
        "height": 2,
        "hidden": true,
        "row": null,
        "width": 2
       }
      }
     }
    },
    "tags": []
   },
   "outputs": [
    {
     "name": "stdout",
     "output_type": "stream",
     "text": [
      "p-value=0.109483, significance=0.05\n",
      "\n",
      "At 0.05 level of significance, we accept the null hypotheses. \n",
      "They are independent.\n"
     ]
    }
   ],
   "source": [
    "chi, pval, dof, exp = chi2_contingency(closeness_party)\n",
    "\n",
    "significance = 0.05\n",
    "print('p-value=%.6f, significance=%.2f\\n' % (pval, significance))\n",
    "\n",
    "if pval < significance:\n",
    "    print(\"\"\"At %.2f level of significance, we reject the null hypotheses and accept H1. \n",
    "They are not independent.\"\"\" % (significance))\n",
    "else:\n",
    "    print(\"\"\"At %.2f level of significance, we accept the null hypotheses. \n",
    "They are independent.\"\"\" % (significance))"
   ]
  },
  {
   "cell_type": "markdown",
   "id": "27424b60",
   "metadata": {
    "extensions": {
     "jupyter_dashboards": {
      "version": 1,
      "views": {
       "default_view": {
        "col": 0,
        "height": 2,
        "row": 120,
        "width": 12
       },
       "grid_default": {
        "col": null,
        "height": 2,
        "hidden": true,
        "row": null,
        "width": 2
       }
      }
     }
    }
   },
   "source": [
    "## Switzerland - Low Turnout"
   ]
  },
  {
   "cell_type": "markdown",
   "id": "817b1509",
   "metadata": {
    "extensions": {
     "jupyter_dashboards": {
      "version": 1,
      "views": {
       "default_view": {
        "col": 0,
        "height": 2,
        "row": 122,
        "width": 12
       },
       "grid_default": {
        "col": null,
        "height": 2,
        "hidden": true,
        "row": null,
        "width": 2
       }
      }
     }
    }
   },
   "source": [
    "***"
   ]
  },
  {
   "cell_type": "markdown",
   "id": "1133ec48",
   "metadata": {
    "extensions": {
     "jupyter_dashboards": {
      "version": 1,
      "views": {
       "default_view": {
        "col": 0,
        "height": 2,
        "row": 124,
        "width": 12
       },
       "grid_default": {
        "col": null,
        "height": 2,
        "hidden": true,
        "row": null,
        "width": 2
       }
      }
     }
    }
   },
   "source": [
    "<br>\n",
    "<br>\n",
    "<font face=\"Helvetica\" size=\"3px\" color=\"#323752\" > We will make same analysis on Switzerland. Same steps will be implemented. Try to get familiar with them. We will start with clearing missing informations to get much more clean and logical graphs and tables.</font>\n",
    "<br>\n",
    "<br>"
   ]
  },
  {
   "cell_type": "code",
   "execution_count": 23,
   "id": "f7a3273c",
   "metadata": {
    "extensions": {
     "jupyter_dashboards": {
      "version": 1,
      "views": {
       "default_view": {
        "hidden": true
       },
       "grid_default": {
        "col": null,
        "height": 2,
        "hidden": true,
        "row": null,
        "width": 2
       }
      }
     }
    },
    "tags": []
   },
   "outputs": [],
   "source": [
    "for i in range(len(df_dict['Switzerland']['education'])):\n",
    "    if df_dict['Switzerland']['education'][i] == 97 or df_dict['Switzerland']['education'][i] == 98 or df_dict['Switzerland']['education'][i] == 99:\n",
    "        df_dict['Switzerland']['education'][i] = -1\n",
    "    elif df_dict['Switzerland']['education'][i] == 96:\n",
    "        df_dict['Switzerland']['education'][i] = 0\n",
    "\n",
    "for i in range(len(df_dict['Switzerland']['closeness_party'])):\n",
    "    if df_dict['Switzerland']['closeness_party'][i] == 7 or df_dict['Switzerland']['closeness_party'][i] == 8 or df_dict['Switzerland']['closeness_party'][i] == 9:\n",
    "        df_dict['Switzerland']['closeness_party'][i] = -1\n",
    "\n",
    "for i in range(len(df_dict['Switzerland']['employement'])):\n",
    "    if df_dict['Switzerland']['employement'][i] == 13 or df_dict['Switzerland']['employement'][i] == 14 or df_dict['Switzerland']['employement'][i] == 97  or df_dict['Switzerland']['employement'][i] == 98  or df_dict['Switzerland']['employement'][i] == 99:\n",
    "        df_dict['Switzerland']['employement'][i] = -1"
   ]
  },
  {
   "cell_type": "markdown",
   "id": "b3c46c85",
   "metadata": {
    "extensions": {
     "jupyter_dashboards": {
      "version": 1,
      "views": {
       "default_view": {
        "col": 0,
        "height": 2,
        "row": 130,
        "width": 12
       },
       "grid_default": {
        "col": null,
        "height": 2,
        "hidden": true,
        "row": null,
        "width": 2
       }
      }
     }
    }
   },
   "source": [
    "<br>\n",
    "<br>\n",
    "<font face=\"Helvetica\" size=\"3px\" color=\"#323752\" > We will create a table in the following cells with gender and degree of closeness to a party in Switzerland. </font>\n",
    "<br>\n",
    "<br>\n"
   ]
  },
  {
   "cell_type": "code",
   "execution_count": 24,
   "id": "bda74780",
   "metadata": {
    "extensions": {
     "jupyter_dashboards": {
      "version": 1,
      "views": {
       "default_view": {
        "hidden": true
       },
       "grid_default": {
        "col": null,
        "height": 2,
        "hidden": true,
        "row": null,
        "width": 2
       }
      }
     }
    },
    "tags": []
   },
   "outputs": [],
   "source": [
    "count_female_s = 0\n",
    "count_male_s = 0\n",
    "\n",
    "male = [0]*4\n",
    "female = [0]*4\n",
    "for i in range(len(df_dict['Switzerland']['gender'])):\n",
    "    if df_dict['Switzerland']['closeness_party'][i] == 1:\n",
    "        if df_dict['Switzerland']['gender'][i] == 1:\n",
    "            count_male_s = count_male_s + 1;\n",
    "            male[0] = male[0] + 1\n",
    "        elif df_dict['Switzerland']['gender'][i] == 2:\n",
    "            count_female_s = count_female_s + 1\n",
    "            female[0] = female[0] + 1\n",
    "    if df_dict['Switzerland']['closeness_party'][i] == 2:\n",
    "        if df_dict['Switzerland']['gender'][i] == 1:\n",
    "            count_male_s = count_male_s + 1;\n",
    "            male[1] = male[1] + 1\n",
    "        elif df_dict['Switzerland']['gender'][i] == 2:\n",
    "            count_female_s = count_female_s + 1\n",
    "            female[1] = female[1] + 1\n",
    "    if df_dict['Switzerland']['closeness_party'][i] == 3:\n",
    "        if df_dict['Switzerland']['gender'][i] == 1:\n",
    "            count_male_s = count_male_s + 1;\n",
    "            male[2] = male[2] + 1\n",
    "        elif df_dict['Switzerland']['gender'][i] == 2:\n",
    "            count_female_s = count_female_s + 1\n",
    "            female[2] = female[2] + 1\n",
    "    if df_dict['Switzerland']['closeness_party'][i] == -1:\n",
    "        if df_dict['Switzerland']['gender'][i] == 1:\n",
    "            count_male_s = count_male_s + 1;\n",
    "            male[3] = male[3] + 1\n",
    "        elif df_dict['Switzerland']['gender'][i] == 2:\n",
    "            count_female_s = count_female_s + 1\n",
    "            female[3] = female[3] + 1"
   ]
  },
  {
   "cell_type": "markdown",
   "id": "3243565b",
   "metadata": {
    "extensions": {
     "jupyter_dashboards": {
      "version": 1,
      "views": {
       "default_view": {
        "col": 0,
        "height": 2,
        "row": 134,
        "width": 12
       },
       "grid_default": {
        "col": null,
        "height": 2,
        "hidden": true,
        "row": null,
        "width": 2
       }
      }
     }
    }
   },
   "source": [
    "<br>\n",
    "<br>\n",
    "<font face=\"Helvetica\" size=\"3px\" color=\"#323752\" > We are going to create sample data which is about gender and degree of closeness to a party in Switzerland. <font face=\"Helvetica\" size=\"3.5px\" color=\"#63b6c7\" ><b>Pandas </b></font>index and columns are used to name rows and columns. \n",
    "<br>\n",
    "<br>"
   ]
  },
  {
   "cell_type": "code",
   "execution_count": 25,
   "id": "e3a14df9",
   "metadata": {
    "extensions": {
     "jupyter_dashboards": {
      "version": 1,
      "views": {
       "default_view": {
        "col": 0,
        "height": 2,
        "row": 136,
        "width": 12
       },
       "grid_default": {
        "col": null,
        "height": 2,
        "hidden": true,
        "row": null,
        "width": 2
       }
      }
     }
    },
    "tags": []
   },
   "outputs": [
    {
     "data": {
      "text/html": [
       "<div>\n",
       "<style scoped>\n",
       "    .dataframe tbody tr th:only-of-type {\n",
       "        vertical-align: middle;\n",
       "    }\n",
       "\n",
       "    .dataframe tbody tr th {\n",
       "        vertical-align: top;\n",
       "    }\n",
       "\n",
       "    .dataframe thead th {\n",
       "        text-align: right;\n",
       "    }\n",
       "</style>\n",
       "<table border=\"1\" class=\"dataframe\">\n",
       "  <thead>\n",
       "    <tr style=\"text-align: right;\">\n",
       "      <th></th>\n",
       "      <th>Very Close</th>\n",
       "      <th>Somewhat Close</th>\n",
       "      <th>Not very Close</th>\n",
       "      <th>Missing/No Info</th>\n",
       "    </tr>\n",
       "  </thead>\n",
       "  <tbody>\n",
       "    <tr>\n",
       "      <th>Male</th>\n",
       "      <td>212</td>\n",
       "      <td>1078</td>\n",
       "      <td>579</td>\n",
       "      <td>436</td>\n",
       "    </tr>\n",
       "    <tr>\n",
       "      <th>Female</th>\n",
       "      <td>153</td>\n",
       "      <td>989</td>\n",
       "      <td>581</td>\n",
       "      <td>617</td>\n",
       "    </tr>\n",
       "  </tbody>\n",
       "</table>\n",
       "</div>"
      ],
      "text/plain": [
       "        Very Close  Somewhat Close  Not very Close  Missing/No Info\n",
       "Male           212            1078             579              436\n",
       "Female         153             989             581              617"
      ]
     },
     "execution_count": 25,
     "metadata": {},
     "output_type": "execute_result"
    }
   ],
   "source": [
    "closeness_party = pd.DataFrame(\n",
    "    [\n",
    "        male,\n",
    "        female\n",
    "    ],\n",
    "    index=[\"Male\",\"Female\"],\n",
    "    columns=[\"Very Close\",\"Somewhat Close\",\"Not very Close\",\"Missing/No Info\"])\n",
    "\n",
    "closeness_party"
   ]
  },
  {
   "cell_type": "markdown",
   "id": "14065d92",
   "metadata": {
    "extensions": {
     "jupyter_dashboards": {
      "version": 1,
      "views": {
       "default_view": {
        "col": 0,
        "height": 2,
        "row": 138,
        "width": 12
       },
       "grid_default": {
        "col": null,
        "height": 2,
        "hidden": true,
        "row": null,
        "width": 2
       }
      }
     }
    }
   },
   "source": [
    "<br>\n",
    "<br>\n",
    "<font face=\"Helvetica\" size=\"3px\" color=\"#323752\" > Python uses zero-based indexing. That means, the first element has an index 0, the second has index 1, and so on. If you want to access the fourth value in the <b>chi2_contingency(closeness_party)</b> you need to use <b>[3]</b>.</font>\n",
    "<br>\n",
    "<br>"
   ]
  },
  {
   "cell_type": "markdown",
   "id": "81ac8d43",
   "metadata": {
    "extensions": {
     "jupyter_dashboards": {
      "version": 1,
      "views": {
       "default_view": {
        "col": 0,
        "height": 2,
        "row": 140,
        "width": 12
       },
       "grid_default": {
        "col": null,
        "height": 2,
        "hidden": true,
        "row": null,
        "width": 2
       }
      }
     }
    }
   },
   "source": [
    "### chi2_contingency"
   ]
  },
  {
   "cell_type": "markdown",
   "id": "ff374f6b",
   "metadata": {
    "extensions": {
     "jupyter_dashboards": {
      "version": 1,
      "views": {
       "default_view": {
        "col": 0,
        "height": 2,
        "row": 142,
        "width": 12
       },
       "grid_default": {
        "col": null,
        "height": 2,
        "hidden": true,
        "row": null,
        "width": 2
       }
      }
     }
    }
   },
   "source": [
    "<br>\n",
    "<font face=\"Helvetica\" size=\"3px\" color=\"#323752\" > <font face=\"Helvetica\" size=\"3.5px\" color=\"#63b6c7\" ><b>SciPy’s chi2_contingency() </b></font>returns four values, <b> 𝜒2 value, p-value, degree of freedom and expected values.</b> \n",
    "<br>\n",
    "<br>"
   ]
  },
  {
   "cell_type": "code",
   "execution_count": 26,
   "id": "d7dcbd62",
   "metadata": {
    "extensions": {
     "jupyter_dashboards": {
      "version": 1,
      "views": {
       "default_view": {
        "col": 0,
        "height": 2,
        "row": 144,
        "width": 12
       },
       "grid_default": {
        "col": null,
        "height": 2,
        "hidden": true,
        "row": null,
        "width": 2
       }
      }
     }
    },
    "tags": []
   },
   "outputs": [
    {
     "data": {
      "text/plain": [
       "(44.223405599340765,\n",
       " 1.3529532990376792e-09,\n",
       " 3,\n",
       " array([[ 181.12486545, 1025.71259419,  575.62970936,  522.532831  ],\n",
       "        [ 183.87513455, 1041.28740581,  584.37029064,  530.467169  ]]))"
      ]
     },
     "execution_count": 26,
     "metadata": {},
     "output_type": "execute_result"
    }
   ],
   "source": [
    "chi2_contingency(closeness_party)"
   ]
  },
  {
   "cell_type": "markdown",
   "id": "f97828f0",
   "metadata": {
    "extensions": {
     "jupyter_dashboards": {
      "version": 1,
      "views": {
       "default_view": {
        "col": 0,
        "height": 2,
        "row": 146,
        "width": 12
       },
       "grid_default": {
        "col": null,
        "height": 2,
        "hidden": true,
        "row": null,
        "width": 2
       }
      }
     }
    }
   },
   "source": [
    "### Expected values "
   ]
  },
  {
   "cell_type": "markdown",
   "id": "960952ee",
   "metadata": {
    "extensions": {
     "jupyter_dashboards": {
      "version": 1,
      "views": {
       "default_view": {
        "col": 0,
        "height": 2,
        "row": 148,
        "width": 12
       },
       "grid_default": {
        "col": null,
        "height": 2,
        "hidden": true,
        "row": null,
        "width": 2
       }
      }
     }
    }
   },
   "source": [
    "<br>\n",
    "<font face=\"Helvetica\" size=\"3px\" color=\"#323752\" > You can find the expected values at the forth in the returned value. It is in an array form. Let’s print the expected values. We again use the Pandas dataframe. We are going to add index and column values and round the values to the two decimal places <b>round(2)</b>. </font>\n",
    "<br>\n",
    "<br>"
   ]
  },
  {
   "cell_type": "code",
   "execution_count": 27,
   "id": "9dda09de",
   "metadata": {
    "extensions": {
     "jupyter_dashboards": {
      "version": 1,
      "views": {
       "default_view": {
        "col": 0,
        "height": 2,
        "row": 150,
        "width": 12
       },
       "grid_default": {
        "col": null,
        "height": 2,
        "hidden": true,
        "row": null,
        "width": 2
       }
      }
     }
    },
    "tags": []
   },
   "outputs": [
    {
     "data": {
      "text/html": [
       "<div>\n",
       "<style scoped>\n",
       "    .dataframe tbody tr th:only-of-type {\n",
       "        vertical-align: middle;\n",
       "    }\n",
       "\n",
       "    .dataframe tbody tr th {\n",
       "        vertical-align: top;\n",
       "    }\n",
       "\n",
       "    .dataframe thead th {\n",
       "        text-align: right;\n",
       "    }\n",
       "</style>\n",
       "<table border=\"1\" class=\"dataframe\">\n",
       "  <thead>\n",
       "    <tr style=\"text-align: right;\">\n",
       "      <th></th>\n",
       "      <th>Very Close</th>\n",
       "      <th>Somewhat Close</th>\n",
       "      <th>Not very Close</th>\n",
       "      <th>Missing/No Info</th>\n",
       "    </tr>\n",
       "  </thead>\n",
       "  <tbody>\n",
       "    <tr>\n",
       "      <th>Male</th>\n",
       "      <td>181.12</td>\n",
       "      <td>1025.71</td>\n",
       "      <td>575.63</td>\n",
       "      <td>522.53</td>\n",
       "    </tr>\n",
       "    <tr>\n",
       "      <th>Female</th>\n",
       "      <td>183.88</td>\n",
       "      <td>1041.29</td>\n",
       "      <td>584.37</td>\n",
       "      <td>530.47</td>\n",
       "    </tr>\n",
       "  </tbody>\n",
       "</table>\n",
       "</div>"
      ],
      "text/plain": [
       "        Very Close  Somewhat Close  Not very Close  Missing/No Info\n",
       "Male        181.12         1025.71          575.63           522.53\n",
       "Female      183.88         1041.29          584.37           530.47"
      ]
     },
     "execution_count": 27,
     "metadata": {},
     "output_type": "execute_result"
    }
   ],
   "source": [
    "df=chi2_contingency(closeness_party)[3]\n",
    "pd.DataFrame(\n",
    "    data=df[:,:], \n",
    "    index=[\"Male\",\"Female\"],\n",
    "    columns=[\"Very Close\",\"Somewhat Close\",\"Not very Close\",\"Missing/No Info\"]).round(2)"
   ]
  },
  {
   "cell_type": "markdown",
   "id": "305d381f",
   "metadata": {
    "extensions": {
     "jupyter_dashboards": {
      "version": 1,
      "views": {
       "default_view": {
        "col": 0,
        "height": 2,
        "row": 152,
        "width": 12
       },
       "grid_default": {
        "col": null,
        "height": 2,
        "hidden": true,
        "row": null,
        "width": 2
       }
      }
     }
    }
   },
   "source": [
    "<br>\n",
    "<br>\n",
    "<font face=\"Helvetica\" size=\"3px\" color=\"#323752\" > The table above is called <font face=\"Helvetica\" size=\"3.5px\" color=\"#63b6c7\" ><b> a contingency table</b></font>.\n",
    "<br>\n",
    "<br>"
   ]
  },
  {
   "cell_type": "markdown",
   "id": "07817a2d",
   "metadata": {
    "extensions": {
     "jupyter_dashboards": {
      "version": 1,
      "views": {
       "default_view": {
        "col": 0,
        "height": 2,
        "row": 154,
        "width": 12
       },
       "grid_default": {
        "col": null,
        "height": 2,
        "hidden": true,
        "row": null,
        "width": 2
       }
      }
     }
    }
   },
   "source": [
    "### 𝜒2 value "
   ]
  },
  {
   "cell_type": "markdown",
   "id": "bfa4b484",
   "metadata": {
    "extensions": {
     "jupyter_dashboards": {
      "version": 1,
      "views": {
       "default_view": {
        "col": 0,
        "height": 2,
        "row": 156,
        "width": 12
       },
       "grid_default": {
        "col": null,
        "height": 2,
        "hidden": true,
        "row": null,
        "width": 2
       }
      }
     }
    }
   },
   "source": [
    "<br>\n",
    "<font face=\"Helvetica\" size=\"3px\" color=\"#323752\" > The 𝜒2 equation tells us to find the square of the difference between the actual value and expected value and divide it by the expected value. This is what chi2_contingency is doing behind the scene. Since Python is 0 based index, in order to print the 𝜒2 we need to use <b>[0]</b>, which is the first value.</font>\n",
    "<br>\n",
    "<br>"
   ]
  },
  {
   "cell_type": "code",
   "execution_count": 28,
   "id": "3f1c2a9f",
   "metadata": {
    "extensions": {
     "jupyter_dashboards": {
      "version": 1,
      "views": {
       "default_view": {
        "col": 0,
        "height": 2,
        "row": 158,
        "width": 12
       },
       "grid_default": {
        "col": null,
        "height": 2,
        "hidden": true,
        "row": null,
        "width": 2
       }
      }
     }
    },
    "tags": []
   },
   "outputs": [
    {
     "name": "stdout",
     "output_type": "stream",
     "text": [
      "44.223405599340765\n"
     ]
    }
   ],
   "source": [
    "chisquare=chi2_contingency(closeness_party)[0]\n",
    "print(chisquare)"
   ]
  },
  {
   "cell_type": "markdown",
   "id": "11c9a703",
   "metadata": {
    "extensions": {
     "jupyter_dashboards": {
      "version": 1,
      "views": {
       "default_view": {
        "col": 0,
        "height": 2,
        "row": 160,
        "width": 12
       },
       "grid_default": {
        "col": null,
        "height": 2,
        "hidden": true,
        "row": null,
        "width": 2
       }
      }
     }
    }
   },
   "source": [
    "### p-Value "
   ]
  },
  {
   "cell_type": "markdown",
   "id": "941c360b",
   "metadata": {
    "extensions": {
     "jupyter_dashboards": {
      "version": 1,
      "views": {
       "default_view": {
        "col": 0,
        "height": 2,
        "row": 162,
        "width": 12
       },
       "grid_default": {
        "col": null,
        "height": 2,
        "hidden": true,
        "row": null,
        "width": 2
       }
      }
     }
    }
   },
   "source": [
    "<br>\n",
    "<font face=\"Helvetica\" size=\"3px\" color=\"#323752\" > You can find the p-value at the second in the returned value. p-value measures the probability of seeing the effect when the null hypothesis is true. So, when the p-value is low enough, we reject the null hypothesis and conclude the observed effect holds.</font>\n",
    "<br>\n",
    "<br>"
   ]
  },
  {
   "cell_type": "code",
   "execution_count": 29,
   "id": "75ec194f",
   "metadata": {
    "extensions": {
     "jupyter_dashboards": {
      "version": 1,
      "views": {
       "default_view": {
        "col": 0,
        "height": 2,
        "row": 164,
        "width": 12
       },
       "grid_default": {
        "col": null,
        "height": 2,
        "hidden": true,
        "row": null,
        "width": 2
       }
      }
     }
    },
    "tags": []
   },
   "outputs": [
    {
     "name": "stdout",
     "output_type": "stream",
     "text": [
      "1.3529532990376792e-09\n"
     ]
    }
   ],
   "source": [
    "pvalue=chi2_contingency(closeness_party)[1]\n",
    "print(pvalue)"
   ]
  },
  {
   "cell_type": "markdown",
   "id": "ea371917",
   "metadata": {
    "extensions": {
     "jupyter_dashboards": {
      "version": 1,
      "views": {
       "default_view": {
        "col": 0,
        "height": 2,
        "row": 166,
        "width": 12
       },
       "grid_default": {
        "col": null,
        "height": 2,
        "hidden": true,
        "row": null,
        "width": 2
       }
      }
     }
    }
   },
   "source": [
    "### Degree of freedom "
   ]
  },
  {
   "cell_type": "markdown",
   "id": "720d2843",
   "metadata": {
    "extensions": {
     "jupyter_dashboards": {
      "version": 1,
      "views": {
       "default_view": {
        "col": 0,
        "height": 2,
        "row": 168,
        "width": 12
       },
       "grid_default": {
        "col": null,
        "height": 2,
        "hidden": true,
        "row": null,
        "width": 2
       }
      }
     }
    }
   },
   "source": [
    "<br>\n",
    "<font face=\"Helvetica\" size=\"3px\" color=\"#323752\" >In the returned value from the chi2_contingency, the third one is the degree of freedom. We use <b>[2]</b> which is the third one. The following will output 3.</font>\n",
    "<br>\n",
    "<br>"
   ]
  },
  {
   "cell_type": "code",
   "execution_count": 30,
   "id": "24fc64cb",
   "metadata": {
    "extensions": {
     "jupyter_dashboards": {
      "version": 1,
      "views": {
       "default_view": {
        "col": 0,
        "height": 2,
        "row": 170,
        "width": 12
       },
       "grid_default": {
        "col": null,
        "height": 2,
        "hidden": true,
        "row": null,
        "width": 2
       }
      }
     }
    },
    "tags": []
   },
   "outputs": [
    {
     "name": "stdout",
     "output_type": "stream",
     "text": [
      "3\n"
     ]
    }
   ],
   "source": [
    "dof=chi2_contingency(closeness_party)[2]\n",
    "print(dof)"
   ]
  },
  {
   "cell_type": "markdown",
   "id": "543da42b",
   "metadata": {
    "extensions": {
     "jupyter_dashboards": {
      "version": 1,
      "views": {
       "default_view": {
        "col": 0,
        "height": 2,
        "row": 96,
        "width": 12
       },
       "grid_default": {
        "col": null,
        "height": 2,
        "hidden": true,
        "row": null,
        "width": 2
       }
      }
     }
    }
   },
   "source": [
    "### Critical values "
   ]
  },
  {
   "cell_type": "markdown",
   "id": "b9d84b7f",
   "metadata": {
    "extensions": {
     "jupyter_dashboards": {
      "version": 1,
      "views": {
       "default_view": {
        "col": 0,
        "height": 2,
        "row": 174,
        "width": 12
       },
       "grid_default": {
        "col": null,
        "height": 2,
        "hidden": true,
        "row": null,
        "width": 2
       }
      }
     }
    }
   },
   "source": [
    "<font face=\"Helvetica\" size=\"3px\" color=\"#323752\" > The level of significance and degree of freedom can be used to find the critical value. As I mentioned, you can find the degree of freedom from the array. State and define probability from the level of significance, 1%, 5% 10%, etc.</font>\n",
    "<br>\n",
    "<br>"
   ]
  },
  {
   "cell_type": "code",
   "execution_count": 31,
   "id": "0bf4bc34",
   "metadata": {
    "extensions": {
     "jupyter_dashboards": {
      "version": 1,
      "views": {
       "default_view": {
        "col": 0,
        "height": 2,
        "row": 176,
        "width": 12
       },
       "grid_default": {
        "col": null,
        "height": 2,
        "hidden": true,
        "row": null,
        "width": 2
       }
      }
     }
    },
    "tags": []
   },
   "outputs": [
    {
     "name": "stdout",
     "output_type": "stream",
     "text": [
      "11.344866730144373\n"
     ]
    }
   ],
   "source": [
    "significance = 0.01\n",
    "p = 1 - significance\n",
    "dof = chi2_contingency(closeness_party)[2]\n",
    "critical_value = chi2.ppf(p, dof)\n",
    "print(critical_value)"
   ]
  },
  {
   "cell_type": "markdown",
   "id": "1c18e8d3",
   "metadata": {
    "extensions": {
     "jupyter_dashboards": {
      "version": 1,
      "views": {
       "default_view": {
        "col": 0,
        "height": 2,
        "row": 178,
        "width": 12
       },
       "grid_default": {
        "col": null,
        "height": 2,
        "hidden": true,
        "row": null,
        "width": 2
       }
      }
     }
    }
   },
   "source": [
    "<br>\n",
    "<br>\n",
    "<font face=\"Helvetica\" size=\"3px\" color=\"#323752\" > Let's check the p-value by using the critical value that we calculated </font>\n",
    "<br>\n",
    "<br>"
   ]
  },
  {
   "cell_type": "code",
   "execution_count": 32,
   "id": "bb3a86bc",
   "metadata": {
    "extensions": {
     "jupyter_dashboards": {
      "version": 1,
      "views": {
       "default_view": {
        "col": 0,
        "height": 2,
        "row": 180,
        "width": 12
       },
       "grid_default": {
        "col": null,
        "height": 2,
        "hidden": true,
        "row": null,
        "width": 2
       }
      }
     }
    },
    "tags": []
   },
   "outputs": [
    {
     "name": "stdout",
     "output_type": "stream",
     "text": [
      "0.99\n"
     ]
    }
   ],
   "source": [
    "p = chi2.cdf(critical_value, dof)\n",
    "print(p)"
   ]
  },
  {
   "cell_type": "markdown",
   "id": "64a62b91",
   "metadata": {
    "extensions": {
     "jupyter_dashboards": {
      "version": 1,
      "views": {
       "default_view": {
        "col": 0,
        "height": 2,
        "row": 182,
        "width": 12
       },
       "grid_default": {
        "col": null,
        "height": 2,
        "hidden": true,
        "row": null,
        "width": 2
       }
      }
     }
    }
   },
   "source": [
    "<br>\n",
    "<font face=\"Helvetica\" size=\"3px\" color=\"#323752\" > Which confirms the critical value. </font>\n",
    "<br>\n",
    "<br>"
   ]
  },
  {
   "cell_type": "markdown",
   "id": "93feb5f9",
   "metadata": {
    "extensions": {
     "jupyter_dashboards": {
      "version": 1,
      "views": {
       "default_view": {
        "col": 0,
        "height": 2,
        "row": 184,
        "width": 12
       },
       "grid_default": {
        "col": null,
        "height": 2,
        "hidden": true,
        "row": null,
        "width": 2
       }
      }
     }
    }
   },
   "source": [
    "### The Null and Alternative Hypotheses "
   ]
  },
  {
   "cell_type": "markdown",
   "id": "953b52b5",
   "metadata": {
    "extensions": {
     "jupyter_dashboards": {
      "version": 1,
      "views": {
       "default_view": {
        "col": 0,
        "height": 2,
        "row": 186,
        "width": 12
       },
       "grid_default": {
        "col": null,
        "height": 2,
        "hidden": true,
        "row": null,
        "width": 2
       }
      }
     }
    }
   },
   "source": [
    "<font face=\"Helvetica\" size=\"3px\" color=\"#323752\" >Chi-square test requires to state the null hypothesis, H0, and the alternative hypothesis, H1. The null hypothesis is the statement that our two variables are independent. The alternative hypothesis is the statement that they are not independent.</font>\n",
    "<br>"
   ]
  },
  {
   "cell_type": "markdown",
   "id": "458d9fb8",
   "metadata": {
    "extensions": {
     "jupyter_dashboards": {
      "version": 1,
      "views": {
       "default_view": {
        "col": 0,
        "height": 2,
        "row": 188,
        "width": 12
       },
       "grid_default": {
        "col": null,
        "height": 2,
        "hidden": true,
        "row": null,
        "width": 2
       }
      }
     }
    }
   },
   "source": [
    "<font face=\"Helvetica\" size=\"3px\" color=\"#323752\" > If the calculated Chi-square is greater than the critical value we <b>reject the null hypothesis.</b></font>\n",
    "<br>\n",
    "<br>\n"
   ]
  },
  {
   "cell_type": "code",
   "execution_count": 33,
   "id": "24f70df1",
   "metadata": {
    "extensions": {
     "jupyter_dashboards": {
      "version": 1,
      "views": {
       "default_view": {
        "col": 0,
        "height": 2,
        "row": 190,
        "width": 12
       },
       "grid_default": {
        "col": null,
        "height": 2,
        "hidden": true,
        "row": null,
        "width": 2
       }
      }
     }
    },
    "tags": []
   },
   "outputs": [
    {
     "name": "stdout",
     "output_type": "stream",
     "text": [
      "p-value is:  1.3529532990376792e-09\n",
      "chi=44.223406, critical value=11.344867\n",
      "\n",
      "At 0.01 level of significance, we reject the null hypotheses and accept H1. \n",
      "They are not independent.\n"
     ]
    }
   ],
   "source": [
    "chi, pval, dof, exp = chi2_contingency(closeness_party)\n",
    "print('p-value is: ', pval)\n",
    "\n",
    "significance = 0.01\n",
    "p = 1 - significance\n",
    "\n",
    "critical_value = chi2.ppf(p, dof)\n",
    "print('chi=%.6f, critical value=%.6f\\n' % (chi, critical_value))\n",
    "\n",
    "if chi > critical_value:\n",
    "    print(\"\"\"At %.2f level of significance, we reject the null hypotheses and accept H1. \n",
    "They are not independent.\"\"\" % (significance))\n",
    "else:\n",
    "    print(\"\"\"At %.2f level of significance, we accept the null hypotheses. \n",
    "They are independent.\"\"\" % (significance))"
   ]
  },
  {
   "cell_type": "markdown",
   "id": "2608d4e5",
   "metadata": {
    "extensions": {
     "jupyter_dashboards": {
      "version": 1,
      "views": {
       "default_view": {
        "col": 0,
        "height": 2,
        "row": 192,
        "width": 12
       },
       "grid_default": {
        "col": null,
        "height": 2,
        "hidden": true,
        "row": null,
        "width": 2
       }
      }
     }
    }
   },
   "source": [
    "<br>\n",
    "<br>\n",
    "<font face=\"Helvetica\" size=\"3px\" color=\"#323752\" > Alternatively, we can compare the p-value and the level of significance. If p-value < the level of significance, <b> we reject the null hypothesis.</b></font>\n",
    "<br>\n",
    "<br>"
   ]
  },
  {
   "cell_type": "code",
   "execution_count": 34,
   "id": "b2ad72ab",
   "metadata": {
    "extensions": {
     "jupyter_dashboards": {
      "version": 1,
      "views": {
       "default_view": {
        "col": 0,
        "height": 2,
        "row": 194,
        "width": 12
       },
       "grid_default": {
        "col": null,
        "height": 2,
        "hidden": true,
        "row": null,
        "width": 2
       }
      }
     }
    },
    "tags": []
   },
   "outputs": [
    {
     "name": "stdout",
     "output_type": "stream",
     "text": [
      "p-value=0.000000, significance=0.01\n",
      "\n",
      "At 0.01 level of significance, we reject the null hypotheses and accept H1. \n",
      "They are not independent.\n"
     ]
    }
   ],
   "source": [
    "chi, pval, dof, exp = chi2_contingency(closeness_party)\n",
    "\n",
    "significance = 0.01\n",
    "print('p-value=%.6f, significance=%.2f\\n' % (pval, significance))\n",
    "\n",
    "if pval < significance:\n",
    "    print(\"\"\"At %.2f level of significance, we reject the null hypotheses and accept H1. \n",
    "They are not independent.\"\"\" % (significance))\n",
    "else:\n",
    "    print(\"\"\"At %.2f level of significance, we accept the null hypotheses. \n",
    "They are independent.\"\"\" % (significance))"
   ]
  },
  {
   "cell_type": "markdown",
   "id": "f041a7ac",
   "metadata": {
    "extensions": {
     "jupyter_dashboards": {
      "version": 1,
      "views": {
       "default_view": {
        "col": 0,
        "height": 2,
        "row": 198,
        "width": 12
       },
       "grid_default": {
        "col": null,
        "height": 2,
        "hidden": true,
        "row": null,
        "width": 2
       }
      }
     }
    }
   },
   "source": [
    "## Interactive Graphs for The Null and Alternative Hypotheses"
   ]
  },
  {
   "cell_type": "markdown",
   "id": "89f3e780",
   "metadata": {
    "extensions": {
     "jupyter_dashboards": {
      "version": 1,
      "views": {
       "default_view": {
        "col": 0,
        "height": 2,
        "row": 200,
        "width": 12
       },
       "grid_default": {
        "col": null,
        "height": 2,
        "hidden": true,
        "row": null,
        "width": 2
       }
      }
     }
    }
   },
   "source": [
    "***"
   ]
  },
  {
   "cell_type": "markdown",
   "id": "d8518472",
   "metadata": {
    "extensions": {
     "jupyter_dashboards": {
      "version": 1,
      "views": {
       "default_view": {
        "col": 0,
        "height": 2,
        "row": 202,
        "width": 12
       },
       "grid_default": {
        "col": null,
        "height": 2,
        "hidden": true,
        "row": null,
        "width": 2
       }
      }
     }
    }
   },
   "source": [
    "<br>\n",
    "<br>\n",
    "<font face=\"Helvetica\" size=\"3px\" color=\"#323752\" > We will add another country with an average turnout value in this stage of the project. Our goal is creating <b>interactive widgets</b> to increase the understanding.</font>\n",
    "<br>"
   ]
  },
  {
   "cell_type": "markdown",
   "id": "a12879b0",
   "metadata": {
    "extensions": {
     "jupyter_dashboards": {
      "version": 1,
      "views": {
       "default_view": {
        "col": 0,
        "height": 2,
        "row": 204,
        "width": 12
       },
       "grid_default": {
        "col": null,
        "height": 2,
        "hidden": true,
        "row": null,
        "width": 2
       }
      }
     }
    }
   },
   "source": [
    "<font face=\"Helvetica\" size=\"3px\" color=\"#323752\" > In order to create interactive widgets, we will be using <font face=\"Helvetica\" size=\"3.5px\" color=\"#63b6c7\" ><b>ipywidgets</b>.\n",
    "<br>\n",
    "<br>"
   ]
  },
  {
   "cell_type": "code",
   "execution_count": 35,
   "id": "cae7f9d7",
   "metadata": {
    "extensions": {
     "jupyter_dashboards": {
      "version": 1,
      "views": {
       "default_view": {
        "hidden": true
       },
       "grid_default": {
        "col": null,
        "height": 2,
        "hidden": true,
        "row": null,
        "width": 2
       }
      }
     }
    },
    "tags": []
   },
   "outputs": [],
   "source": [
    "import ipywidgets as widgets"
   ]
  },
  {
   "cell_type": "markdown",
   "id": "e7d85bbb",
   "metadata": {
    "extensions": {
     "jupyter_dashboards": {
      "version": 1,
      "views": {
       "default_view": {
        "col": 0,
        "height": 2,
        "row": 208,
        "width": 12
       },
       "grid_default": {
        "col": null,
        "height": 2,
        "hidden": true,
        "row": null,
        "width": 2
       }
      }
     }
    }
   },
   "source": [
    "<br>\n",
    "<br>\n",
    "<font face=\"Helvetica\" size=\"3px\" color=\"#323752\"> In the following interactive widget, we will observe <b> the null and alternative hypotheses on chi-square distribution</b>. We will use three different countries which will be selectable. Also user can select the <b>sigificance</b> of the test.</font>\n",
    "<br>"
   ]
  },
  {
   "cell_type": "markdown",
   "id": "53c848f8",
   "metadata": {
    "extensions": {
     "jupyter_dashboards": {
      "version": 1,
      "views": {
       "default_view": {
        "col": 0,
        "height": 2,
        "row": 210,
        "width": 12
       },
       "grid_default": {
        "col": null,
        "height": 2,
        "hidden": true,
        "row": null,
        "width": 2
       }
      }
     }
    }
   },
   "source": [
    "<font face=\"Helvetica\" size=\"3px\" color=\"#323752\">A table with labels and a graph with rejection region indicated will be generated. Also a final decision will be written at the below of the plot. User can observe the differences clearly by changing countries and significance values. Code cell is closed by default but you can reveal it.</font>\n",
    "<br>\n",
    "<br>"
   ]
  },
  {
   "cell_type": "code",
   "execution_count": 36,
   "id": "a13a2924",
   "metadata": {
    "extensions": {
     "jupyter_dashboards": {
      "version": 1,
      "views": {
       "default_view": {
        "col": 0,
        "height": 2,
        "row": 214,
        "width": 12
       },
       "grid_default": {
        "col": null,
        "height": 2,
        "hidden": true,
        "row": null,
        "width": 2
       }
      }
     }
    },
    "tags": []
   },
   "outputs": [
    {
     "data": {
      "application/vnd.jupyter.widget-view+json": {
       "model_id": "2c1a4a47e74e49f1b493e8d9ef4d1c4d",
       "version_major": 2,
       "version_minor": 0
      },
      "text/plain": [
       "interactive(children=(Dropdown(description='Country:', options=('Turkey', 'Switzerland', 'Portugal'), value='T…"
      ]
     },
     "metadata": {},
     "output_type": "display_data"
    }
   ],
   "source": [
    "aa = widgets.Dropdown(\n",
    "    options=['0.05', '0.01', '0.001'],\n",
    "    value='0.05',\n",
    "    description='Significance:',\n",
    "    disabled=False,\n",
    "    continuous_update=False\n",
    ")\n",
    "\n",
    "bb = widgets.Dropdown(\n",
    "    options=['Turkey', 'Switzerland', 'Portugal'],\n",
    "    value='Turkey',\n",
    "    description='Country:',\n",
    "    disabled=False,\n",
    "    continuous_update=False\n",
    ")\n",
    "\n",
    "\n",
    "\n",
    "\n",
    "def chi_squ(country,value):\n",
    "    if value == '0.05':\n",
    "        significance = 0.05\n",
    "    elif value == '0.01':\n",
    "        significance = 0.01\n",
    "    elif value == '0.001':\n",
    "        significance = 0.001\n",
    "\n",
    "    for i in range(len(df_dict[country]['education'])):\n",
    "        if df_dict[country]['education'][i] == 97 or df_dict[country]['education'][i] == 98 or df_dict[country]['education'][i] == 99:\n",
    "            df_dict[country]['education'][i] = -1\n",
    "        elif df_dict[country]['education'][i] == 96:\n",
    "            df_dict[country]['education'][i] = 0\n",
    "\n",
    "    for i in range(len(df_dict[country]['closeness_party'])):\n",
    "        if df_dict[country]['closeness_party'][i] == 7 or df_dict[country]['closeness_party'][i] == 8 or df_dict[country]['closeness_party'][i] == 9:\n",
    "            df_dict[country]['closeness_party'][i] = -1\n",
    "\n",
    "    for i in range(len(df_dict[country]['employement'])):\n",
    "        if df_dict[country]['employement'][i] == 13 or df_dict[country]['employement'][i] == 14 or df_dict[country]['employement'][i] == 97  or df_dict[country]['employement'][i] == 98  or df_dict[country]['employement'][i] == 99:\n",
    "            df_dict[country]['employement'][i] = -1\n",
    "    \n",
    "    count_female_t = 0\n",
    "    count_male_t = 0\n",
    "\n",
    "    male = [0]*4\n",
    "    female = [0]*4\n",
    "    for i in range(len(df_dict[country]['gender'])):\n",
    "        if df_dict[country]['closeness_party'][i] == 1:\n",
    "            if df_dict[country]['gender'][i] == 1:\n",
    "                count_male_t = count_male_t + 1;\n",
    "                male[0] = male[0] + 1\n",
    "            elif df_dict[country]['gender'][i] == 2:\n",
    "                count_female_t = count_female_t + 1\n",
    "                female[0] = female[0] + 1\n",
    "        if df_dict[country]['closeness_party'][i] == 2:\n",
    "            if df_dict[country]['gender'][i] == 1:\n",
    "                count_male_t = count_male_t + 1;\n",
    "                male[1] = male[1] + 1\n",
    "            elif df_dict[country]['gender'][i] == 2:\n",
    "                count_female_t = count_female_t + 1\n",
    "                female[1] = female[1] + 1\n",
    "        if df_dict[country]['closeness_party'][i] == 3:\n",
    "            if df_dict[country]['gender'][i] == 1:\n",
    "                count_male_t = count_male_t + 1;\n",
    "                male[2] = male[2] + 1\n",
    "            elif df_dict[country]['gender'][i] == 2:\n",
    "                count_female_t = count_female_t + 1\n",
    "                female[2] = female[2] + 1\n",
    "        if df_dict[country]['closeness_party'][i] == -1:\n",
    "            if df_dict[country]['gender'][i] == 1:\n",
    "                count_male_t = count_male_t + 1;\n",
    "                male[3] = male[3] + 1\n",
    "            elif df_dict[country]['gender'][i] == 2:\n",
    "                count_female_t = count_female_t + 1\n",
    "                female[3] = female[3] + 1\n",
    "    \n",
    "    closeness_party = pd.DataFrame(\n",
    "    [\n",
    "        male,\n",
    "        female\n",
    "    ],\n",
    "    index=[\"Male\",\"Female\"],\n",
    "    columns=[\"Very Close\",\"Somewhat Close\",\"Not very Close\",\"Missing/No Info\"])\n",
    "    \n",
    "    display(closeness_party)\n",
    "    \n",
    "    chi, pval, dof, exp = chi2_contingency(closeness_party)\n",
    "    print('p-value is: ', pval)\n",
    "\n",
    "    p = 1 - significance\n",
    "\n",
    "    critical_value = chi2.ppf(p, dof)\n",
    "    print('chi=%.6f, critical value=%.6f\\n' % (chi, critical_value))\n",
    "\n",
    "    if chi > critical_value:\n",
    "        text = \"\"\"At %.3f level of significance, we reject the null hypotheses and accept H1. \n",
    "    They are not independent.\"\"\" % (significance)\n",
    "    else:\n",
    "        text = \"\"\"At %.3f level of significance, we accept the null hypotheses. \n",
    "    They are independent.\"\"\" % (significance)\n",
    "        \n",
    "    x = np.arange(0, 50, 0.001)\n",
    "\n",
    "    #plot Chi-square distribution with 3 degrees of freedom\n",
    "    a = chi2.pdf(x, df=dof)\n",
    "\n",
    "    plt.figure(figsize=(10, 5))\n",
    "    plt.plot(x, a)\n",
    "    plt.axvline(critical_value, 0, 1, color ='gray',linestyle='--', label='Critical Point : %.2f'%critical_value)\n",
    "    plt.axvline(chi, 0, 1, color ='red',linestyle=':', label='Chi : %.2f'%chi)\n",
    "    plt.text( critical_value, 0.05, '--> Reject H0', fontsize=15, color ='gray')\n",
    "    plt.suptitle(\"H0: Gender and degree to closeness are independent in %s\"%(country), fontsize=17)\n",
    "    plt.xlabel(text, fontsize=15)\n",
    "    plt.legend()\n",
    "    \n",
    "    \n",
    "    \n",
    "\n",
    "widgets.interact(chi_squ, value=aa, country=bb);"
   ]
  },
  {
   "cell_type": "markdown",
   "id": "ddb481eb",
   "metadata": {
    "extensions": {
     "jupyter_dashboards": {
      "version": 1,
      "views": {
       "default_view": {
        "col": 0,
        "height": 2,
        "row": 216,
        "width": 12
       },
       "grid_default": {
        "col": null,
        "height": 2,
        "hidden": true,
        "row": null,
        "width": 2
       }
      }
     }
    }
   },
   "source": [
    "## Conclusion of Chi Square"
   ]
  },
  {
   "cell_type": "markdown",
   "id": "59b2de03",
   "metadata": {
    "extensions": {
     "jupyter_dashboards": {
      "version": 1,
      "views": {
       "default_view": {
        "col": 0,
        "height": 2,
        "row": 218,
        "width": 12
       },
       "grid_default": {
        "col": null,
        "height": 2,
        "hidden": true,
        "row": null,
        "width": 2
       }
      }
     }
    }
   },
   "source": [
    "***"
   ]
  },
  {
   "cell_type": "markdown",
   "id": "a0aa1240",
   "metadata": {
    "extensions": {
     "jupyter_dashboards": {
      "version": 1,
      "views": {
       "default_view": {
        "col": 0,
        "height": 2,
        "row": 220,
        "width": 12
       },
       "grid_default": {
        "col": null,
        "height": 2,
        "hidden": true,
        "row": null,
        "width": 2
       }
      }
     }
    }
   },
   "source": [
    "<br>\n",
    "<font face=\"Helvetica\" size=\"3px\" color=\"#323752\">We observe different results in Switzerland and Turkey in terms of independency between gender and closeness to a party. In Turkey, gender and closeness to a party are independent but in Switzerland they are not. Similiar analysis can be made with between different columns of the data, for instance employemnt and educational status. The only thing different than the code above is column names. Change <b>gender</b> and <b>closeness_party </b> with desired social factors. </font>\n",
    "<br>\n",
    "<br>"
   ]
  },
  {
   "cell_type": "markdown",
   "id": "d2cf5106",
   "metadata": {
    "extensions": {
     "jupyter_dashboards": {
      "version": 1,
      "views": {
       "default_view": {
        "col": 0,
        "height": 2,
        "row": 226,
        "width": 12
       },
       "grid_default": {
        "col": null,
        "height": 2,
        "hidden": true,
        "row": null,
        "width": 2
       }
      }
     }
    }
   },
   "source": [
    "##  Hypothesis Testing Plots and z-tests"
   ]
  },
  {
   "cell_type": "markdown",
   "id": "e943fa12",
   "metadata": {
    "extensions": {
     "jupyter_dashboards": {
      "version": 1,
      "views": {
       "default_view": {
        "col": 0,
        "height": 2,
        "row": 228,
        "width": 12
       },
       "grid_default": {
        "col": null,
        "height": 2,
        "hidden": true,
        "row": null,
        "width": 2
       }
      }
     }
    }
   },
   "source": [
    "***"
   ]
  },
  {
   "cell_type": "markdown",
   "id": "a4bd7a57",
   "metadata": {
    "extensions": {
     "jupyter_dashboards": {
      "activeView": "grid_default",
      "views": {
       "grid_default": {
        "col": null,
        "height": 2,
        "hidden": true,
        "row": null,
        "width": 2
       }
      }
     }
    }
   },
   "source": [
    "<br>\n",
    "<font face=\"Helvetica\" size=\"3px\" color=\"#323752\">Again we are using the widgets to create interactive plots.  For a <b> one-tail test </b>, the critical region can be on the left or right side of the distribution. The critical region defines statistically unlikely values. The probability values initially decided upon in hypothesis tests are called <b> α levels </b> and all are unlikely occurences. I call it unlikely because this sample mean likely didn't occur by random chance. There may have been an effect on that sample mean. With a sampling distribution, a z-score of roughly <b> 1.645 </b> has an area under the curve to the left of the <b> z-value </b> of 0.95 (95% probability). Any z-score greater than 1.645 means you're unlikely to sample such a sample from the sampling distribution given an alpha of 0.05. The region to the right of that z-value is called the <b>critical region</b>. For instance, the z-score of 1.645 is called the z-critical value.</font>\n",
    "<br>"
   ]
  },
  {
   "cell_type": "markdown",
   "id": "52092476",
   "metadata": {
    "extensions": {
     "jupyter_dashboards": {
      "activeView": "grid_default",
      "views": {
       "grid_default": {
        "col": null,
        "height": 2,
        "hidden": true,
        "row": null,
        "width": 2
       }
      }
     }
    }
   },
   "source": [
    "<br>\n",
    "<br>\n",
    "<font face=\"Helvetica\" size=\"3px\" color=\"#323752\"> In the following interactive plot, the user can change the α levels and countries to observe the differences.</font>\n",
    "<br>\n",
    "<br>"
   ]
  },
  {
   "cell_type": "code",
   "execution_count": 37,
   "id": "25c4beb8",
   "metadata": {
    "extensions": {
     "jupyter_dashboards": {
      "version": 1,
      "views": {
       "default_view": {
        "col": 0,
        "height": 2,
        "row": 232,
        "width": 12
       },
       "grid_default": {
        "col": null,
        "height": 2,
        "hidden": true,
        "row": null,
        "width": 2
       }
      }
     }
    },
    "tags": []
   },
   "outputs": [
    {
     "data": {
      "application/vnd.jupyter.widget-view+json": {
       "model_id": "4c53a19eef704d41ba00ecd67ad10e31",
       "version_major": 2,
       "version_minor": 0
      },
      "text/plain": [
       "interactive(children=(Dropdown(description='Country:', options=('Turkey', 'Switzerland', 'Portugal'), value='T…"
      ]
     },
     "metadata": {},
     "output_type": "display_data"
    }
   ],
   "source": [
    "a = widgets.Dropdown(\n",
    "    options=['0.05', '0.01', '0.001'],\n",
    "    value='0.05',\n",
    "    description='α level:',\n",
    "    disabled=False,\n",
    "    continuous_update=False\n",
    ")\n",
    "\n",
    "b = widgets.Dropdown(\n",
    "    options=['Turkey', 'Switzerland', 'Portugal'],\n",
    "    value='Turkey',\n",
    "    description='Country:',\n",
    "    disabled=False,\n",
    "    continuous_update=False\n",
    ")\n",
    "\n",
    "\n",
    "c = widgets.Dropdown(\n",
    "    options=['one-tail', 'two-tail'],\n",
    "    value='one-tail',\n",
    "    description='Test:',\n",
    "    disabled=False,\n",
    "    continuous_update=False\n",
    ")\n",
    "\n",
    "def two_tail(country,tail,value):\n",
    "    \n",
    "    values_2 = np.array(df_dict[country]['turnout'])\n",
    "    plt.figure()\n",
    "    \n",
    "    if tail == 'one-tail':\n",
    "        if value == '0.05':\n",
    "            mult = 1.645\n",
    "        elif value == '0.01':\n",
    "            mult = 2.33\n",
    "        elif value == '0.001':\n",
    "            mult = 3.1\n",
    "        two_std_from_mean = np.mean(values_2) + np.std(values_2)*mult\n",
    "        kde = stats.gaussian_kde(values_2)\n",
    "        pos = np.linspace(np.min(values_2)-10, np.max(values_2)+10, 10000)\n",
    "        plt.plot(pos, kde(pos), color='teal')\n",
    "\n",
    "        shade = np.linspace(two_std_from_mean, np.max(values_2)+10, 300)\n",
    "        plt.fill_between(shade, kde(shade), alpha=0.45, color='teal')\n",
    "\n",
    "        plt.axvline(two_std_from_mean, 0, 1, color ='gray',linestyle='--')\n",
    "\n",
    "        plt.title(\"Turnout Distribution in Switzerland for One-Tail Hypothesis Test\", y=1.015, fontsize=15)\n",
    "        plt.xlabel(\"turnout\", labelpad=14)\n",
    "        plt.ylabel(\"frequency of occurence\", labelpad=14)\n",
    "    \n",
    "    elif tail == 'two-tail':\n",
    "        if value == '0.05':\n",
    "            mult = 1.96\n",
    "        elif value == '0.01':\n",
    "            mult = 2.575\n",
    "        elif value == '0.001':\n",
    "            mult = 3.29\n",
    "        \n",
    "        alpha_05_positive = np.mean(values_2) + np.std(values_2)*mult\n",
    "        alpha_05_negative = np.mean(values_2) - np.std(values_2)*mult\n",
    "        kde = stats.gaussian_kde(values_2)\n",
    "        pos = np.linspace(np.min(values_2)-10, np.max(values_2)+10, 10000)\n",
    "        \n",
    "        plt.plot(pos, kde(pos), color='dodgerblue')\n",
    "\n",
    "        shade = np.linspace(alpha_05_positive, np.max(values_2)+10, 300)\n",
    "        plt.fill_between(shade, kde(shade), alpha=0.45, color='dodgerblue')\n",
    "\n",
    "        shade2 = np.linspace(alpha_05_negative, np.min(values_2)-10, 300)\n",
    "        plt.fill_between(shade2, kde(shade2), alpha=0.45, color='dodgerblue')\n",
    "\n",
    "        plt.axvline(alpha_05_positive, 0, 1, color ='gray',linestyle='--')\n",
    "        plt.axvline(alpha_05_negative, 0, 1, color ='gray',linestyle='--')\n",
    "\n",
    "        plt.title(\"\"\"Turnout Distribution in %s for Two-Tail Hypothesis Test\"\"\"%(country), y=1.015, fontsize=15)\n",
    "        plt.xlabel(\"turnout\", labelpad=14)\n",
    "        plt.ylabel(\"frequency of occurence\", labelpad=14);\n",
    "\n",
    "widgets.interact(two_tail, value=a, tail=c, country=b);\n",
    "    "
   ]
  },
  {
   "cell_type": "markdown",
   "id": "566f8f25",
   "metadata": {
    "extensions": {
     "jupyter_dashboards": {
      "version": 1,
      "views": {
       "default_view": {
        "col": 0,
        "height": 2,
        "row": 234,
        "width": 12
       },
       "grid_default": {
        "col": null,
        "height": 2,
        "hidden": true,
        "row": null,
        "width": 2
       }
      }
     }
    }
   },
   "source": [
    "## Data Visualization (optional)"
   ]
  },
  {
   "cell_type": "markdown",
   "id": "7c5faa9c",
   "metadata": {
    "extensions": {
     "jupyter_dashboards": {
      "version": 1,
      "views": {
       "default_view": {
        "col": 0,
        "height": 2,
        "row": 236,
        "width": 12
       },
       "grid_default": {
        "col": null,
        "height": 2,
        "hidden": true,
        "row": null,
        "width": 2
       }
      }
     }
    }
   },
   "source": [
    "***"
   ]
  },
  {
   "cell_type": "markdown",
   "id": "814c3386",
   "metadata": {
    "extensions": {
     "jupyter_dashboards": {
      "version": 1,
      "views": {
       "default_view": {
        "col": 0,
        "height": 2,
        "row": 238,
        "width": 12
       },
       "grid_default": {
        "col": null,
        "height": 2,
        "hidden": true,
        "row": null,
        "width": 2
       }
      }
     }
    }
   },
   "source": [
    "<br>\n",
    "<font face=\"Helvetica\" size=\"3px\" color=\"#323752\"> Let's get familiar with plot function/libraries and make investiagations about our dataset. As we can see from the cell that we imported libraries, we are using  <font face=\"Helvetica\" size=\"3.5px\" color=\"#63b6c7\" ><b>Seaborn </b></font> and <font face=\"Helvetica\" size=\"3.5px\" color=\"#63b6c7\" ><b>Matplotlib</b></font>.\n",
    "<br>\n"
   ]
  },
  {
   "cell_type": "markdown",
   "id": "2ae0d1cb",
   "metadata": {
    "extensions": {
     "jupyter_dashboards": {
      "activeView": "grid_default",
      "views": {
       "grid_default": {
        "col": null,
        "height": 2,
        "hidden": true,
        "row": null,
        "width": 2
       }
      }
     }
    }
   },
   "source": [
    "<br>\n",
    "<br>\n",
    "<font face=\"Helvetica\"  size=\"5px\" color=\"#323752\" ><b>Average Turnouts of the Selected Countries </b></font> \n",
    "<br>\n",
    "<br> "
   ]
  },
  {
   "cell_type": "code",
   "execution_count": 38,
   "id": "efdb742a",
   "metadata": {
    "extensions": {
     "jupyter_dashboards": {
      "version": 1,
      "views": {
       "default_view": {
        "col": 0,
        "height": 2,
        "row": 244,
        "width": 12
       },
       "grid_default": {
        "col": null,
        "height": 2,
        "hidden": true,
        "row": null,
        "width": 2
       }
      }
     }
    },
    "tags": []
   },
   "outputs": [
    {
     "data": {
      "image/png": "[encoded data removed]",
      "text/plain": [
       "<Figure size 300x300 with 1 Axes>"
      ]
     },
     "metadata": {},
     "output_type": "display_data"
    }
   ],
   "source": [
    "fig = plt.figure(figsize=(3, 3))\n",
    "ax = fig.add_axes([0,0,1,1])\n",
    "countries = ['Turkey', 'Switzerland']\n",
    "turnouts = [turnout_list['Turkey'],turnout_list['Switzerland']]\n",
    "plt.title('Average Turnouts of the Selected Countries', fontsize=12, fontweight='bold', pad=20)\n",
    "ax.bar(countries,turnouts, color = 'r', width = 0.4)\n",
    "plt.ylabel('Average Turnouts (%)')\n",
    "plt.xlabel('Countries')\n",
    "plt.show()"
   ]
  },
  {
   "cell_type": "markdown",
   "id": "2dc4756d",
   "metadata": {
    "extensions": {
     "jupyter_dashboards": {
      "activeView": "grid_default",
      "views": {
       "grid_default": {
        "col": null,
        "height": 2,
        "hidden": true,
        "row": null,
        "width": 2
       }
      }
     }
    }
   },
   "source": [
    "<br>\n",
    "<br>\n",
    "<font face=\"Helvetica\"  size=\"5px\" color=\"#323752\" ><b>Percentage of Women Representers in Parliament </b></font> \n",
    "<br>\n",
    "<br> "
   ]
  },
  {
   "cell_type": "code",
   "execution_count": 39,
   "id": "f038a4af",
   "metadata": {
    "extensions": {
     "jupyter_dashboards": {
      "version": 1,
      "views": {
       "default_view": {
        "col": 0,
        "height": 2,
        "row": 246,
        "width": 12
       },
       "grid_default": {
        "col": null,
        "height": 2,
        "hidden": true,
        "row": null,
        "width": 2
       }
      }
     }
    },
    "tags": []
   },
   "outputs": [
    {
     "data": {
      "image/png": "[encoded data removed]",
      "text/plain": [
       "<Figure size 300x300 with 1 Axes>"
      ]
     },
     "metadata": {},
     "output_type": "display_data"
    }
   ],
   "source": [
    "fig = plt.figure(figsize=(3, 3))\n",
    "ax = fig.add_axes([0,0,1,1])\n",
    "countries = ['Turkey', 'Switzerland']\n",
    "women_in_parliament = [df_dict['Turkey']['women_in_parliament'][0],df_dict['Switzerland']['women_in_parliament'][0]]\n",
    "plt.title('Percentage of Women Representers in Parliament', fontsize=12, fontweight='bold', pad=20)\n",
    "ax.bar(countries,women_in_parliament, color = 'c', width = 0.4)\n",
    "plt.ylabel('Women Representers (%)')\n",
    "plt.xlabel('Countries')\n",
    "plt.show()"
   ]
  },
  {
   "cell_type": "markdown",
   "id": "ac5c38b0",
   "metadata": {
    "extensions": {
     "jupyter_dashboards": {
      "version": 1,
      "views": {
       "default_view": {
        "col": 0,
        "height": 2,
        "row": 248,
        "width": 12
       },
       "grid_default": {
        "col": null,
        "height": 2,
        "hidden": true,
        "row": null,
        "width": 2
       }
      }
     }
    }
   },
   "source": [
    "<br>\n",
    "<br>\n",
    "<font face=\"Helvetica\"  size=\"5px\" color=\"#323752\" ><b>Gender of Respondents </b></font> \n",
    "<br>\n",
    "<br> "
   ]
  },
  {
   "cell_type": "code",
   "execution_count": 40,
   "id": "4e074a1a",
   "metadata": {
    "extensions": {
     "jupyter_dashboards": {
      "version": 1,
      "views": {
       "default_view": {
        "col": 0,
        "height": 2,
        "row": 250,
        "width": 12
       },
       "grid_default": {
        "col": null,
        "height": 2,
        "hidden": true,
        "row": null,
        "width": 2
       }
      }
     }
    },
    "tags": []
   },
   "outputs": [
    {
     "data": {
      "image/png": "[encoded data removed]",
      "text/plain": [
       "<Figure size 300x300 with 1 Axes>"
      ]
     },
     "metadata": {},
     "output_type": "display_data"
    }
   ],
   "source": [
    "fig = plt.figure(figsize=(3, 3))\n",
    "ax = fig.add_axes([0,0,1,1])\n",
    "gender = ['Male', 'Female']\n",
    "count_t = {count_male_t,count_female_t}\n",
    "plt.title('Number of Male and Female Respondents in Turkey', fontsize=12, fontweight='bold', pad=20)\n",
    "ax.bar(gender,count_t, color = 'g', width = 0.4)\n",
    "plt.ylabel('Count')\n",
    "plt.show()"
   ]
  },
  {
   "cell_type": "code",
   "execution_count": 41,
   "id": "5d278a2f",
   "metadata": {
    "extensions": {
     "jupyter_dashboards": {
      "version": 1,
      "views": {
       "default_view": {
        "col": 0,
        "height": 2,
        "row": 252,
        "width": 12
       },
       "grid_default": {
        "col": null,
        "height": 2,
        "hidden": true,
        "row": null,
        "width": 2
       }
      }
     }
    },
    "tags": []
   },
   "outputs": [
    {
     "data": {
      "image/png": "[encoded data removed]",
      "text/plain": [
       "<Figure size 300x300 with 1 Axes>"
      ]
     },
     "metadata": {},
     "output_type": "display_data"
    }
   ],
   "source": [
    "fig = plt.figure(figsize=(3, 3))\n",
    "ax = fig.add_axes([0,0,1,1])\n",
    "gender = ['Male', 'Female']\n",
    "count_s = {count_male_s,count_female_s }\n",
    "plt.title('Number of Male and Female Respondents in Switzerland', fontsize=12, fontweight='bold', pad=20)\n",
    "ax.bar(gender,count_s, color = 'g', width = 0.4)\n",
    "plt.ylabel('Count')\n",
    "plt.show()"
   ]
  },
  {
   "cell_type": "markdown",
   "id": "89a88843",
   "metadata": {
    "extensions": {
     "jupyter_dashboards": {
      "activeView": "grid_default",
      "views": {
       "grid_default": {
        "col": null,
        "height": 2,
        "hidden": true,
        "row": null,
        "width": 2
       }
      }
     }
    }
   },
   "source": [
    "## Interactive Plot for Social Factors</font>"
   ]
  },
  {
   "cell_type": "markdown",
   "id": "127a9f0b",
   "metadata": {
    "extensions": {
     "jupyter_dashboards": {
      "version": 1,
      "views": {
       "default_view": {
        "col": 0,
        "height": 2,
        "row": 236,
        "width": 12
       },
       "grid_default": {
        "col": null,
        "height": 2,
        "hidden": true,
        "row": null,
        "width": 2
       }
      }
     }
    }
   },
   "source": [
    "***"
   ]
  },
  {
   "cell_type": "markdown",
   "id": "e91924ae",
   "metadata": {
    "extensions": {
     "jupyter_dashboards": {
      "version": 1,
      "views": {
       "default_view": {
        "col": 0,
        "height": 2,
        "row": 240,
        "width": 12
       },
       "grid_default": {
        "col": null,
        "height": 2,
        "hidden": true,
        "row": null,
        "width": 2
       }
      }
     }
    }
   },
   "source": [
    "<br>\n",
    "<font face=\"Helvetica\" size=\"3px\" color=\"#323752\"> Again, we will use an interactive widget to obtain the desired graphs.  Before starting to create our widgets, labels for graphs is given below.</font>\n",
    "<br>"
   ]
  },
  {
   "cell_type": "markdown",
   "id": "907984fa",
   "metadata": {
    "extensions": {
     "jupyter_dashboards": {
      "activeView": "grid_default",
      "views": {
       "grid_default": {
        "col": null,
        "height": 2,
        "hidden": true,
        "row": null,
        "width": 2
       }
      }
     }
    }
   },
   "source": [
    "<br>\n",
    "<font face=\"Helvetica\" size=\"3px\" color=\"#323752\"> <b>Education Status</b>\n",
    "<font face=\"Helvetica\" size=\"2px\" color=\"#323752\">  \n",
    "<ul>\n",
    "  <li>01. ISCED LEVEL 0 - EARLY CHILDHOOD EDUCATION</li>\n",
    "  <li>02. EMPLOYED - PART-TIME (15-32 HOURS WEEKLY)</li>\n",
    "  <li>03. ISCED LEVEL 2 - LOWER SECONDAR</li>\n",
    "  <li>04. ISCED LEVEL 3 - UPPER SECONDARY</li>\n",
    "  <li>05. ISCED LEVEL 4 - POST-SECONDARY NON-TERTIARY</li>\n",
    "  <li>06. ISCED LEVEL 5 - SHORT-CYCLE TERTIARY</li>\n",
    "  <li>07. ISCED LEVEL 6 - BACHELOR OR EQUIVALENT</li>\n",
    "  <li>08. ISCED LEVEL 7 - MASTER OR EQUIVALENT</li>\n",
    "  <li>09. ISCED LEVEL 8 - DOCTORAL OR EQUIVALENT</li>\n",
    "  <li>00. NONE (NO EDUCATION)</li>\n",
    "  <li>-01. MISSING/NO INFORMATION</li> \n",
    "</ul>"
   ]
  },
  {
   "cell_type": "markdown",
   "id": "c88f8369",
   "metadata": {
    "extensions": {
     "jupyter_dashboards": {
      "activeView": "grid_default",
      "views": {
       "grid_default": {
        "col": null,
        "height": 2,
        "hidden": true,
        "row": null,
        "width": 2
       }
      }
     }
    }
   },
   "source": [
    "<font face=\"Helvetica\" size=\"3px\" color=\"#323752\"> <b>Degree of Closeness to Party</b>\n",
    "<font face=\"Helvetica\" size=\"2px\" color=\"#323752\">  \n",
    "<ul>\n",
    "  <li>1. VERY CLOSE</li>\n",
    "  <li>2. SOMEWHAT CLOSE</li>\n",
    "  <li>3. NOT VERY CLOSE</li>\n",
    "  <li>-1. MISSING/NO INFORMATION</li>\n",
    "</ul>"
   ]
  },
  {
   "cell_type": "markdown",
   "id": "64da5098",
   "metadata": {
    "extensions": {
     "jupyter_dashboards": {
      "activeView": "grid_default",
      "views": {
       "grid_default": {
        "col": null,
        "height": 2,
        "hidden": true,
        "row": null,
        "width": 2
       }
      }
     }
    }
   },
   "source": [
    "<font face=\"Helvetica\" size=\"3px\" color=\"#323752\"> <b>Employement Status</b>\n",
    "<font face=\"Helvetica\" size=\"2px\" color=\"#323752\">  \n",
    "<ul>\n",
    "  <li>01. EMPLOYED - FULL-TIME (32 OR MORE HOURS WEEKLY)</li>\n",
    "  <li>02. EMPLOYED - PART-TIME (15-32 HOURS WEEKLY)</li>\n",
    "  <li>03. EMPLOYED - LESS THAN 15 HOURS</li>\n",
    "  <li>04. HELPING FAMILY MEMBER</li>\n",
    "  <li>05. UNEMPLOYED</li>\n",
    "  <li>06. STUDENT, IN SCHOOL, IN VOCATIONAL TRAINING</li>\n",
    "  <li>07. RETIRED</li>\n",
    "  <li>08. HOUSEWIFE, HOME DUTIES</li>\n",
    "  <li>09. PERMANENTLY DISABLED</li>\n",
    "  <li>10. OTHERS, NOT IN THE LABOR FORCE</li>\n",
    "  <li>-01. MISSING/NO INFORMATION</li> \n",
    "</ul>"
   ]
  },
  {
   "cell_type": "markdown",
   "id": "17af0710",
   "metadata": {
    "extensions": {
     "jupyter_dashboards": {
      "activeView": "grid_default",
      "views": {
       "grid_default": {
        "col": null,
        "height": 2,
        "hidden": true,
        "row": null,
        "width": 2
       }
      }
     }
    }
   },
   "source": [
    "<font face=\"Helvetica\" size=\"3px\" color=\"#323752\"> <b>Gender</b>\n",
    "<font face=\"Helvetica\" size=\"2px\" color=\"#323752\">  \n",
    "<ol>\n",
    "  <li>MALE</li>\n",
    "  <li>FEMALE</li>\n",
    "</ol>"
   ]
  },
  {
   "cell_type": "code",
   "execution_count": 42,
   "id": "048b66ae",
   "metadata": {
    "extensions": {
     "jupyter_dashboards": {
      "activeView": "grid_default",
      "views": {
       "grid_default": {
        "col": null,
        "height": 2,
        "hidden": true,
        "row": null,
        "width": 2
       }
      }
     }
    },
    "tags": []
   },
   "outputs": [
    {
     "data": {
      "application/vnd.jupyter.widget-view+json": {
       "model_id": "882427c59d7e463cb8f0e0d1185a0c63",
       "version_major": 2,
       "version_minor": 0
      },
      "text/plain": [
       "interactive(children=(Dropdown(description='Social Factors:', options=('Education Level', 'Closeness to a Pary…"
      ]
     },
     "metadata": {},
     "output_type": "display_data"
    }
   ],
   "source": [
    "a = widgets.Dropdown(\n",
    "    options=['Education Level', 'Closeness to a Pary', 'Employement Status'],\n",
    "    value='Education Level',\n",
    "    description='Social Factors:',\n",
    "    disabled=False,\n",
    "    continuous_update=False\n",
    ")\n",
    "\n",
    "b = widgets.Dropdown(\n",
    "    options=['Turkey', 'Switzerland'],\n",
    "    value='Turkey',\n",
    "    description='Country:',\n",
    "    disabled=False,\n",
    "    continuous_update=False\n",
    ")\n",
    "\n",
    "\n",
    "c = widgets.Dropdown(\n",
    "    options=['Total', 'Gender divided'],\n",
    "    value='Total',\n",
    "    description='Graph:',\n",
    "    disabled=False,\n",
    "    continuous_update=False\n",
    ")\n",
    "\n",
    "def social_graph(social,country,graph):\n",
    "    if graph == 'Total':\n",
    "        if social == \"Education Level\":\n",
    "            plt.figure(figsize=(10, 5))\n",
    "            sns.histplot( x='education', data=df_dict[country], stat=\"percent\", discrete=True, kde=True);\n",
    "            sns.set_style(\"whitegrid\", {'axes.grid' : False})\n",
    "            plt.title('Education Status of %s'%(country), fontsize=20, fontweight='bold', pad=20);\n",
    "            plt.xlabel('EDUCATION STATUS')\n",
    "        \n",
    "        elif social == \"Closeness to a Pary\":\n",
    "            plt.figure(figsize=(10, 5))\n",
    "            sns.histplot( x='closeness_party', data=df_dict[country],  stat=\"percent\", discrete=True, kde=True, binwidth=1);\n",
    "            sns.set_style(\"whitegrid\", {'axes.grid' : False})\n",
    "            plt.title('Closeness to a Party in %s'%(country), fontsize=20, fontweight='bold', pad=20);\n",
    "            plt.xlabel('Closeness to a Party')\n",
    "            \n",
    "        elif social == \"Employement Status\":\n",
    "            plt.figure(figsize=(10, 5))\n",
    "            sns.histplot( x='employement', data=df_dict[country],  stat=\"percent\", discrete=True, kde=True, binwidth=1);\n",
    "            sns.set_style(\"whitegrid\", {'axes.grid' : False})\n",
    "            plt.title('Employment Status in Turkey', fontsize=20, fontweight='bold', pad=20);\n",
    "            plt.xlabel('Employment Status')\n",
    "    \n",
    "    elif graph == 'Gender divided':\n",
    "        if social == \"Education Level\":\n",
    "            plt.figure(figsize=(10, 5))\n",
    "            sns.histplot( x='education', data=df_dict[country],alpha = .7 ,hue = 'gender',  stat=\"percent\", discrete=True, binwidth=1);\n",
    "            sns.set_style(\"whitegrid\", {'axes.grid' : False})\n",
    "            plt.title('Education Status of Turkey with Genders', fontsize=20, fontweight='bold', pad=20);\n",
    "            plt.xlabel('EDUCATION STATUS')\n",
    "            plt.show()\n",
    "        \n",
    "        elif social == \"Closeness to a Pary\":\n",
    "            plt.figure(figsize=(10, 5))\n",
    "            sns.histplot( x='closeness_party', data=df_dict[country],alpha = .7\n",
    "                        ,hue = 'gender',  stat=\"percent\", discrete=True, binwidth=1);\n",
    "            sns.set_style(\"whitegrid\", {'axes.grid' : False})\n",
    "            plt.title('Closeness to a Party in Turkey with Genders', fontsize=20, fontweight='bold', pad=20);\n",
    "            plt.xlabel('Closeness to a Party ')\n",
    "            plt.show()\n",
    "            \n",
    "        elif social == \"Employement Status\":\n",
    "            plt.figure(figsize=(10, 5))\n",
    "            sns.histplot( x='employement', data=df_dict[country],alpha = .7\n",
    "                        ,hue = 'gender',  stat=\"percent\", discrete=True, binwidth=1);\n",
    "            sns.set_style(\"whitegrid\", {'axes.grid' : False})\n",
    "            plt.title('Employment Status in Switzerland with Genders', fontsize=20, fontweight='bold', pad=20);\n",
    "            plt.xlabel('Employment Status')\n",
    "            plt.show()\n",
    "    \n",
    "widgets.interact(social_graph, social=a, country=b, graph=c);                   "
   ]
  },
  {
   "cell_type": "code",
   "execution_count": null,
   "id": "e3fa1b28",
   "metadata": {
    "extensions": {
     "jupyter_dashboards": {
      "activeView": "grid_default",
      "views": {
       "grid_default": {
        "col": null,
        "height": 2,
        "hidden": true,
        "row": null,
        "width": 2
       }
      }
     }
    }
   },
   "outputs": [],
   "source": []
  }
 ],
 "metadata": {
  "extensions": {
   "jupyter_dashboards": {
    "activeView": "default_view",
    "version": 1,
    "views": {
     "default_view": {
      "cellMargin": 10,
      "defaultCellHeight": 40,
      "line-spacing": 3,
      "maxColumns": 12,
      "name": "active_view",
      "type": "grid"
     },
     "grid_default": {
      "cellMargin": 2,
      "defaultCellHeight": 60,
      "maxColumns": 12,
      "name": "grid",
      "type": "grid"
     }
    }
   }
  },
  "kernelspec": {
   "display_name": "Python 3",
   "language": "python",
   "name": "python3"
  },
  "language_info": {
   "codemirror_mode": {
    "name": "ipython",
    "version": 3
   },
   "file_extension": ".py",
   "mimetype": "text/x-python",
   "name": "python",
   "nbconvert_exporter": "python",
   "pygments_lexer": "ipython3",
   "version": "3.7.11"
  },
  "toc-autonumbering": true,
  "toc-showcode": true,
  "toc-showmarkdowntxt": false,
  "toc-showtags": true,
  "widgets": {
   "application/vnd.jupyter.widget-state+json": {
    "state": {},
    "version_major": 2,
    "version_minor": 0
   }
  }
 },
 "nbformat": 4,
 "nbformat_minor": 5
}
