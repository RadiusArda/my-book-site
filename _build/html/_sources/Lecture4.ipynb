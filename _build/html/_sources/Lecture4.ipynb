{
 "cells": [
  {
   "cell_type": "markdown",
   "id": "f896d907",
   "metadata": {},
   "source": [
    "# Lecture 4: Logistic Regression with Binary Dependent Variable and Multiple Independent Variables"
   ]
  },
  {
   "cell_type": "markdown",
   "id": "90b7b0e1",
   "metadata": {},
   "source": [
    "***"
   ]
  },
  {
   "cell_type": "markdown",
   "id": "1ecadc17",
   "metadata": {},
   "source": [
    "<br>\n",
    "<br>\n",
    "<font face=\"Helvetica\" size=\"3.5px\" color=\"#323752\">In this lecture we will be working on, univariate descriptive statistics and graphics, bivariate analysis (Chi-square) and last but not least multivariate binary logistic regression. </font>"
   ]
  },
  {
   "cell_type": "markdown",
   "id": "da91a346",
   "metadata": {},
   "source": [
    "## 1- Importing Dataset, Libraries and Data Organization </font>"
   ]
  },
  {
   "cell_type": "markdown",
   "id": "daf27cda",
   "metadata": {},
   "source": [
    "<br>\n",
    "<br>\n",
    "<font face=\"Helvetica\" size=\"3.5px\" color=\"#323752\">First we will import the neccesarry libraries</font>"
   ]
  },
  {
   "cell_type": "code",
   "execution_count": 1,
   "id": "0d2d102d",
   "metadata": {},
   "outputs": [],
   "source": [
    "import numpy as np\n",
    "import pandas as pd\n",
    "import matplotlib.pyplot as plt\n",
    "import seaborn as sns\n",
    "import warnings\n",
    "import operator\n",
    "import csv\n",
    "from collections import Counter\n",
    "import scipy.stats as stats\n",
    "from scipy.stats import chi2_contingency\n",
    "from scipy.stats import chi2\n",
    "import ipywidgets as widgets\n",
    "from IPython.display import HTML\n",
    "import random"
   ]
  },
  {
   "cell_type": "markdown",
   "id": "d0e3aa0d",
   "metadata": {},
   "source": [
    "<br>\n",
    "<br>\n",
    "<font face=\"Helvetica\" size=\"3px\" color=\"#323752\" >We do not want to see undesired warnings in our report.</font>\n",
    "<br>\n",
    "<br>"
   ]
  },
  {
   "cell_type": "code",
   "execution_count": 2,
   "id": "d0bb4523",
   "metadata": {},
   "outputs": [],
   "source": [
    "warnings.filterwarnings('ignore')"
   ]
  },
  {
   "cell_type": "markdown",
   "id": "48a63e5b",
   "metadata": {},
   "source": [
    "<br>\n",
    "<br>\n",
    "<font face=\"Helvetica\" size=\"3px\" color=\"#323752\" >In the following code cell we will create a function to hide/show code cells. Since some of the code cells that we will create in this tutorial is quite long especially the ones for the widgets. We will call this function inside the cells.</font>\n",
    "<br>\n",
    "<br>"
   ]
  },
  {
   "cell_type": "markdown",
   "id": "cfc82726",
   "metadata": {},
   "source": [
    "<br>\n",
    "<br>\n",
    "<font face=\"Helvetica\" size=\"3.5px\" color=\"#323752\">We will use the same dataset that we used in the previous lecture The dataset is taken from <a href=\"url\" target=\"_blank\"> https://cses.org/data-download/cses-module-5-2016-2021/</a>  . All the necessary information about the dataset is given in the booklets at the website. Especially, reading the booklet about the variable names is recommended. Our dataset is in cvs format. \n",
    "<br>\n",
    "<br>\n",
    "</font>"
   ]
  },
  {
   "cell_type": "code",
   "execution_count": 3,
   "id": "61501a27",
   "metadata": {},
   "outputs": [],
   "source": [
    "#data = pd.read_csv(r'cses5.csv')\n",
    "#data.info()"
   ]
  },
  {
   "cell_type": "markdown",
   "id": "7903bfae",
   "metadata": {},
   "source": [
    "<br>\n",
    "<br>\n",
    "<font face=\"Helvetica\" size=\"3px\" color=\"#323752\" >Our dataset columns has code names for variables. We will change the names in oder to simplify the understanding.</font>\n",
    "<br>\n",
    "<br>"
   ]
  },
  {
   "cell_type": "code",
   "execution_count": 4,
   "id": "83820e0a",
   "metadata": {},
   "outputs": [],
   "source": [
    "#data = data.rename(columns={'E1006_NAM': 'country_name'})\n",
    "#data = data.rename(columns={'E2002': 'gender'})\n",
    "#data = data.rename(columns={'E2003': 'education'})\n",
    "#data = data.rename(columns={'E2006': 'employement'})\n",
    "#data = data.rename(columns={'E3012_PR_1': 'casted'})\n",
    "#data = data.rename(columns={'E3024_4': 'closeness_party'})\n",
    "#data = data.rename(columns={'E4006': 'turnout'})\n",
    "#data = data.rename(columns={'E5075': 'women_in_parliament'})"
   ]
  },
  {
   "cell_type": "markdown",
   "id": "7fa34474",
   "metadata": {},
   "source": [
    "<br>\n",
    "<br>\n",
    "<font face=\"Helvetica\" size=\"3px\" color=\"#323752\" >Also, we get rid of the unnecessary variables to shrink the data, as shown in the previous info() command, it has 554 different variables (column entries). You can see the latest format of the dataset in the output below.</font>\n",
    "<br>\n",
    "<br>"
   ]
  },
  {
   "cell_type": "code",
   "execution_count": 5,
   "id": "0bb01bf5",
   "metadata": {},
   "outputs": [],
   "source": [
    "#data1 = data[['country_name','casted', 'gender','education',\n",
    "#        'employement', 'closeness_party','turnout','women_in_parliament']]\n",
    "\n",
    "#data1.to_csv(\"data1_new.csv\")\n",
    "#data1"
   ]
  },
  {
   "cell_type": "code",
   "execution_count": 6,
   "id": "8d6e3bd0",
   "metadata": {},
   "outputs": [
    {
     "data": {
      "text/html": [
       "<div>\n",
       "<style scoped>\n",
       "    .dataframe tbody tr th:only-of-type {\n",
       "        vertical-align: middle;\n",
       "    }\n",
       "\n",
       "    .dataframe tbody tr th {\n",
       "        vertical-align: top;\n",
       "    }\n",
       "\n",
       "    .dataframe thead th {\n",
       "        text-align: right;\n",
       "    }\n",
       "</style>\n",
       "<table border=\"1\" class=\"dataframe\">\n",
       "  <thead>\n",
       "    <tr style=\"text-align: right;\">\n",
       "      <th></th>\n",
       "      <th>Unnamed: 0</th>\n",
       "      <th>country_name</th>\n",
       "      <th>casted</th>\n",
       "      <th>gender</th>\n",
       "      <th>education</th>\n",
       "      <th>employement</th>\n",
       "      <th>closeness_party</th>\n",
       "      <th>turnout</th>\n",
       "      <th>women_in_parliament</th>\n",
       "    </tr>\n",
       "  </thead>\n",
       "  <tbody>\n",
       "    <tr>\n",
       "      <th>0</th>\n",
       "      <td>0</td>\n",
       "      <td>Australia</td>\n",
       "      <td>95</td>\n",
       "      <td>2</td>\n",
       "      <td>3</td>\n",
       "      <td>7</td>\n",
       "      <td>3</td>\n",
       "      <td>93.32</td>\n",
       "      <td>999.0</td>\n",
       "    </tr>\n",
       "    <tr>\n",
       "      <th>1</th>\n",
       "      <td>1</td>\n",
       "      <td>Australia</td>\n",
       "      <td>95</td>\n",
       "      <td>1</td>\n",
       "      <td>5</td>\n",
       "      <td>1</td>\n",
       "      <td>3</td>\n",
       "      <td>999.00</td>\n",
       "      <td>999.0</td>\n",
       "    </tr>\n",
       "    <tr>\n",
       "      <th>2</th>\n",
       "      <td>2</td>\n",
       "      <td>Australia</td>\n",
       "      <td>95</td>\n",
       "      <td>2</td>\n",
       "      <td>3</td>\n",
       "      <td>4</td>\n",
       "      <td>2</td>\n",
       "      <td>94.82</td>\n",
       "      <td>999.0</td>\n",
       "    </tr>\n",
       "    <tr>\n",
       "      <th>3</th>\n",
       "      <td>3</td>\n",
       "      <td>Australia</td>\n",
       "      <td>95</td>\n",
       "      <td>2</td>\n",
       "      <td>8</td>\n",
       "      <td>7</td>\n",
       "      <td>2</td>\n",
       "      <td>92.46</td>\n",
       "      <td>999.0</td>\n",
       "    </tr>\n",
       "    <tr>\n",
       "      <th>4</th>\n",
       "      <td>4</td>\n",
       "      <td>Australia</td>\n",
       "      <td>95</td>\n",
       "      <td>2</td>\n",
       "      <td>7</td>\n",
       "      <td>7</td>\n",
       "      <td>2</td>\n",
       "      <td>93.73</td>\n",
       "      <td>999.0</td>\n",
       "    </tr>\n",
       "    <tr>\n",
       "      <th>...</th>\n",
       "      <td>...</td>\n",
       "      <td>...</td>\n",
       "      <td>...</td>\n",
       "      <td>...</td>\n",
       "      <td>...</td>\n",
       "      <td>...</td>\n",
       "      <td>...</td>\n",
       "      <td>...</td>\n",
       "      <td>...</td>\n",
       "    </tr>\n",
       "    <tr>\n",
       "      <th>55510</th>\n",
       "      <td>55510</td>\n",
       "      <td>United States of America</td>\n",
       "      <td>1</td>\n",
       "      <td>1</td>\n",
       "      <td>4</td>\n",
       "      <td>6</td>\n",
       "      <td>9</td>\n",
       "      <td>58.30</td>\n",
       "      <td>19.4</td>\n",
       "    </tr>\n",
       "    <tr>\n",
       "      <th>55511</th>\n",
       "      <td>55511</td>\n",
       "      <td>United States of America</td>\n",
       "      <td>1</td>\n",
       "      <td>2</td>\n",
       "      <td>7</td>\n",
       "      <td>1</td>\n",
       "      <td>2</td>\n",
       "      <td>60.80</td>\n",
       "      <td>19.4</td>\n",
       "    </tr>\n",
       "    <tr>\n",
       "      <th>55512</th>\n",
       "      <td>55512</td>\n",
       "      <td>United States of America</td>\n",
       "      <td>1</td>\n",
       "      <td>1</td>\n",
       "      <td>3</td>\n",
       "      <td>7</td>\n",
       "      <td>9</td>\n",
       "      <td>60.80</td>\n",
       "      <td>19.4</td>\n",
       "    </tr>\n",
       "    <tr>\n",
       "      <th>55513</th>\n",
       "      <td>55513</td>\n",
       "      <td>United States of America</td>\n",
       "      <td>93</td>\n",
       "      <td>1</td>\n",
       "      <td>4</td>\n",
       "      <td>9</td>\n",
       "      <td>9</td>\n",
       "      <td>52.60</td>\n",
       "      <td>19.4</td>\n",
       "    </tr>\n",
       "    <tr>\n",
       "      <th>55514</th>\n",
       "      <td>55514</td>\n",
       "      <td>United States of America</td>\n",
       "      <td>1</td>\n",
       "      <td>2</td>\n",
       "      <td>6</td>\n",
       "      <td>1</td>\n",
       "      <td>2</td>\n",
       "      <td>60.20</td>\n",
       "      <td>19.4</td>\n",
       "    </tr>\n",
       "  </tbody>\n",
       "</table>\n",
       "<p>55515 rows × 9 columns</p>\n",
       "</div>"
      ],
      "text/plain": [
       "       Unnamed: 0              country_name  casted  gender  education  \\\n",
       "0               0                 Australia      95       2          3   \n",
       "1               1                 Australia      95       1          5   \n",
       "2               2                 Australia      95       2          3   \n",
       "3               3                 Australia      95       2          8   \n",
       "4               4                 Australia      95       2          7   \n",
       "...           ...                       ...     ...     ...        ...   \n",
       "55510       55510  United States of America       1       1          4   \n",
       "55511       55511  United States of America       1       2          7   \n",
       "55512       55512  United States of America       1       1          3   \n",
       "55513       55513  United States of America      93       1          4   \n",
       "55514       55514  United States of America       1       2          6   \n",
       "\n",
       "       employement  closeness_party  turnout  women_in_parliament  \n",
       "0                7                3    93.32                999.0  \n",
       "1                1                3   999.00                999.0  \n",
       "2                4                2    94.82                999.0  \n",
       "3                7                2    92.46                999.0  \n",
       "4                7                2    93.73                999.0  \n",
       "...            ...              ...      ...                  ...  \n",
       "55510            6                9    58.30                 19.4  \n",
       "55511            1                2    60.80                 19.4  \n",
       "55512            7                9    60.80                 19.4  \n",
       "55513            9                9    52.60                 19.4  \n",
       "55514            1                2    60.20                 19.4  \n",
       "\n",
       "[55515 rows x 9 columns]"
      ]
     },
     "execution_count": 6,
     "metadata": {},
     "output_type": "execute_result"
    }
   ],
   "source": [
    "data1 = pd.read_csv(r'data1_new.csv') \n",
    "data1"
   ]
  },
  {
   "cell_type": "markdown",
   "id": "5b5dfc8e",
   "metadata": {},
   "source": [
    "<br>\n",
    "<br>\n",
    "<font face=\"Helvetica\" size=\"3px\" color=\"#323752\" > In the following cell, we will create a dictionary that use country names as dictionary keys. We will use this dictionary a lot in the remaining of the project. The main logic is spliting the total data by using country names. Therefore, we can use a country name to call all the data about this country.</font>\n",
    "<br>\n",
    "<br>"
   ]
  },
  {
   "cell_type": "code",
   "execution_count": 7,
   "id": "ae0ae9ce",
   "metadata": {},
   "outputs": [],
   "source": [
    "df_dict = {ct: data1[data1.country_name== ct].reset_index(drop=True) for ct in data1['country_name'].unique()}\n",
    "\n",
    "turnout_list = {}\n",
    "count = {}\n",
    "b = 0\n",
    "for country in df_dict.keys():\n",
    "    count[country]=0\n",
    "    for i in range(len(df_dict[country]['turnout'])):\n",
    "        if df_dict[country]['turnout'][i] == 997 or df_dict[country]['turnout'][i] == 999:\n",
    "            df_dict[country]['turnout'][i] = 0\n",
    "            count[country] = count[country] + 1\n",
    "            \n",
    "    b = sum(df_dict[country]['turnout'])\n",
    "    if b == 0.0:\n",
    "        b = 0.000001\n",
    "        count[country] = len(df_dict[country])-1\n",
    "    turnout_list[country] =  b/(len(df_dict[country])- count[country])"
   ]
  },
  {
   "cell_type": "markdown",
   "id": "268ce636",
   "metadata": {},
   "source": [
    "<br>\n",
    "<br>\n",
    "<font face=\"Helvetica\" size=\"3px\" color=\"#323752\" > Before starting the calculations, we need to cleanse the data set. Since missing informations are determined, we need to get rid of them. For instance, a missing information in turnout data is given with <font face=\"Helvetica\" size=\"3.5px\" color=\"#63b6c7\" ><b>'997'</b></font> and <font face=\"Helvetica\" size=\"3.5px\" color=\"#63b6c7\" ><b>'999'</b></font>."
   ]
  },
  {
   "cell_type": "code",
   "execution_count": 8,
   "id": "d3a17d9c",
   "metadata": {},
   "outputs": [],
   "source": [
    "for i in range(len(df_dict['Turkey']['education'])):\n",
    "    if df_dict['Turkey']['education'][i] == 97 or df_dict['Turkey']['education'][i] == 98 or df_dict['Turkey']['education'][i] == 99:\n",
    "        df_dict['Turkey']['education'][i] = -1\n",
    "    elif df_dict['Turkey']['education'][i] == 96:\n",
    "        df_dict['Turkey']['education'][i] = 0\n",
    "\n",
    "for i in range(len(df_dict['Turkey']['closeness_party'])):\n",
    "    if df_dict['Turkey']['closeness_party'][i] == 7 or df_dict['Turkey']['closeness_party'][i] == 8 or df_dict['Turkey']['closeness_party'][i] == 9:\n",
    "        df_dict['Turkey']['closeness_party'][i] = -1\n",
    "\n",
    "for i in range(len(df_dict['Turkey']['employement'])):\n",
    "    if df_dict['Turkey']['employement'][i] == 13 or df_dict['Turkey']['employement'][i] == 14 or df_dict['Turkey']['employement'][i] == 97  or df_dict['Turkey']['employement'][i] == 98  or df_dict['Turkey']['employement'][i] == 99:\n",
    "        df_dict['Turkey']['employement'][i] = -1\n",
    "\n",
    "for i in range(len(df_dict['Turkey']['casted'])):\n",
    "    if df_dict['Turkey']['casted'][i] == 93 or df_dict['Turkey']['casted'][i] ==  95 or df_dict['Turkey']['casted'][i] == 96  or df_dict['Turkey']['casted'][i] == 97  or df_dict['Turkey']['casted'][i] == 98 or df_dict['Turkey']['casted'][i] == 99:\n",
    "        df_dict['Turkey']['casted'][i] = 0"
   ]
  },
  {
   "cell_type": "markdown",
   "id": "15efde06",
   "metadata": {},
   "source": [
    "<br>\n",
    "<br>\n",
    "<font face=\"Helvetica\" size=\"3px\" color=\"#323752\" > We can observe the clean data now</font>."
   ]
  },
  {
   "cell_type": "code",
   "execution_count": 9,
   "id": "4bffedc3",
   "metadata": {},
   "outputs": [
    {
     "data": {
      "text/html": [
       "<div>\n",
       "<style scoped>\n",
       "    .dataframe tbody tr th:only-of-type {\n",
       "        vertical-align: middle;\n",
       "    }\n",
       "\n",
       "    .dataframe tbody tr th {\n",
       "        vertical-align: top;\n",
       "    }\n",
       "\n",
       "    .dataframe thead th {\n",
       "        text-align: right;\n",
       "    }\n",
       "</style>\n",
       "<table border=\"1\" class=\"dataframe\">\n",
       "  <thead>\n",
       "    <tr style=\"text-align: right;\">\n",
       "      <th></th>\n",
       "      <th>Unnamed: 0</th>\n",
       "      <th>country_name</th>\n",
       "      <th>casted</th>\n",
       "      <th>gender</th>\n",
       "      <th>education</th>\n",
       "      <th>employement</th>\n",
       "      <th>closeness_party</th>\n",
       "      <th>turnout</th>\n",
       "      <th>women_in_parliament</th>\n",
       "    </tr>\n",
       "  </thead>\n",
       "  <tbody>\n",
       "    <tr>\n",
       "      <th>0</th>\n",
       "      <td>47428</td>\n",
       "      <td>Turkey</td>\n",
       "      <td>1</td>\n",
       "      <td>2</td>\n",
       "      <td>2</td>\n",
       "      <td>8</td>\n",
       "      <td>2</td>\n",
       "      <td>87.49</td>\n",
       "      <td>17.4</td>\n",
       "    </tr>\n",
       "    <tr>\n",
       "      <th>1</th>\n",
       "      <td>47429</td>\n",
       "      <td>Turkey</td>\n",
       "      <td>1</td>\n",
       "      <td>2</td>\n",
       "      <td>2</td>\n",
       "      <td>8</td>\n",
       "      <td>-1</td>\n",
       "      <td>87.49</td>\n",
       "      <td>17.4</td>\n",
       "    </tr>\n",
       "    <tr>\n",
       "      <th>2</th>\n",
       "      <td>47430</td>\n",
       "      <td>Turkey</td>\n",
       "      <td>1</td>\n",
       "      <td>1</td>\n",
       "      <td>4</td>\n",
       "      <td>6</td>\n",
       "      <td>2</td>\n",
       "      <td>87.49</td>\n",
       "      <td>17.4</td>\n",
       "    </tr>\n",
       "    <tr>\n",
       "      <th>3</th>\n",
       "      <td>47431</td>\n",
       "      <td>Turkey</td>\n",
       "      <td>1</td>\n",
       "      <td>1</td>\n",
       "      <td>4</td>\n",
       "      <td>1</td>\n",
       "      <td>1</td>\n",
       "      <td>87.49</td>\n",
       "      <td>17.4</td>\n",
       "    </tr>\n",
       "    <tr>\n",
       "      <th>4</th>\n",
       "      <td>47432</td>\n",
       "      <td>Turkey</td>\n",
       "      <td>0</td>\n",
       "      <td>2</td>\n",
       "      <td>4</td>\n",
       "      <td>6</td>\n",
       "      <td>2</td>\n",
       "      <td>87.49</td>\n",
       "      <td>17.4</td>\n",
       "    </tr>\n",
       "    <tr>\n",
       "      <th>...</th>\n",
       "      <td>...</td>\n",
       "      <td>...</td>\n",
       "      <td>...</td>\n",
       "      <td>...</td>\n",
       "      <td>...</td>\n",
       "      <td>...</td>\n",
       "      <td>...</td>\n",
       "      <td>...</td>\n",
       "      <td>...</td>\n",
       "    </tr>\n",
       "    <tr>\n",
       "      <th>1064</th>\n",
       "      <td>48492</td>\n",
       "      <td>Turkey</td>\n",
       "      <td>1</td>\n",
       "      <td>1</td>\n",
       "      <td>4</td>\n",
       "      <td>1</td>\n",
       "      <td>2</td>\n",
       "      <td>80.94</td>\n",
       "      <td>17.4</td>\n",
       "    </tr>\n",
       "    <tr>\n",
       "      <th>1065</th>\n",
       "      <td>48493</td>\n",
       "      <td>Turkey</td>\n",
       "      <td>1</td>\n",
       "      <td>1</td>\n",
       "      <td>4</td>\n",
       "      <td>1</td>\n",
       "      <td>2</td>\n",
       "      <td>80.94</td>\n",
       "      <td>17.4</td>\n",
       "    </tr>\n",
       "    <tr>\n",
       "      <th>1066</th>\n",
       "      <td>48494</td>\n",
       "      <td>Turkey</td>\n",
       "      <td>1</td>\n",
       "      <td>2</td>\n",
       "      <td>3</td>\n",
       "      <td>7</td>\n",
       "      <td>1</td>\n",
       "      <td>89.72</td>\n",
       "      <td>17.4</td>\n",
       "    </tr>\n",
       "    <tr>\n",
       "      <th>1067</th>\n",
       "      <td>48495</td>\n",
       "      <td>Turkey</td>\n",
       "      <td>1</td>\n",
       "      <td>2</td>\n",
       "      <td>2</td>\n",
       "      <td>8</td>\n",
       "      <td>1</td>\n",
       "      <td>89.72</td>\n",
       "      <td>17.4</td>\n",
       "    </tr>\n",
       "    <tr>\n",
       "      <th>1068</th>\n",
       "      <td>48496</td>\n",
       "      <td>Turkey</td>\n",
       "      <td>1</td>\n",
       "      <td>2</td>\n",
       "      <td>2</td>\n",
       "      <td>8</td>\n",
       "      <td>1</td>\n",
       "      <td>89.72</td>\n",
       "      <td>17.4</td>\n",
       "    </tr>\n",
       "  </tbody>\n",
       "</table>\n",
       "<p>1069 rows × 9 columns</p>\n",
       "</div>"
      ],
      "text/plain": [
       "      Unnamed: 0 country_name  casted  gender  education  employement  \\\n",
       "0          47428       Turkey       1       2          2            8   \n",
       "1          47429       Turkey       1       2          2            8   \n",
       "2          47430       Turkey       1       1          4            6   \n",
       "3          47431       Turkey       1       1          4            1   \n",
       "4          47432       Turkey       0       2          4            6   \n",
       "...          ...          ...     ...     ...        ...          ...   \n",
       "1064       48492       Turkey       1       1          4            1   \n",
       "1065       48493       Turkey       1       1          4            1   \n",
       "1066       48494       Turkey       1       2          3            7   \n",
       "1067       48495       Turkey       1       2          2            8   \n",
       "1068       48496       Turkey       1       2          2            8   \n",
       "\n",
       "      closeness_party  turnout  women_in_parliament  \n",
       "0                   2    87.49                 17.4  \n",
       "1                  -1    87.49                 17.4  \n",
       "2                   2    87.49                 17.4  \n",
       "3                   1    87.49                 17.4  \n",
       "4                   2    87.49                 17.4  \n",
       "...               ...      ...                  ...  \n",
       "1064                2    80.94                 17.4  \n",
       "1065                2    80.94                 17.4  \n",
       "1066                1    89.72                 17.4  \n",
       "1067                1    89.72                 17.4  \n",
       "1068                1    89.72                 17.4  \n",
       "\n",
       "[1069 rows x 9 columns]"
      ]
     },
     "execution_count": 9,
     "metadata": {},
     "output_type": "execute_result"
    }
   ],
   "source": [
    "df_dict['Turkey']"
   ]
  },
  {
   "cell_type": "markdown",
   "id": "b8f3f0b4",
   "metadata": {},
   "source": [
    "<br>\n",
    "<br>\n",
    "<font face=\"Helvetica\" size=\"3px\" color=\"#323752\" >We will repeat the same process for United States of America since in the following parts, we will use the variable named : <b><i>Did respondent cast a ballot?</i></b> as binary (yes/no) dependent varible. Therefore, we need two countries with presidential election. (In order to observe turnout)"
   ]
  },
  {
   "cell_type": "code",
   "execution_count": 10,
   "id": "ab58bf3d",
   "metadata": {},
   "outputs": [],
   "source": [
    "for i in range(len(df_dict['United States of America']['education'])):\n",
    "    if df_dict['United States of America']['education'][i] == 97 or df_dict['United States of America']['education'][i] == 98 or df_dict['United States of America']['education'][i] == 99:\n",
    "        df_dict['United States of America']['education'][i] = -1\n",
    "    elif df_dict['United States of America']['education'][i] == 96:\n",
    "        df_dict['United States of America']['education'][i] = 0\n",
    "\n",
    "for i in range(len(df_dict['United States of America']['turnout'])):\n",
    "    if df_dict['United States of America']['turnout'][i] == 997 or df_dict['United States of America']['turnout'][i] == 999:\n",
    "        df_dict['United States of America']['turnout'][i] = 0\n",
    "\n",
    "for i in range(len(df_dict['United States of America']['closeness_party'])):\n",
    "    if df_dict['United States of America']['closeness_party'][i] == 7 or df_dict['United States of America']['closeness_party'][i] == 8 or df_dict['United States of America']['closeness_party'][i] == 9:\n",
    "        df_dict['United States of America']['closeness_party'][i] = -1\n",
    "\n",
    "for i in range(len(df_dict['United States of America']['employement'])):\n",
    "    if df_dict['United States of America']['employement'][i] == 13 or df_dict['United States of America']['employement'][i] == 14 or df_dict['United States of America']['employement'][i] == 97  or df_dict['United States of America']['employement'][i] == 98  or df_dict['United States of America']['employement'][i] == 99:\n",
    "        df_dict['United States of America']['employement'][i] = -1\n",
    "\n",
    "for i in range(len(df_dict['United States of America']['casted'])):\n",
    "    if df_dict['United States of America']['casted'][i] == 93 or df_dict['United States of America']['casted'][i] ==  95 or df_dict['United States of America']['casted'][i] == 96  or df_dict['United States of America']['casted'][i] == 97  or df_dict['United States of America']['casted'][i] == 98 or df_dict['United States of America']['casted'][i] == 99:\n",
    "        df_dict['United States of America']['casted'][i] = 0"
   ]
  },
  {
   "cell_type": "code",
   "execution_count": 11,
   "id": "e2dd016a",
   "metadata": {},
   "outputs": [
    {
     "data": {
      "text/html": [
       "<div>\n",
       "<style scoped>\n",
       "    .dataframe tbody tr th:only-of-type {\n",
       "        vertical-align: middle;\n",
       "    }\n",
       "\n",
       "    .dataframe tbody tr th {\n",
       "        vertical-align: top;\n",
       "    }\n",
       "\n",
       "    .dataframe thead th {\n",
       "        text-align: right;\n",
       "    }\n",
       "</style>\n",
       "<table border=\"1\" class=\"dataframe\">\n",
       "  <thead>\n",
       "    <tr style=\"text-align: right;\">\n",
       "      <th></th>\n",
       "      <th>Unnamed: 0</th>\n",
       "      <th>country_name</th>\n",
       "      <th>casted</th>\n",
       "      <th>gender</th>\n",
       "      <th>education</th>\n",
       "      <th>employement</th>\n",
       "      <th>closeness_party</th>\n",
       "      <th>turnout</th>\n",
       "      <th>women_in_parliament</th>\n",
       "    </tr>\n",
       "  </thead>\n",
       "  <tbody>\n",
       "    <tr>\n",
       "      <th>0</th>\n",
       "      <td>51867</td>\n",
       "      <td>United States of America</td>\n",
       "      <td>1</td>\n",
       "      <td>1</td>\n",
       "      <td>4</td>\n",
       "      <td>1</td>\n",
       "      <td>-1</td>\n",
       "      <td>56.8</td>\n",
       "      <td>19.4</td>\n",
       "    </tr>\n",
       "    <tr>\n",
       "      <th>1</th>\n",
       "      <td>51868</td>\n",
       "      <td>United States of America</td>\n",
       "      <td>1</td>\n",
       "      <td>1</td>\n",
       "      <td>7</td>\n",
       "      <td>1</td>\n",
       "      <td>-1</td>\n",
       "      <td>49.4</td>\n",
       "      <td>19.4</td>\n",
       "    </tr>\n",
       "    <tr>\n",
       "      <th>2</th>\n",
       "      <td>51869</td>\n",
       "      <td>United States of America</td>\n",
       "      <td>0</td>\n",
       "      <td>1</td>\n",
       "      <td>4</td>\n",
       "      <td>1</td>\n",
       "      <td>-1</td>\n",
       "      <td>53.3</td>\n",
       "      <td>19.4</td>\n",
       "    </tr>\n",
       "    <tr>\n",
       "      <th>3</th>\n",
       "      <td>51870</td>\n",
       "      <td>United States of America</td>\n",
       "      <td>1</td>\n",
       "      <td>1</td>\n",
       "      <td>4</td>\n",
       "      <td>1</td>\n",
       "      <td>-1</td>\n",
       "      <td>48.6</td>\n",
       "      <td>19.4</td>\n",
       "    </tr>\n",
       "    <tr>\n",
       "      <th>4</th>\n",
       "      <td>51871</td>\n",
       "      <td>United States of America</td>\n",
       "      <td>1</td>\n",
       "      <td>2</td>\n",
       "      <td>4</td>\n",
       "      <td>2</td>\n",
       "      <td>2</td>\n",
       "      <td>61.0</td>\n",
       "      <td>19.4</td>\n",
       "    </tr>\n",
       "    <tr>\n",
       "      <th>...</th>\n",
       "      <td>...</td>\n",
       "      <td>...</td>\n",
       "      <td>...</td>\n",
       "      <td>...</td>\n",
       "      <td>...</td>\n",
       "      <td>...</td>\n",
       "      <td>...</td>\n",
       "      <td>...</td>\n",
       "      <td>...</td>\n",
       "    </tr>\n",
       "    <tr>\n",
       "      <th>3643</th>\n",
       "      <td>55510</td>\n",
       "      <td>United States of America</td>\n",
       "      <td>1</td>\n",
       "      <td>1</td>\n",
       "      <td>4</td>\n",
       "      <td>6</td>\n",
       "      <td>-1</td>\n",
       "      <td>58.3</td>\n",
       "      <td>19.4</td>\n",
       "    </tr>\n",
       "    <tr>\n",
       "      <th>3644</th>\n",
       "      <td>55511</td>\n",
       "      <td>United States of America</td>\n",
       "      <td>1</td>\n",
       "      <td>2</td>\n",
       "      <td>7</td>\n",
       "      <td>1</td>\n",
       "      <td>2</td>\n",
       "      <td>60.8</td>\n",
       "      <td>19.4</td>\n",
       "    </tr>\n",
       "    <tr>\n",
       "      <th>3645</th>\n",
       "      <td>55512</td>\n",
       "      <td>United States of America</td>\n",
       "      <td>1</td>\n",
       "      <td>1</td>\n",
       "      <td>3</td>\n",
       "      <td>7</td>\n",
       "      <td>-1</td>\n",
       "      <td>60.8</td>\n",
       "      <td>19.4</td>\n",
       "    </tr>\n",
       "    <tr>\n",
       "      <th>3646</th>\n",
       "      <td>55513</td>\n",
       "      <td>United States of America</td>\n",
       "      <td>0</td>\n",
       "      <td>1</td>\n",
       "      <td>4</td>\n",
       "      <td>9</td>\n",
       "      <td>-1</td>\n",
       "      <td>52.6</td>\n",
       "      <td>19.4</td>\n",
       "    </tr>\n",
       "    <tr>\n",
       "      <th>3647</th>\n",
       "      <td>55514</td>\n",
       "      <td>United States of America</td>\n",
       "      <td>1</td>\n",
       "      <td>2</td>\n",
       "      <td>6</td>\n",
       "      <td>1</td>\n",
       "      <td>2</td>\n",
       "      <td>60.2</td>\n",
       "      <td>19.4</td>\n",
       "    </tr>\n",
       "  </tbody>\n",
       "</table>\n",
       "<p>3648 rows × 9 columns</p>\n",
       "</div>"
      ],
      "text/plain": [
       "      Unnamed: 0              country_name  casted  gender  education  \\\n",
       "0          51867  United States of America       1       1          4   \n",
       "1          51868  United States of America       1       1          7   \n",
       "2          51869  United States of America       0       1          4   \n",
       "3          51870  United States of America       1       1          4   \n",
       "4          51871  United States of America       1       2          4   \n",
       "...          ...                       ...     ...     ...        ...   \n",
       "3643       55510  United States of America       1       1          4   \n",
       "3644       55511  United States of America       1       2          7   \n",
       "3645       55512  United States of America       1       1          3   \n",
       "3646       55513  United States of America       0       1          4   \n",
       "3647       55514  United States of America       1       2          6   \n",
       "\n",
       "      employement  closeness_party  turnout  women_in_parliament  \n",
       "0               1               -1     56.8                 19.4  \n",
       "1               1               -1     49.4                 19.4  \n",
       "2               1               -1     53.3                 19.4  \n",
       "3               1               -1     48.6                 19.4  \n",
       "4               2                2     61.0                 19.4  \n",
       "...           ...              ...      ...                  ...  \n",
       "3643            6               -1     58.3                 19.4  \n",
       "3644            1                2     60.8                 19.4  \n",
       "3645            7               -1     60.8                 19.4  \n",
       "3646            9               -1     52.6                 19.4  \n",
       "3647            1                2     60.2                 19.4  \n",
       "\n",
       "[3648 rows x 9 columns]"
      ]
     },
     "execution_count": 11,
     "metadata": {},
     "output_type": "execute_result"
    }
   ],
   "source": [
    "df_dict['United States of America']"
   ]
  },
  {
   "cell_type": "markdown",
   "id": "1358acf6",
   "metadata": {},
   "source": [
    "## 2- Univariate Descriptive Graphs"
   ]
  },
  {
   "cell_type": "markdown",
   "id": "de8a64d6",
   "metadata": {},
   "source": [
    "<br>\n",
    "<br>\n",
    "<font face=\"Helvetica\" size=\"3px\" color=\"#323752\"> In this part we will observe the plots of independent varibles that will be used in the following parts. We will start with the average turnouts of the selected countries."
   ]
  },
  {
   "cell_type": "code",
   "execution_count": 12,
   "id": "fca95dfc",
   "metadata": {},
   "outputs": [
    {
     "data": {
      "text/plain": [
       "Text(0, 0.5, 'Average Turnouts (%)')"
      ]
     },
     "execution_count": 12,
     "metadata": {},
     "output_type": "execute_result"
    }
   ],
   "source": [
    "fig = plt.figure(figsize=(3, 3))\n",
    "ax = fig.add_axes([0,0,1,1])\n",
    "countries = ['Turkey', 'United States of America']\n",
    "turnouts = [turnout_list['Turkey'],turnout_list['United States of America']]\n",
    "plt.title('Average Turnouts of the Selected Countries', fontsize=12, fontweight='bold', pad=20)\n",
    "ax.bar(countries,turnouts, color = 'c', width = 0.4)\n",
    "plt.ylabel('Average Turnouts (%)')"
   ]
  },
  {
   "cell_type": "markdown",
   "id": "59a84cca",
   "metadata": {},
   "source": [
    "<br>\n",
    "<br>\n",
    "<font face=\"Helvetica\" size=\"3px\" color=\"#323752\"> In the following cells, we will count the number of some variables to show in the plots."
   ]
  },
  {
   "cell_type": "code",
   "execution_count": 13,
   "id": "1ae81619",
   "metadata": {},
   "outputs": [],
   "source": [
    "count_female_s = 0\n",
    "count_male_s = 0\n",
    "\n",
    "for i in range(len(df_dict['United States of America']['gender'])):\n",
    "    if df_dict['United States of America']['gender'][i] == 1:\n",
    "        count_male_s = count_male_s + 1;\n",
    "    elif df_dict['United States of America']['gender'][i] == 2:\n",
    "        count_female_s = count_female_s + 1;"
   ]
  },
  {
   "cell_type": "code",
   "execution_count": 14,
   "id": "1a60c449",
   "metadata": {},
   "outputs": [],
   "source": [
    "count_female_t = 0\n",
    "count_male_t = 0\n",
    "\n",
    "for i in range(len(df_dict['Turkey']['gender'])):\n",
    "    if df_dict['Turkey']['gender'][i] == 1:\n",
    "        count_male_t = count_male_t + 1;\n",
    "    elif df_dict['Turkey']['gender'][i] == 2:\n",
    "        count_female_t = count_female_t + 1;"
   ]
  },
  {
   "cell_type": "markdown",
   "id": "aad66028",
   "metadata": {},
   "source": [
    "<br>\n",
    "<br>\n",
    "<font face=\"Helvetica\" size=\"3px\" color=\"#323752\"> Number of gender of respondents in the selected countries:"
   ]
  },
  {
   "cell_type": "code",
   "execution_count": 15,
   "id": "8ac8d241",
   "metadata": {},
   "outputs": [
    {
     "data": {
      "text/plain": [
       "Text(0, 0.5, 'Count')"
      ]
     },
     "execution_count": 15,
     "metadata": {},
     "output_type": "execute_result"
    }
   ],
   "source": [
    "fig = plt.figure(figsize=(3, 3))\n",
    "plt.subplot(2, 1, 1)\n",
    "ax1 = fig.add_axes([0,0,1,1])\n",
    "gender = ['Male', 'Female']\n",
    "count_t = {count_male_t,count_female_t}\n",
    "plt.title('Number of Male and Female Respondents in Turkey', fontsize=12, fontweight='bold', pad=20)\n",
    "ax1.bar(gender,count_t, color = 'r', width = 0.4)\n",
    "plt.ylabel('Count')\n",
    "\n",
    "fig = plt.figure(figsize=(3, 3))\n",
    "plt.subplot(2, 1, 1)\n",
    "ax2 = fig.add_axes([0,0,1,1])\n",
    "gender = ['Male', 'Female']\n",
    "count_s = {count_male_s,count_female_s }\n",
    "plt.title('Number of Male and Female Respondents in USA', fontsize=12, fontweight='bold', pad=20)\n",
    "ax2.bar(gender,count_s, color = 'b', width = 0.4)\n",
    "plt.ylabel('Count')"
   ]
  },
  {
   "cell_type": "markdown",
   "id": "e70b0f4b",
   "metadata": {},
   "source": [
    "<br>\n",
    "<br>\n",
    "<font face=\"Helvetica\" size=\"3px\" color=\"#323752\"> In the following cell we will count the number of casted and not casted respondents. Again, they are set as hidden default."
   ]
  },
  {
   "cell_type": "code",
   "execution_count": 16,
   "id": "cdd7b8ab",
   "metadata": {},
   "outputs": [],
   "source": [
    "count_casted1_t = 0\n",
    "count_casted0_t = 0\n",
    "for i in range(len(df_dict['Turkey']['casted'])):\n",
    "    if df_dict['Turkey']['casted'][i] == 1:\n",
    "        count_casted1_t = count_casted1_t + 1\n",
    "    elif df_dict['Turkey']['casted'][i] == 0:\n",
    "        count_casted0_t = count_casted0_t + 1\n",
    "\n",
    "count_casted1_s = 0\n",
    "count_casted0_s = 0\n",
    "for i in range(len(df_dict['United States of America']['casted'])):\n",
    "    if df_dict['United States of America']['casted'][i] == 1:\n",
    "        count_casted1_s = count_casted1_s + 1\n",
    "    elif df_dict['United States of America']['casted'][i] == 0:\n",
    "        count_casted1_s = count_casted1_s + 1"
   ]
  },
  {
   "cell_type": "markdown",
   "id": "28b5a103",
   "metadata": {},
   "source": [
    "<br>\n",
    "<br>\n",
    "<font face=\"Helvetica\" size=\"3px\" color=\"#323752\"> Number of casted and not casted respondents in the selected countries:"
   ]
  },
  {
   "cell_type": "code",
   "execution_count": 17,
   "id": "6adac81c",
   "metadata": {},
   "outputs": [
    {
     "data": {
      "text/plain": [
       "Text(0, 0.5, 'Count')"
      ]
     },
     "execution_count": 17,
     "metadata": {},
     "output_type": "execute_result"
    }
   ],
   "source": [
    "fig = plt.figure(figsize=(3, 3))\n",
    "plt.subplot(2, 2, 1)\n",
    "ax1 = fig.add_axes([0,0,1,1])\n",
    "gender = ['Casted', 'Not Casted']\n",
    "count_t = {count_casted1_t,count_casted0_t}\n",
    "plt.title('Did Respondents Cast the Last Ballot in Turkey', fontsize=12, fontweight='bold', pad=20)\n",
    "ax1.bar(gender,count_t, color = 'r', width = 0.4)\n",
    "plt.ylabel('Count')\n",
    "\n",
    "fig = plt.figure(figsize=(3, 3))\n",
    "plt.subplot(2, 2, 2)\n",
    "ax2 = fig.add_axes([0,0,1,1])\n",
    "gender = ['Casted', 'Not Casted']\n",
    "count_t = {count_casted1_s,count_casted1_s}\n",
    "plt.title('Did Respondents Cast the Last Ballot in USA', fontsize=12, fontweight='bold', pad=20)\n",
    "ax2.bar(gender,count_t, color = 'b', width = 0.4)\n",
    "plt.ylabel('Count')"
   ]
  },
  {
   "cell_type": "markdown",
   "id": "4a4e6057",
   "metadata": {},
   "source": [
    "## 3- Interactive Plot for Social Factors "
   ]
  },
  {
   "cell_type": "markdown",
   "id": "cc4fb2c1",
   "metadata": {},
   "source": [
    "<br>\n",
    "<font face=\"Helvetica\" size=\"3px\" color=\"#323752\"> We will use an interactive widget to observe the desired graphs with selected independent variables. These social graph plots are created in the first lecture. Before starting to create our widgets, labels for graphs is given below.</font>\n",
    "<br>"
   ]
  },
  {
   "cell_type": "markdown",
   "id": "1b9b2db3",
   "metadata": {},
   "source": [
    "<br>\n",
    "<font face=\"Helvetica\" size=\"3px\" color=\"#323752\"> <b>Education Status</b>\n",
    "<font face=\"Helvetica\" size=\"2px\" color=\"#323752\">  \n",
    "<ul>\n",
    "  <li>01. ISCED LEVEL 0 - EARLY CHILDHOOD EDUCATION</li>\n",
    "  <li>02. EMPLOYED - PART-TIME (15-32 HOURS WEEKLY)</li>\n",
    "  <li>03. ISCED LEVEL 2 - LOWER SECONDAR</li>\n",
    "  <li>04. ISCED LEVEL 3 - UPPER SECONDARY</li>\n",
    "  <li>05. ISCED LEVEL 4 - POST-SECONDARY NON-TERTIARY</li>\n",
    "  <li>06. ISCED LEVEL 5 - SHORT-CYCLE TERTIARY</li>\n",
    "  <li>07. ISCED LEVEL 6 - BACHELOR OR EQUIVALENT</li>\n",
    "  <li>08. ISCED LEVEL 7 - MASTER OR EQUIVALENT</li>\n",
    "  <li>09. ISCED LEVEL 8 - DOCTORAL OR EQUIVALENT</li>\n",
    "  <li>00. NONE (NO EDUCATION)</li>\n",
    "  <li>-01. MISSING/NO INFORMATION</li> \n",
    "</ul>"
   ]
  },
  {
   "cell_type": "markdown",
   "id": "60bafe47",
   "metadata": {},
   "source": [
    "<font face=\"Helvetica\" size=\"3px\" color=\"#323752\"> <b>Degree of Closeness to Party</b>\n",
    "<font face=\"Helvetica\" size=\"2px\" color=\"#323752\">  \n",
    "<ul>\n",
    "  <li>1. VERY CLOSE</li>\n",
    "  <li>2. SOMEWHAT CLOSE</li>\n",
    "  <li>3. NOT VERY CLOSE</li>\n",
    "  <li>-1. MISSING/NO INFORMATION</li>\n",
    "</ul>"
   ]
  },
  {
   "cell_type": "markdown",
   "id": "add366f2",
   "metadata": {},
   "source": [
    "<font face=\"Helvetica\" size=\"3px\" color=\"#323752\"> <b>Employement Status</b>\n",
    "<font face=\"Helvetica\" size=\"2px\" color=\"#323752\">  \n",
    "<ul>\n",
    "  <li>01. EMPLOYED - FULL-TIME (32 OR MORE HOURS WEEKLY)</li>\n",
    "  <li>02. EMPLOYED - PART-TIME (15-32 HOURS WEEKLY)</li>\n",
    "  <li>03. EMPLOYED - LESS THAN 15 HOURS</li>\n",
    "  <li>04. HELPING FAMILY MEMBER</li>\n",
    "  <li>05. UNEMPLOYED</li>\n",
    "  <li>06. STUDENT, IN SCHOOL, IN VOCATIONAL TRAINING</li>\n",
    "  <li>07. RETIRED</li>\n",
    "  <li>08. HOUSEWIFE, HOME DUTIES</li>\n",
    "  <li>09. PERMANENTLY DISABLED</li>\n",
    "  <li>10. OTHERS, NOT IN THE LABOR FORCE</li>\n",
    "  <li>-01. MISSING/NO INFORMATION</li> \n",
    "</ul>"
   ]
  },
  {
   "cell_type": "markdown",
   "id": "c329d0ab",
   "metadata": {},
   "source": [
    "<font face=\"Helvetica\" size=\"3px\" color=\"#323752\"> <b>Gender</b>\n",
    "<font face=\"Helvetica\" size=\"2px\" color=\"#323752\">  \n",
    "<ol>\n",
    "  <li>MALE</li>\n",
    "  <li>FEMALE</li>\n",
    "</ol>"
   ]
  },
  {
   "cell_type": "code",
   "execution_count": 18,
   "id": "90be8ad8",
   "metadata": {},
   "outputs": [
    {
     "data": {
      "image/png": "[encoded data removed]",
      "text/plain": [
       "<Figure size 300x300 with 1 Axes>"
      ]
     },
     "metadata": {},
     "output_type": "display_data"
    },
    {
     "data": {
      "image/png": "[encoded data removed]",
      "text/plain": [
       "<Figure size 300x300 with 2 Axes>"
      ]
     },
     "metadata": {},
     "output_type": "display_data"
    },
    {
     "data": {
      "image/png": "[encoded data removed]",
      "text/plain": [
       "<Figure size 300x300 with 2 Axes>"
      ]
     },
     "metadata": {},
     "output_type": "display_data"
    },
    {
     "data": {
      "image/png": "[encoded data removed]",
      "text/plain": [
       "<Figure size 300x300 with 2 Axes>"
      ]
     },
     "metadata": {},
     "output_type": "display_data"
    },
    {
     "data": {
      "image/png": "[encoded data removed]",
      "text/plain": [
       "<Figure size 300x300 with 2 Axes>"
      ]
     },
     "metadata": {},
     "output_type": "display_data"
    },
    {
     "data": {
      "application/vnd.jupyter.widget-view+json": {
       "model_id": "4704724d9aa7432fa97a529f759a86a6",
       "version_major": 2,
       "version_minor": 0
      },
      "text/plain": [
       "interactive(children=(Dropdown(description='Social Factors:', options=('Education Level', 'Closeness to a Pary…"
      ]
     },
     "metadata": {},
     "output_type": "display_data"
    }
   ],
   "source": [
    "a = widgets.Dropdown(\n",
    "    options=['Education Level', 'Closeness to a Pary', 'Employement Status'],\n",
    "    value='Education Level',\n",
    "    description='Social Factors:',\n",
    "    disabled=False,\n",
    "    continuous_update=False\n",
    ")\n",
    "\n",
    "b = widgets.Dropdown(\n",
    "    options=['Turkey', 'United States of America'],\n",
    "    value='Turkey',\n",
    "    description='Country:',\n",
    "    disabled=False,\n",
    "    continuous_update=False\n",
    ")\n",
    "\n",
    "\n",
    "c = widgets.Dropdown(\n",
    "    options=['Total', 'Gender divided'],\n",
    "    value='Total',\n",
    "    description='Graph:',\n",
    "    disabled=False,\n",
    "    continuous_update=False\n",
    ")\n",
    "\n",
    "def social_graph(social,country,graph):\n",
    "    if graph == 'Total':\n",
    "        if social == \"Education Level\":\n",
    "            plt.figure(figsize=(10, 5))\n",
    "            sns.histplot( x='education', data=df_dict[country], stat=\"percent\", discrete=True, kde=True);\n",
    "            sns.set_style(\"whitegrid\", {'axes.grid' : False})\n",
    "            plt.title('Education Status of %s'%(country), fontsize=20, fontweight='bold', pad=20);\n",
    "            plt.xlabel('EDUCATION STATUS')\n",
    "        \n",
    "        elif social == \"Closeness to a Pary\":\n",
    "            plt.figure(figsize=(10, 5))\n",
    "            sns.histplot( x='closeness_party', data=df_dict[country],  stat=\"percent\", discrete=True, kde=True, binwidth=1);\n",
    "            sns.set_style(\"whitegrid\", {'axes.grid' : False})\n",
    "            plt.title('Closeness to a Party in %s'%(country), fontsize=20, fontweight='bold', pad=20);\n",
    "            plt.xlabel('Closeness to a Party')\n",
    "            \n",
    "        elif social == \"Employement Status\":\n",
    "            plt.figure(figsize=(10, 5))\n",
    "            sns.histplot( x='employement', data=df_dict[country],  stat=\"percent\", discrete=True, kde=True, binwidth=1);\n",
    "            sns.set_style(\"whitegrid\", {'axes.grid' : False})\n",
    "            plt.title('Employment Status in Turkey', fontsize=20, fontweight='bold', pad=20);\n",
    "            plt.xlabel('Employment Status')\n",
    "    \n",
    "    elif graph == 'Gender divided':\n",
    "        if social == \"Education Level\":\n",
    "            plt.figure(figsize=(10, 5))\n",
    "            sns.histplot( x='education', data=df_dict[country],alpha = .7 ,hue = 'gender',  stat=\"percent\", discrete=True, binwidth=1);\n",
    "            sns.set_style(\"whitegrid\", {'axes.grid' : False})\n",
    "            plt.title('Education Status of Turkey with Genders', fontsize=20, fontweight='bold', pad=20);\n",
    "            plt.xlabel('EDUCATION STATUS')\n",
    "            plt.show()\n",
    "        \n",
    "        elif social == \"Closeness to a Pary\":\n",
    "            plt.figure(figsize=(10, 5))\n",
    "            sns.histplot( x='closeness_party', data=df_dict[country],alpha = .7\n",
    "                        ,hue = 'gender',  stat=\"percent\", discrete=True, binwidth=1);\n",
    "            sns.set_style(\"whitegrid\", {'axes.grid' : False})\n",
    "            plt.title('Closeness to a Party in Turkey with Genders', fontsize=20, fontweight='bold', pad=20);\n",
    "            plt.xlabel('Closeness to a Party ')\n",
    "            plt.show()\n",
    "            \n",
    "        elif social == \"Employement Status\":\n",
    "            plt.figure(figsize=(10, 5))\n",
    "            sns.histplot( x='employement', data=df_dict[country],alpha = .7\n",
    "                        ,hue = 'gender',  stat=\"percent\", discrete=True, binwidth=1);\n",
    "            sns.set_style(\"whitegrid\", {'axes.grid' : False})\n",
    "            plt.title('Employment Status in Switzerland with Genders', fontsize=20, fontweight='bold', pad=20);\n",
    "            plt.xlabel('Employment Status')\n",
    "            plt.show()\n",
    "    \n",
    "widgets.interact(social_graph, social=a, country=b, graph=c);     "
   ]
  },
  {
   "cell_type": "markdown",
   "id": "643533f6",
   "metadata": {},
   "source": [
    "## 4- Bivariate Analysis (Chi-square)"
   ]
  },
  {
   "cell_type": "markdown",
   "id": "05d8153e",
   "metadata": {},
   "source": [
    "<br>\n",
    "<font face=\"Helvetica\" size=\"3px\" color=\"#323752\"> In this part we will implement the chi-square test that we used in the first lecture. Our aim is observing the dependency between the varibles 'casted' and 'closeness to party.' We will follow the same steps in the first lecture. We will choose only one country for this section (USA)."
   ]
  },
  {
   "cell_type": "markdown",
   "id": "fa331726",
   "metadata": {},
   "source": [
    "<br>\n",
    "<br>\n",
    "<font face=\"Helvetica\" size=\"3px\" color=\"#323752\" > We will create a table in the following cells with casted and degree of closeness to a party in USA. </font>\n",
    "<br>\n",
    "<br>"
   ]
  },
  {
   "cell_type": "code",
   "execution_count": 19,
   "id": "f3a66a56",
   "metadata": {},
   "outputs": [],
   "source": [
    "casted = [0]*4\n",
    "not_casted = [0]*4\n",
    "for i in range(len(df_dict['United States of America']['casted'])):\n",
    "    if df_dict['United States of America']['closeness_party'][i] == 1:\n",
    "        if df_dict['United States of America']['casted'][i] == 1:\n",
    "            casted[0] = casted[0] + 1\n",
    "        elif df_dict['United States of America']['casted'][i] == 0:\n",
    "            not_casted[0] = not_casted[0] + 1\n",
    "    if df_dict['United States of America']['closeness_party'][i] == 2:\n",
    "        if df_dict['United States of America']['casted'][i] == 1:\n",
    "            casted[1] = casted[1] + 1\n",
    "        elif df_dict['United States of America']['casted'][i] == 0:\n",
    "            not_casted[1] = not_casted[1] + 1\n",
    "    if df_dict['United States of America']['closeness_party'][i] == 3:\n",
    "        if df_dict['United States of America']['casted'][i] == 1:\n",
    "            casted[2] = casted[2] + 1\n",
    "        elif df_dict['United States of America']['casted'][i] == 0:\n",
    "            not_casted[2] = not_casted[2] + 1\n",
    "    if df_dict['United States of America']['closeness_party'][i] == -1:\n",
    "        if df_dict['United States of America']['casted'][i] == 1:\n",
    "            casted[3] = casted[3] + 1\n",
    "        elif df_dict['United States of America']['casted'][i] == 0:\n",
    "            not_casted[3] = not_casted[3] + 1"
   ]
  },
  {
   "cell_type": "markdown",
   "id": "4d919bc9",
   "metadata": {},
   "source": [
    "<br>\n",
    "<br>\n",
    "<font face=\"Helvetica\" size=\"3px\" color=\"#323752\" > We are going to create sample data which is about gender and degree of closeness to a party in Switzerland. <font face=\"Helvetica\" size=\"3.5px\" color=\"#63b6c7\" ><b>Pandas </b></font>index and columns are used to name rows and columns. \n",
    "<br>\n",
    "<br>"
   ]
  },
  {
   "cell_type": "code",
   "execution_count": 20,
   "id": "1be1c5f6",
   "metadata": {},
   "outputs": [
    {
     "data": {
      "text/html": [
       "<div>\n",
       "<style scoped>\n",
       "    .dataframe tbody tr th:only-of-type {\n",
       "        vertical-align: middle;\n",
       "    }\n",
       "\n",
       "    .dataframe tbody tr th {\n",
       "        vertical-align: top;\n",
       "    }\n",
       "\n",
       "    .dataframe thead th {\n",
       "        text-align: right;\n",
       "    }\n",
       "</style>\n",
       "<table border=\"1\" class=\"dataframe\">\n",
       "  <thead>\n",
       "    <tr style=\"text-align: right;\">\n",
       "      <th></th>\n",
       "      <th>Very Close</th>\n",
       "      <th>Somewhat Close</th>\n",
       "      <th>Not very Close</th>\n",
       "      <th>Missing/No Info</th>\n",
       "    </tr>\n",
       "  </thead>\n",
       "  <tbody>\n",
       "    <tr>\n",
       "      <th>Casted</th>\n",
       "      <td>564</td>\n",
       "      <td>1043</td>\n",
       "      <td>115</td>\n",
       "      <td>1098</td>\n",
       "    </tr>\n",
       "    <tr>\n",
       "      <th>Not Casted</th>\n",
       "      <td>78</td>\n",
       "      <td>166</td>\n",
       "      <td>27</td>\n",
       "      <td>557</td>\n",
       "    </tr>\n",
       "  </tbody>\n",
       "</table>\n",
       "</div>"
      ],
      "text/plain": [
       "            Very Close  Somewhat Close  Not very Close  Missing/No Info\n",
       "Casted             564            1043             115             1098\n",
       "Not Casted          78             166              27              557"
      ]
     },
     "execution_count": 20,
     "metadata": {},
     "output_type": "execute_result"
    }
   ],
   "source": [
    "closeness_party = pd.DataFrame(\n",
    "    [\n",
    "        casted,\n",
    "        not_casted\n",
    "    ],\n",
    "    index=[\"Casted\",\"Not Casted\"],\n",
    "    columns=[\"Very Close\",\"Somewhat Close\",\"Not very Close\",\"Missing/No Info\"])\n",
    "\n",
    "closeness_party"
   ]
  },
  {
   "cell_type": "markdown",
   "id": "0d39e15e",
   "metadata": {},
   "source": [
    "<br>\n",
    "<br>\n",
    "<font face=\"Helvetica\" size=\"3px\" color=\"#323752\" > Python uses zero-based indexing. That means, the first element has an index 0, the second has index 1, and so on. If you want to access the fourth value in the <b>chi2_contingency(closeness_party)</b> you need to use <b>[3]</b>.</font>\n",
    "<br>\n",
    "<br>"
   ]
  },
  {
   "cell_type": "markdown",
   "id": "0fa8de0b",
   "metadata": {},
   "source": [
    "### chi2_contingency"
   ]
  },
  {
   "cell_type": "markdown",
   "id": "92b0572f",
   "metadata": {},
   "source": [
    "<br>\n",
    "<font face=\"Helvetica\" size=\"3px\" color=\"#323752\" > <font face=\"Helvetica\" size=\"3.5px\" color=\"#63b6c7\" ><b>SciPy’s chi2_contingency() </b></font>returns four values, <b> 𝜒2 value, p-value, degree of freedom and expected values.</b> \n",
    "<br>\n",
    "<br>"
   ]
  },
  {
   "cell_type": "code",
   "execution_count": 21,
   "id": "8aafa382",
   "metadata": {},
   "outputs": [
    {
     "data": {
      "text/plain": [
       "(210.48078629608784,\n",
       " 2.29230874277379e-45,\n",
       " 3,\n",
       " array([[ 496.28289474,  934.58881579,  109.76973684, 1279.35855263],\n",
       "        [ 145.71710526,  274.41118421,   32.23026316,  375.64144737]]))"
      ]
     },
     "execution_count": 21,
     "metadata": {},
     "output_type": "execute_result"
    }
   ],
   "source": [
    "chi2_contingency(closeness_party)"
   ]
  },
  {
   "cell_type": "markdown",
   "id": "4eb7e217",
   "metadata": {},
   "source": [
    "### Expected values "
   ]
  },
  {
   "cell_type": "markdown",
   "id": "e1e805df",
   "metadata": {},
   "source": [
    "<br>\n",
    "<font face=\"Helvetica\" size=\"3px\" color=\"#323752\" > You can find the expected values at the forth in the returned value. It is in an array form. Let’s print the expected values. We again use the Pandas dataframe. We are going to add index and column values and round the values to the two decimal places <b>round(2)</b>. </font>\n",
    "<br>\n",
    "<br>"
   ]
  },
  {
   "cell_type": "code",
   "execution_count": 22,
   "id": "fc9593cd",
   "metadata": {},
   "outputs": [
    {
     "data": {
      "text/html": [
       "<div>\n",
       "<style scoped>\n",
       "    .dataframe tbody tr th:only-of-type {\n",
       "        vertical-align: middle;\n",
       "    }\n",
       "\n",
       "    .dataframe tbody tr th {\n",
       "        vertical-align: top;\n",
       "    }\n",
       "\n",
       "    .dataframe thead th {\n",
       "        text-align: right;\n",
       "    }\n",
       "</style>\n",
       "<table border=\"1\" class=\"dataframe\">\n",
       "  <thead>\n",
       "    <tr style=\"text-align: right;\">\n",
       "      <th></th>\n",
       "      <th>Very Close</th>\n",
       "      <th>Somewhat Close</th>\n",
       "      <th>Not very Close</th>\n",
       "      <th>Missing/No Info</th>\n",
       "    </tr>\n",
       "  </thead>\n",
       "  <tbody>\n",
       "    <tr>\n",
       "      <th>Casted</th>\n",
       "      <td>496.28</td>\n",
       "      <td>934.59</td>\n",
       "      <td>109.77</td>\n",
       "      <td>1279.36</td>\n",
       "    </tr>\n",
       "    <tr>\n",
       "      <th>Not Casted</th>\n",
       "      <td>145.72</td>\n",
       "      <td>274.41</td>\n",
       "      <td>32.23</td>\n",
       "      <td>375.64</td>\n",
       "    </tr>\n",
       "  </tbody>\n",
       "</table>\n",
       "</div>"
      ],
      "text/plain": [
       "            Very Close  Somewhat Close  Not very Close  Missing/No Info\n",
       "Casted          496.28          934.59          109.77          1279.36\n",
       "Not Casted      145.72          274.41           32.23           375.64"
      ]
     },
     "execution_count": 22,
     "metadata": {},
     "output_type": "execute_result"
    }
   ],
   "source": [
    "df=chi2_contingency(closeness_party)[3]\n",
    "pd.DataFrame(\n",
    "    data=df[:,:], \n",
    "    index=[\"Casted\",\"Not Casted\"],\n",
    "    columns=[\"Very Close\",\"Somewhat Close\",\"Not very Close\",\"Missing/No Info\"]).round(2)"
   ]
  },
  {
   "cell_type": "markdown",
   "id": "8ab1a47f",
   "metadata": {},
   "source": [
    "<br>\n",
    "<br>\n",
    "<font face=\"Helvetica\" size=\"3px\" color=\"#323752\" > The table above is called <font face=\"Helvetica\" size=\"3.5px\" color=\"#63b6c7\" ><b> a contingency table</b></font>.\n",
    "<br>\n",
    "<br>"
   ]
  },
  {
   "cell_type": "markdown",
   "id": "8b6f2983",
   "metadata": {},
   "source": [
    "### 𝜒2 value "
   ]
  },
  {
   "cell_type": "markdown",
   "id": "0c4da6a3",
   "metadata": {},
   "source": [
    "<br>\n",
    "<font face=\"Helvetica\" size=\"3px\" color=\"#323752\" > The 𝜒2 equation tells us to find the square of the difference between the actual value and expected value and divide it by the expected value. This is what chi2_contingency is doing behind the scene. Since Python is 0 based index, in order to print the 𝜒2 we need to use <b>[0]</b>, which is the first value.</font>\n",
    "<br>\n",
    "<br>"
   ]
  },
  {
   "cell_type": "code",
   "execution_count": 23,
   "id": "7ef894c2",
   "metadata": {},
   "outputs": [
    {
     "name": "stdout",
     "output_type": "stream",
     "text": [
      "210.48078629608784\n"
     ]
    }
   ],
   "source": [
    "chisquare=chi2_contingency(closeness_party)[0]\n",
    "print(chisquare)"
   ]
  },
  {
   "cell_type": "markdown",
   "id": "c7d6f8a0",
   "metadata": {},
   "source": [
    "### p-Value "
   ]
  },
  {
   "cell_type": "markdown",
   "id": "f9f7d5a0",
   "metadata": {},
   "source": [
    "<br>\n",
    "<font face=\"Helvetica\" size=\"3px\" color=\"#323752\" > You can find the p-value at the second in the returned value. p-value measures the probability of seeing the effect when the null hypothesis is true. So, when the p-value is low enough, we reject the null hypothesis and conclude the observed effect holds.</font>\n",
    "<br>\n",
    "<br>"
   ]
  },
  {
   "cell_type": "code",
   "execution_count": 24,
   "id": "90b71a47",
   "metadata": {},
   "outputs": [
    {
     "name": "stdout",
     "output_type": "stream",
     "text": [
      "2.29230874277379e-45\n"
     ]
    }
   ],
   "source": [
    "pvalue=chi2_contingency(closeness_party)[1]\n",
    "print(pvalue)"
   ]
  },
  {
   "cell_type": "markdown",
   "id": "8d13b4c8",
   "metadata": {},
   "source": [
    "### Degree of freedom "
   ]
  },
  {
   "cell_type": "markdown",
   "id": "0d84c18b",
   "metadata": {},
   "source": [
    "<br>\n",
    "<font face=\"Helvetica\" size=\"3px\" color=\"#323752\" >In the returned value from the chi2_contingency, the third one is the degree of freedom. We use <b>[2]</b> which is the third one. The following will output 3.</font>\n",
    "<br>\n",
    "<br>"
   ]
  },
  {
   "cell_type": "code",
   "execution_count": 25,
   "id": "c00a6e89",
   "metadata": {},
   "outputs": [
    {
     "name": "stdout",
     "output_type": "stream",
     "text": [
      "3\n"
     ]
    }
   ],
   "source": [
    "dof=chi2_contingency(closeness_party)[2]\n",
    "print(dof)"
   ]
  },
  {
   "cell_type": "markdown",
   "id": "d4921cc4",
   "metadata": {},
   "source": [
    "### Critical values "
   ]
  },
  {
   "cell_type": "markdown",
   "id": "c229de40",
   "metadata": {},
   "source": [
    "<font face=\"Helvetica\" size=\"3px\" color=\"#323752\" > The level of significance and degree of freedom can be used to find the critical value. As I mentioned, you can find the degree of freedom from the array. State and define probability from the level of significance, 1%, 5% 10%, etc.</font>\n",
    "<br>\n",
    "<br>"
   ]
  },
  {
   "cell_type": "code",
   "execution_count": 26,
   "id": "db51b7ff",
   "metadata": {},
   "outputs": [
    {
     "name": "stdout",
     "output_type": "stream",
     "text": [
      "11.344866730144373\n"
     ]
    }
   ],
   "source": [
    "significance = 0.01\n",
    "p = 1 - significance\n",
    "dof = chi2_contingency(closeness_party)[2]\n",
    "critical_value = chi2.ppf(p, dof)\n",
    "print(critical_value)"
   ]
  },
  {
   "cell_type": "markdown",
   "id": "be5ae834",
   "metadata": {},
   "source": [
    "<br>\n",
    "<br>\n",
    "<font face=\"Helvetica\" size=\"3px\" color=\"#323752\" > Let's check the p-value by using the critical value that we calculated </font>\n",
    "<br>\n",
    "<br>"
   ]
  },
  {
   "cell_type": "code",
   "execution_count": 27,
   "id": "81c14b11",
   "metadata": {},
   "outputs": [
    {
     "name": "stdout",
     "output_type": "stream",
     "text": [
      "0.99\n"
     ]
    }
   ],
   "source": [
    "p = chi2.cdf(critical_value, dof)\n",
    "print(p)"
   ]
  },
  {
   "cell_type": "markdown",
   "id": "b2a75c12",
   "metadata": {},
   "source": [
    "<br>\n",
    "<font face=\"Helvetica\" size=\"3px\" color=\"#323752\" > Which confirms the critical value. </font>\n",
    "<br>\n",
    "<br>"
   ]
  },
  {
   "cell_type": "markdown",
   "id": "5b32aee2",
   "metadata": {},
   "source": [
    "### The Null and Alternative Hypotheses "
   ]
  },
  {
   "cell_type": "markdown",
   "id": "311cbf29",
   "metadata": {},
   "source": [
    "<font face=\"Helvetica\" size=\"3px\" color=\"#323752\" >Chi-square test requires to state the null hypothesis, H0, and the alternative hypothesis, H1. The null hypothesis is the statement that our two variables are independent. The alternative hypothesis is the statement that they are not independent.</font>\n",
    "<br>"
   ]
  },
  {
   "cell_type": "markdown",
   "id": "f36f0caf",
   "metadata": {},
   "source": [
    "<font face=\"Helvetica\" size=\"3px\" color=\"#323752\" > If the calculated Chi-square is greater than the critical value we <b>reject the null hypothesis.</b></font>\n",
    "<br>\n",
    "<br>"
   ]
  },
  {
   "cell_type": "code",
   "execution_count": 28,
   "id": "116ca66c",
   "metadata": {},
   "outputs": [
    {
     "name": "stdout",
     "output_type": "stream",
     "text": [
      "p-value is:  2.29230874277379e-45\n",
      "chi=210.480786, critical value=16.266236\n",
      "\n",
      "At 0.00 level of significance, we reject the null hypotheses and accept H1. \n",
      "They are not independent.\n"
     ]
    }
   ],
   "source": [
    "chi, pval, dof, exp = chi2_contingency(closeness_party)\n",
    "print('p-value is: ', pval)\n",
    "\n",
    "significance = 0.001\n",
    "p = 1 - significance\n",
    "\n",
    "critical_value = chi2.ppf(p, dof)\n",
    "print('chi=%.6f, critical value=%.6f\\n' % (chi, critical_value))\n",
    "\n",
    "if chi > critical_value:\n",
    "    print(\"\"\"At %.2f level of significance, we reject the null hypotheses and accept H1. \n",
    "They are not independent.\"\"\" % (significance))\n",
    "else:\n",
    "    print(\"\"\"At %.2f level of significance, we accept the null hypotheses. \n",
    "They are independent.\"\"\" % (significance))"
   ]
  },
  {
   "cell_type": "markdown",
   "id": "d48c47c4",
   "metadata": {},
   "source": [
    "<br>\n",
    "<br>\n",
    "<font face=\"Helvetica\" size=\"3px\" color=\"#323752\" > Alternatively, we can compare the p-value and the level of significance. If p-value < the level of significance, <b> we reject the null hypothesis.</b></font>\n",
    "<br>\n",
    "<br>"
   ]
  },
  {
   "cell_type": "code",
   "execution_count": 29,
   "id": "f80e08d3",
   "metadata": {},
   "outputs": [
    {
     "name": "stdout",
     "output_type": "stream",
     "text": [
      "p-value=0.000000, significance=0.01\n",
      "\n",
      "At 0.01 level of significance, we reject the null hypotheses and accept H1. \n",
      "They are not independent.\n"
     ]
    }
   ],
   "source": [
    "chi, pval, dof, exp = chi2_contingency(closeness_party)\n",
    "\n",
    "significance = 0.01\n",
    "print('p-value=%.6f, significance=%.2f\\n' % (pval, significance))\n",
    "\n",
    "if pval < significance:\n",
    "    print(\"\"\"At %.2f level of significance, we reject the null hypotheses and accept H1. \n",
    "They are not independent.\"\"\" % (significance))\n",
    "else:\n",
    "    print(\"\"\"At %.2f level of significance, we accept the null hypotheses. \n",
    "They are independent.\"\"\" % (significance))"
   ]
  },
  {
   "cell_type": "markdown",
   "id": "8a02218e",
   "metadata": {},
   "source": [
    "<br>\n",
    "<br>\n",
    "<font face=\"Helvetica\" size=\"3px\" color=\"#323752\" >We can observe the chi value and critical value on a chi-square distribution."
   ]
  },
  {
   "cell_type": "code",
   "execution_count": 30,
   "id": "aea5d0cc",
   "metadata": {},
   "outputs": [
    {
     "data": {
      "image/png": "[encoded data removed]",
      "text/plain": [
       "<Figure size 1000x500 with 1 Axes>"
      ]
     },
     "metadata": {},
     "output_type": "display_data"
    }
   ],
   "source": [
    "x = np.arange(0, chi + 10, 0.001)\n",
    "a = chi2.pdf(x, df=dof)\n",
    "\n",
    "plt.figure(figsize=(10, 5))\n",
    "plt.plot(x, a)\n",
    "\n",
    "plt.axvline(critical_value, 0, 1, color ='gray',linestyle='--', label='Critical Point : %.2f'%critical_value)\n",
    "plt.axvline(chi, 0, 1, color ='red',linestyle=':', label='Chi : %.2f'%chi)\n",
    "plt.text( critical_value, 0.05, '--> Reject H0', fontsize=15, color ='gray')\n",
    "plt.suptitle(\"H0: Turnout and degree to closeness are independent in USA\", fontsize=17)\n",
    "if chi > critical_value:\n",
    "    text = \"\"\"At %.3f level of significance, we reject the null hypotheses and accept H1. \n",
    "    They are not independent.\"\"\" % (significance)\n",
    "else:\n",
    "    text = \"\"\"At %.3f level of significance, we accept the null hypotheses. \n",
    "    They are independent.\"\"\" % (significance)\n",
    "\n",
    "plt.xlabel(text, fontsize=15)\n",
    "plt.legend()\n",
    "plt.show()"
   ]
  },
  {
   "cell_type": "markdown",
   "id": "a52f9d88",
   "metadata": {},
   "source": [
    "<br>\n",
    "<br>\n",
    "<font face=\"Helvetica\" size=\"3px\" color=\"#323752\" >As shown in the graph, those two social factor are clearly dependent. Chi value is so far away from the critial point."
   ]
  },
  {
   "cell_type": "markdown",
   "id": "16ebf13c",
   "metadata": {},
   "source": [
    "## 5- Multivariate Binary Logistic Regression"
   ]
  },
  {
   "cell_type": "markdown",
   "id": "19aa1918",
   "metadata": {},
   "source": [
    "<br>\n",
    "<br>\n",
    "<font face=\"Helvetica\" size=\"3px\" color=\"#323752\">Binary Logistic Regression: The target variable has only two possible outcomes such as Spam or Not Spam, Cancer or No Cancer. In our case, our dependent varible will be <b><i>\"Did respondent cast a ballot?\"</i></b> and the answer is yes or no."
   ]
  },
  {
   "cell_type": "markdown",
   "id": "1d8419e4",
   "metadata": {},
   "source": [
    "<br>\n",
    "<br>\n",
    "<font face=\"Helvetica\" size=\"3px\" color=\"#323752\"> We will start with selecting the feuture columns that will be used in the linear regression model. After selecting these columns, we will assing them as <b>X</b>, and the dependent varible 'casted' as <b>y</b>."
   ]
  },
  {
   "cell_type": "code",
   "execution_count": 31,
   "id": "eb96014b",
   "metadata": {},
   "outputs": [],
   "source": [
    "feature_cols = ['gender', 'education', 'employement', 'closeness_party','turnout']\n",
    "X = df_dict['United States of America'][feature_cols]\n",
    "y = df_dict['United States of America']['casted']\n"
   ]
  },
  {
   "cell_type": "markdown",
   "id": "70b001d3",
   "metadata": {},
   "source": [
    "<br>\n",
    "<br>\n",
    "<font face=\"Helvetica\" size=\"3px\" color=\"#323752\"> In the following cell we will import the functions that will be used. "
   ]
  },
  {
   "cell_type": "code",
   "execution_count": 32,
   "id": "d8d6c985",
   "metadata": {},
   "outputs": [],
   "source": [
    "from sklearn.linear_model import LogisticRegressionCV\n",
    "from sklearn.model_selection import train_test_split\n",
    "from sklearn.linear_model import LogisticRegression\n",
    "from imblearn.over_sampling import SMOTE"
   ]
  },
  {
   "cell_type": "markdown",
   "id": "616b913d",
   "metadata": {},
   "source": [
    "<br>\n",
    "<br>\n",
    "<font face=\"Helvetica\" size=\"3px\" color=\"#323752\">To understand model performance, dividing the dataset into a training set and a test set is a good strategy. Let's split dataset by using function train_test_split(). You need to pass 3 parameters features, target, and test_set size. Additionally, you can use random_state to select records randomly."
   ]
  },
  {
   "cell_type": "markdown",
   "id": "a8c258f0",
   "metadata": {},
   "source": [
    "<br>\n",
    "<br>\n",
    "<font face=\"Helvetica\" size=\"3px\" color=\"#323752\"> With our training data created, I’ll up-sample the not-casted respondents using the SMOTE algorithm(Synthetic Minority Oversampling Technique). At a high level, SMOTE:\n",
    "<br><br>\n",
    "&nbsp;&nbsp;1) Works by creating synthetic samples from the minor class (no-subscription) instead of creating copies.<br>\n",
    "&nbsp;&nbsp;    2) Randomly choosing one of the k-nearest-neighbors and using it to create a similar, but randomly tweaked, new observations."
   ]
  },
  {
   "cell_type": "code",
   "execution_count": 33,
   "id": "a3e23579",
   "metadata": {},
   "outputs": [
    {
     "name": "stdout",
     "output_type": "stream",
     "text": [
      "length of oversampled data is  4224\n",
      "Number of no subscription in oversampled data 2112\n",
      "Number of subscription 2112\n",
      "Proportion of no subscription data in oversampled data is  0.5\n",
      "Proportion of subscription data in oversampled data is  0.5\n"
     ]
    }
   ],
   "source": [
    "os = SMOTE(random_state=0)\n",
    "\n",
    "X_train,X_test,y_train,y_test=train_test_split(X,y,test_size=0.25,random_state=0)\n",
    "columns = X_train.columns\n",
    "os_data_X,os_data_y=os.fit_resample(X_train, y_train)\n",
    "os_data_X = pd.DataFrame(data=os_data_X,columns=columns )\n",
    "os_data_y= pd.DataFrame(data=os_data_y,columns=['casted'])\n",
    "\n",
    "# we can Check the numbers of our data\n",
    "print(\"length of oversampled data is \",len(os_data_X))\n",
    "print(\"Number of no subscription in oversampled data\",len(os_data_y[os_data_y['casted']==0]))\n",
    "print(\"Number of subscription\",len(os_data_y[os_data_y['casted']==1]))\n",
    "print(\"Proportion of no subscription data in oversampled data is \",len(os_data_y[os_data_y['casted']==0])/len(os_data_X))\n",
    "print(\"Proportion of subscription data in oversampled data is \",len(os_data_y[os_data_y['casted']==1])/len(os_data_X))\n"
   ]
  },
  {
   "cell_type": "markdown",
   "id": "f836dcc2",
   "metadata": {},
   "source": [
    "<br>\n",
    "<br>\n",
    "<font face=\"Helvetica\" size=\"3px\" color=\"#323752\"> We have already imported the Logistic Regression module. It is time to create a Logistic Regression classifier object using LogisticRegression() function. Then, fit your model on the train set using fit() and perform prediction on the test set using predict(). Do not forget we are using the oversampled data."
   ]
  },
  {
   "cell_type": "code",
   "execution_count": 34,
   "id": "1aaac13b",
   "metadata": {},
   "outputs": [],
   "source": [
    "# instantiate the model (using the default parameters)\n",
    "logreg = LogisticRegression()\n",
    "\n",
    "# fit the model with data\n",
    "logreg.fit(os_data_X,os_data_y)\n",
    "#logreg.fit(X_train,y_train)\n",
    "\n",
    "#\n",
    "y_pred=logreg.predict(X_test)"
   ]
  },
  {
   "cell_type": "markdown",
   "id": "417b01ea",
   "metadata": {},
   "source": [
    "<br>\n",
    "<br>\n",
    "<font face=\"Helvetica\" size=\"3px\" color=\"#323752\">Next step is model evaluation and confusion matrix. A confusion matrix is a table that is used to evaluate the performance of a classification model. You can also visualize the performance of an algorithm. The fundamental of a confusion matrix is the number of correct and incorrect predictions are summed up class-wise."
   ]
  },
  {
   "cell_type": "code",
   "execution_count": 35,
   "id": "c4c14fcd",
   "metadata": {},
   "outputs": [
    {
     "data": {
      "text/plain": [
       "array([[143,  61],\n",
       "       [228, 480]], dtype=int64)"
      ]
     },
     "execution_count": 35,
     "metadata": {},
     "output_type": "execute_result"
    }
   ],
   "source": [
    "# import the metrics class\n",
    "from sklearn import metrics\n",
    "cnf_matrix = metrics.confusion_matrix(y_test, y_pred)\n",
    "cnf_matrix"
   ]
  },
  {
   "cell_type": "markdown",
   "id": "91620c41",
   "metadata": {},
   "source": [
    "<br>\n",
    "<br>\n",
    "<font face=\"Helvetica\" size=\"3px\" color=\"#323752\">Here, you can see the confusion matrix in the form of the array object. The dimension of this matrix is 2*2 because this model is binary classification. You have two classes 0 and 1. Diagonal values represent accurate predictions, while non-diagonal elements are inaccurate predictions. In the output, <b>143</b> and <b>480</b> are actual predictions, and <b>61</b> and <b>228</b> are incorrect predictions."
   ]
  },
  {
   "cell_type": "markdown",
   "id": "5ae112bd",
   "metadata": {},
   "source": [
    "<br>\n",
    "<br>\n",
    "<font face=\"Helvetica\" size=\"3px\" color=\"#323752\"> Let's visualize the results of the model in the form of a confusion matrix using matplotlib and seaborn.Here, you will visualize the confusion matrix using Heatmap."
   ]
  },
  {
   "cell_type": "code",
   "execution_count": 36,
   "id": "18b7f355",
   "metadata": {
    "scrolled": false
   },
   "outputs": [
    {
     "data": {
      "image/png": "[encoded data removed]",
      "text/plain": [
       "<Figure size 640x480 with 2 Axes>"
      ]
     },
     "metadata": {},
     "output_type": "display_data"
    }
   ],
   "source": [
    "class_names=[0,1] # name  of classes\n",
    "fig, ax = plt.subplots()\n",
    "tick_marks = np.arange(len(class_names))\n",
    "plt.xticks(tick_marks, class_names)\n",
    "plt.yticks(tick_marks, class_names)\n",
    "# create heatmap\n",
    "sns.heatmap(pd.DataFrame(cnf_matrix), annot=True, cmap=\"Blues\" ,fmt='g')\n",
    "ax.xaxis.set_label_position(\"top\")\n",
    "plt.tight_layout()\n",
    "plt.title('Confusion matrix', y=1.1)\n",
    "plt.ylabel('Actual label')\n",
    "plt.xlabel('Predicted label')\n",
    "\n",
    "plt.show()"
   ]
  },
  {
   "cell_type": "markdown",
   "id": "6be6755c",
   "metadata": {},
   "source": [
    "<br>\n",
    "<br>\n",
    "<font face=\"Helvetica\" size=\"3px\" color=\"#323752\">Let's evaluate the model using model evaluation metrics such as accuracy, precision, and recall. "
   ]
  },
  {
   "cell_type": "code",
   "execution_count": 37,
   "id": "65ff1686",
   "metadata": {},
   "outputs": [
    {
     "name": "stdout",
     "output_type": "stream",
     "text": [
      "Accuracy: 0.6831140350877193\n",
      "Precision: 0.8872458410351202\n",
      "Recall: 0.6779661016949152\n"
     ]
    }
   ],
   "source": [
    "print(\"Accuracy:\",metrics.accuracy_score(y_test, y_pred))\n",
    "print(\"Precision:\",metrics.precision_score(y_test, y_pred))\n",
    "print(\"Recall:\",metrics.recall_score(y_test, y_pred))"
   ]
  },
  {
   "cell_type": "markdown",
   "id": "b0181397",
   "metadata": {},
   "source": [
    "<br>\n",
    "<font face=\"Helvetica\" size=\"3px\" color=\"#323752\">\n",
    "Precision is about being precise, i.e., how accurate your model is. In other words, you can say, when a model makes a prediction, how often it is correct. \n",
    "<br>\n",
    "The other metic is Recall. If there are patients who are casted to a ballot in the test set and your Logistic Regression model can identify it 67% of the time."
   ]
  },
  {
   "cell_type": "markdown",
   "id": "7384fc48",
   "metadata": {},
   "source": [
    "<br>\n",
    "<font face=\"Helvetica\" size=\"3px\" color=\"#323752\"> Lets draw the <b> ROC curve </b>. Receiver Operating Characteristic(ROC) curve is a plot of the true positive rate against the false positive rate. It shows the tradeoff between sensitivity and specificity."
   ]
  },
  {
   "cell_type": "code",
   "execution_count": 38,
   "id": "d50e0bdf",
   "metadata": {
    "scrolled": false
   },
   "outputs": [
    {
     "data": {
      "image/png": "[encoded data removed]",
      "text/plain": [
       "<Figure size 640x480 with 1 Axes>"
      ]
     },
     "metadata": {},
     "output_type": "display_data"
    }
   ],
   "source": [
    "y_pred_proba = logreg.predict_proba(X_test)[::,1]\n",
    "fpr, tpr, _ = metrics.roc_curve(y_test,  y_pred_proba)\n",
    "auc = metrics.roc_auc_score(y_test, y_pred_proba)\n",
    "plt.plot(fpr,tpr,label=\"data 1, auc=\"+str(auc))\n",
    "plt.legend(loc=4)\n",
    "plt.show()"
   ]
  },
  {
   "cell_type": "markdown",
   "id": "70c1ef29",
   "metadata": {},
   "source": [
    "<br>\n",
    "<font face=\"Helvetica\" size=\"3px\" color=\"#323752\">AUC score for the case is 0.74. AUC score 1 represents perfect classifier, and 0.5 represents a worthless classifier."
   ]
  },
  {
   "cell_type": "markdown",
   "id": "eec54970",
   "metadata": {},
   "source": [
    "## 6- Interactive Logistic Regression Widgets"
   ]
  },
  {
   "cell_type": "markdown",
   "id": "9fabafb6",
   "metadata": {},
   "source": [
    "<br>\n",
    "<font face=\"Helvetica\" size=\"3px\" color=\"#323752\"> In this part, we use logistic regression widgets. We demonstrate simple logistic regression of single variable using interactive control elements. We will use single varible for the sake of simplicity of visualization."
   ]
  },
  {
   "cell_type": "markdown",
   "id": "8965b558",
   "metadata": {},
   "source": [
    "<br>\n",
    "<font face=\"Helvetica\" size=\"3px\" color=\"#323752\"> Let's start with importing the widget functions."
   ]
  },
  {
   "cell_type": "code",
   "execution_count": 39,
   "id": "9bf70d81",
   "metadata": {},
   "outputs": [],
   "source": [
    "from ipywidgets import interact, interactive, IntSlider, Layout"
   ]
  },
  {
   "cell_type": "markdown",
   "id": "b5294e10",
   "metadata": {},
   "source": [
    "<br>\n",
    "<font face=\"Helvetica\" size=\"3px\" color=\"#323752\"> The following widgets  allow the user to introduce noise, change model complexity, and examine the impact of regularization, all on the fly and see the resulting model and predictions instantly."
   ]
  },
  {
   "cell_type": "markdown",
   "id": "f6bc153d",
   "metadata": {},
   "source": [
    "<br>\n",
    "<font face=\"Helvetica\" size=\"3px\" color=\"#323752\"> The first widget will create data samples with different parameters. User can change the number of the data points, lower and upper limit of the range. Also magnitude, mean, and standard deviation of the noise are the other parameters that can be changed. Constructed data points will be spliting to test and training data in the following widget."
   ]
  },
  {
   "cell_type": "code",
   "execution_count": 40,
   "id": "4983d788",
   "metadata": {},
   "outputs": [],
   "source": [
    "def func_log(N_samples,x_min,x_max,noise_magnitude,noise_sd,noise_mean):\n",
    "    x= np.linspace(x_min,x_max,N_samples*5)\n",
    "    x1= np.random.choice(x,size=N_samples)\n",
    "    x2= np.random.choice(x,size=N_samples)\n",
    "    y=1.5*x1-2*x2\n",
    "    yn= y+noise_magnitude*np.random.normal(loc=noise_mean,scale=noise_sd,size=N_samples)\n",
    "    \n",
    "    plt.figure(figsize=(8,5))\n",
    "    c = [i < 0 for i in y]\n",
    "    f, ax = plt.subplots(figsize=(8, 6))\n",
    "    #ax.contour(xx, yy, probs, levels=[.5], cmap=\"Greys\", vmin=0, vmax=.6)\n",
    "    ax.set_xlim(left=x_min*1.2,right=x_max*1.2)\n",
    "    ax.set_ylim(bottom=x_min*1.2,top=x_max*1.2)\n",
    "    ax.scatter(x1,x2,c=c,edgecolors='k',s=80)\n",
    "    plt.grid(True)\n",
    "    plt.show()\n",
    "    \n",
    "    return (np.array(x),np.array(y),np.array(yn),np.array(x1),np.array(x2))\n"
   ]
  },
  {
   "cell_type": "code",
   "execution_count": 41,
   "id": "4d205d00",
   "metadata": {
    "scrolled": false
   },
   "outputs": [
    {
     "data": {
      "application/vnd.jupyter.widget-view+json": {
       "model_id": "ac15e352bd8b4b828213c8c92dea967a",
       "version_major": 2,
       "version_minor": 0
      },
      "text/plain": [
       "interactive(children=(Dropdown(description='N_samples', options={'Low (75 samples)': 75, 'High (250 samples)':…"
      ]
     },
     "metadata": {},
     "output_type": "display_data"
    }
   ],
   "source": [
    "pl=interactive(func_log,N_samples={'Low (75 samples)':75,'High (250 samples)':200},x_min=(-5,0,1), x_max=(0,5,1),\n",
    "              noise_magnitude=(0,5,1),noise_sd=(0.1,1,0.1),noise_mean=(-2,2,0.5))\n",
    "\n",
    "pl"
   ]
  },
  {
   "cell_type": "code",
   "execution_count": 42,
   "id": "37e4d1b3",
   "metadata": {},
   "outputs": [
    {
     "data": {
      "text/html": [
       "<div>\n",
       "<style scoped>\n",
       "    .dataframe tbody tr th:only-of-type {\n",
       "        vertical-align: middle;\n",
       "    }\n",
       "\n",
       "    .dataframe tbody tr th {\n",
       "        vertical-align: top;\n",
       "    }\n",
       "\n",
       "    .dataframe thead th {\n",
       "        text-align: right;\n",
       "    }\n",
       "</style>\n",
       "<table border=\"1\" class=\"dataframe\">\n",
       "  <thead>\n",
       "    <tr style=\"text-align: right;\">\n",
       "      <th></th>\n",
       "      <th>X1</th>\n",
       "      <th>X2</th>\n",
       "      <th>out</th>\n",
       "      <th>y</th>\n",
       "    </tr>\n",
       "  </thead>\n",
       "  <tbody>\n",
       "    <tr>\n",
       "      <th>0</th>\n",
       "      <td>1.184492</td>\n",
       "      <td>-0.085561</td>\n",
       "      <td>3.583875</td>\n",
       "      <td>1</td>\n",
       "    </tr>\n",
       "    <tr>\n",
       "      <th>1</th>\n",
       "      <td>1.024064</td>\n",
       "      <td>0.288770</td>\n",
       "      <td>2.093391</td>\n",
       "      <td>1</td>\n",
       "    </tr>\n",
       "    <tr>\n",
       "      <th>2</th>\n",
       "      <td>-1.997326</td>\n",
       "      <td>-0.580214</td>\n",
       "      <td>-0.732329</td>\n",
       "      <td>0</td>\n",
       "    </tr>\n",
       "    <tr>\n",
       "      <th>3</th>\n",
       "      <td>0.516043</td>\n",
       "      <td>-0.058824</td>\n",
       "      <td>0.512931</td>\n",
       "      <td>1</td>\n",
       "    </tr>\n",
       "    <tr>\n",
       "      <th>4</th>\n",
       "      <td>-0.433155</td>\n",
       "      <td>0.689840</td>\n",
       "      <td>0.164315</td>\n",
       "      <td>1</td>\n",
       "    </tr>\n",
       "  </tbody>\n",
       "</table>\n",
       "</div>"
      ],
      "text/plain": [
       "         X1        X2       out  y\n",
       "0  1.184492 -0.085561  3.583875  1\n",
       "1  1.024064  0.288770  2.093391  1\n",
       "2 -1.997326 -0.580214 -0.732329  0\n",
       "3  0.516043 -0.058824  0.512931  1\n",
       "4 -0.433155  0.689840  0.164315  1"
      ]
     },
     "execution_count": 42,
     "metadata": {},
     "output_type": "execute_result"
    }
   ],
   "source": [
    "xl,yl,ynl,x1l,x2l = pl.result\n",
    "dic = {'X1':x1l,'X2':x2l,'out':ynl}\n",
    "df = pd.DataFrame(data=dic)\n",
    "\n",
    "def boolean (x):\n",
    "    return int(x>0)\n",
    "df['y']=df['out'].apply(boolean)\n",
    "df.head()"
   ]
  },
  {
   "cell_type": "code",
   "execution_count": 43,
   "id": "fae91c43",
   "metadata": {},
   "outputs": [],
   "source": [
    "def log_fit(C,test_size,penalty):\n",
    "    \n",
    "    X_train, X_test, y_train, y_test = train_test_split(df[['X1','X2']],df['y'],test_size=test_size,random_state=101)\n",
    "    \n",
    "    df_test=pd.DataFrame(X_test,columns=['X1','X2'])\n",
    "    df_test['y']=y_test\n",
    "    \n",
    "    df_train=pd.DataFrame(X_train,columns=['X1','X2'])\n",
    "    df_train['y']=y_train\n",
    "    \n",
    "    if (penalty=='L1 norm'):\n",
    "        logm = LogisticRegressionCV(Cs=[np.power(10,-C)],penalty='l1',solver='saga')\n",
    "    if (penalty=='L2 norm'):\n",
    "        logm = LogisticRegressionCV(Cs=[np.power(10,-C)],penalty='l2',solver='lbfgs')\n",
    "    \n",
    "    logm.fit(X_train,y_train)\n",
    "    \n",
    "    train_score = logm.score(X_train,y_train)\n",
    "    test_score = logm.score(X_test,y_test)\n",
    "    \n",
    "    xx, yy = np.mgrid[-5:5:.01, -5:5:.01]\n",
    "    grid = np.c_[xx.ravel(), yy.ravel()]\n",
    "    probs = logm.predict_proba(grid)[:, 1].reshape(xx.shape)\n",
    "        \n",
    "    c_test = [i for i in df_test['y']]\n",
    "    c_train = [i for i in df_train['y']]\n",
    "    \n",
    "    f, ax = plt.subplots(nrows=1,ncols=2,figsize=(15,7))\n",
    "    contour = ax[0].contourf(xx, yy, probs, 25, cmap=\"Blues\",vmin=0, vmax=1)\n",
    "    ax1_c = f.colorbar(contour)\n",
    "    ax1_c.set_label(\"$Prob\\ (y = 1)$\",fontsize=15)\n",
    "    ax1_c.set_ticks([0, .25, .5, .75, 1])\n",
    "    ax[0].set_xlabel(\"$X_1$\",fontsize=15)\n",
    "    ax[0].set_ylabel(\"$X_2$\",fontsize=15)\n",
    "    ax[0].contour(xx, yy, probs, levels=[.5], cmap=\"Greys\", vmin=0, vmax=0.6,lw=3)\n",
    "    \n",
    "    ax[0].scatter(df_test['X1'],df_test['X2'],c=c_test,edgecolors='k',s=100)\n",
    "    ax[0].set_title(\"\\nTest score: %.3f\\n\"%(test_score),fontsize=20)\n",
    "    \n",
    "    contour = ax[1].contourf(xx, yy, probs, 25, cmap=\"Blues\",vmin=0, vmax=1)\n",
    "    #ax2_c = f.colorbar(contour)\n",
    "    #ax2_c.set_label(\"$Prob\\ (y = 1)$\",fontsize=15)\n",
    "    #ax2_c.set_ticks([0, .25, .5, .75, 1])\n",
    "    ax[1].set_xlabel(\"$X_1$\",fontsize=15)\n",
    "    ax[1].set_ylabel(\"$X_2$\",fontsize=15)\n",
    "    ax[1].contour(xx, yy, probs, levels=[.5], cmap=\"Greys\", vmin=0, vmax=0.6,lw=3)\n",
    "    \n",
    "    ax[1].scatter(df_train['X1'],df_train['X2'],c=c_train,edgecolors='k',s=100)\n",
    "    ax[1].set_title(\"\\nTraining score: %.3f\\n\"%(train_score),fontsize=20)\n",
    "        \n",
    "    plt.grid(True)\n",
    "    plt.tight_layout()\n",
    "    plt.show()\n",
    "      \n",
    "    return (train_score,test_score)"
   ]
  },
  {
   "cell_type": "markdown",
   "id": "10ae9cfa",
   "metadata": {},
   "source": [
    "<br>\n",
    "<font face=\"Helvetica\" size=\"3px\" color=\"#323752\">Let's talk about the following interactive hyperparameters.<b> Regularization</b>  is any modification we make to a learning algorithm that is intended to reduce its generalization error but not its training error, basically complexity of the model (C: degree of the polynomial). The following one is <b> test fraction </b> which determines the size of the test set (fraction of total sample data used in test). And the last one is <b>regularization type</b>, L1: LASSO and L2: Ridge.   "
   ]
  },
  {
   "cell_type": "markdown",
   "id": "5a1f2d10",
   "metadata": {},
   "source": [
    "<br>\n",
    "<font face=\"Helvetica\" size=\"3px\" color=\"#323752\"> You can observe the test and training scores by changing these parameters."
   ]
  },
  {
   "cell_type": "code",
   "execution_count": 44,
   "id": "5ba09969",
   "metadata": {
    "scrolled": false
   },
   "outputs": [
    {
     "data": {
      "application/vnd.jupyter.widget-view+json": {
       "model_id": "5af0079fb3c14cc8bf2aaa1d69e06667",
       "version_major": 2,
       "version_minor": 0
      },
      "text/plain": [
       "interactive(children=(FloatSlider(value=0.0, continuous_update=False, description='Regularization ($10^{-C}$),…"
      ]
     },
     "metadata": {},
     "output_type": "display_data"
    }
   ],
   "source": [
    "from ipywidgets import HBox, Label, FloatSlider\n",
    "\n",
    "style = {'description_width': 'initial'}\n",
    "\n",
    "lb1=Label (value=\"Play with options and watch the probability space evolve dynamically. \\\n",
    "Remember, smaller the value of $C$, stronger the regularization strength\",fontsize=15)\n",
    "\n",
    "logp=interactive(log_fit,C=FloatSlider(value=0,min=0,max=2,step=0.1,\n",
    "                                       description='Regularization ($10^{-C}$), $C$', style=style,continuous_update=False),\n",
    "                 test_size=FloatSlider(value=0.1,min=0.1,max=0.5,step=0.1,\n",
    "                                       description = 'Test fraction ($X_{test}$)', style=style),\n",
    "                penalty=widgets.RadioButtons(options=[\"L1 norm\",\"L2 norm\"], description = 'Penalty norm'))\n",
    "\n",
    "\n",
    "output = logp.children[-1]\n",
    "output.layout.height = '500px'\n",
    "output.layout.width = '1000px'\n",
    "\n",
    "lb1\n",
    "logp"
   ]
  }
 ],
 "metadata": {
  "kernelspec": {
   "display_name": "Python 3",
   "language": "python",
   "name": "python3"
  },
  "language_info": {
   "codemirror_mode": {
    "name": "ipython",
    "version": 3
   },
   "file_extension": ".py",
   "mimetype": "text/x-python",
   "name": "python",
   "nbconvert_exporter": "python",
   "pygments_lexer": "ipython3",
   "version": "3.7.11"
  }
 },
 "nbformat": 4,
 "nbformat_minor": 5
}
